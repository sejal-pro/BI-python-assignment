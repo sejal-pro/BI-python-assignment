{
  "nbformat": 4,
  "nbformat_minor": 0,
  "metadata": {
    "colab": {
      "name": "bipython.ipynb",
      "provenance": []
    },
    "kernelspec": {
      "name": "python3",
      "display_name": "Python 3"
    },
    "language_info": {
      "name": "python"
    }
  },
  "cells": [
    {
      "cell_type": "markdown",
      "metadata": {
        "id": "TS68NfjYyhlD"
      },
      "source": [
        "**Problem 1:**"
      ]
    },
    {
      "cell_type": "code",
      "metadata": {
        "id": "NIZw4aWsWY4K"
      },
      "source": [
        "import pandas as pd\n",
        "import numpy as np"
      ],
      "execution_count": 3,
      "outputs": []
    },
    {
      "cell_type": "code",
      "metadata": {
        "id": "qdGgRfZVWo78"
      },
      "source": [
        "df1=pd.read_csv('/content/athlete_events.csv')\n",
        "df2=pd.read_csv('/content/noc_regions.csv')"
      ],
      "execution_count": 5,
      "outputs": []
    },
    {
      "cell_type": "code",
      "metadata": {
        "colab": {
          "base_uri": "https://localhost:8080/",
          "height": 287
        },
        "id": "FU1JeJJeZ64t",
        "outputId": "c7b0bb40-bc07-4fc3-8377-4ab554f8e783"
      },
      "source": [
        "df1.head()"
      ],
      "execution_count": 6,
      "outputs": [
        {
          "output_type": "execute_result",
          "data": {
            "text/html": [
              "<div>\n",
              "<style scoped>\n",
              "    .dataframe tbody tr th:only-of-type {\n",
              "        vertical-align: middle;\n",
              "    }\n",
              "\n",
              "    .dataframe tbody tr th {\n",
              "        vertical-align: top;\n",
              "    }\n",
              "\n",
              "    .dataframe thead th {\n",
              "        text-align: right;\n",
              "    }\n",
              "</style>\n",
              "<table border=\"1\" class=\"dataframe\">\n",
              "  <thead>\n",
              "    <tr style=\"text-align: right;\">\n",
              "      <th></th>\n",
              "      <th>ID</th>\n",
              "      <th>Name</th>\n",
              "      <th>Sex</th>\n",
              "      <th>Age</th>\n",
              "      <th>Height</th>\n",
              "      <th>Weight</th>\n",
              "      <th>Team</th>\n",
              "      <th>NOC</th>\n",
              "      <th>Games</th>\n",
              "      <th>Year</th>\n",
              "      <th>Season</th>\n",
              "      <th>City</th>\n",
              "      <th>Sport</th>\n",
              "      <th>Event</th>\n",
              "      <th>Medal</th>\n",
              "    </tr>\n",
              "  </thead>\n",
              "  <tbody>\n",
              "    <tr>\n",
              "      <th>0</th>\n",
              "      <td>1</td>\n",
              "      <td>A Dijiang</td>\n",
              "      <td>M</td>\n",
              "      <td>24.0</td>\n",
              "      <td>180.0</td>\n",
              "      <td>80.0</td>\n",
              "      <td>China</td>\n",
              "      <td>CHN</td>\n",
              "      <td>1992 Summer</td>\n",
              "      <td>1992</td>\n",
              "      <td>Summer</td>\n",
              "      <td>Barcelona</td>\n",
              "      <td>Basketball</td>\n",
              "      <td>Basketball Men's Basketball</td>\n",
              "      <td>NaN</td>\n",
              "    </tr>\n",
              "    <tr>\n",
              "      <th>1</th>\n",
              "      <td>2</td>\n",
              "      <td>A Lamusi</td>\n",
              "      <td>M</td>\n",
              "      <td>23.0</td>\n",
              "      <td>170.0</td>\n",
              "      <td>60.0</td>\n",
              "      <td>China</td>\n",
              "      <td>CHN</td>\n",
              "      <td>2012 Summer</td>\n",
              "      <td>2012</td>\n",
              "      <td>Summer</td>\n",
              "      <td>London</td>\n",
              "      <td>Judo</td>\n",
              "      <td>Judo Men's Extra-Lightweight</td>\n",
              "      <td>NaN</td>\n",
              "    </tr>\n",
              "    <tr>\n",
              "      <th>2</th>\n",
              "      <td>3</td>\n",
              "      <td>Gunnar Nielsen Aaby</td>\n",
              "      <td>M</td>\n",
              "      <td>24.0</td>\n",
              "      <td>NaN</td>\n",
              "      <td>NaN</td>\n",
              "      <td>Denmark</td>\n",
              "      <td>DEN</td>\n",
              "      <td>1920 Summer</td>\n",
              "      <td>1920</td>\n",
              "      <td>Summer</td>\n",
              "      <td>Antwerpen</td>\n",
              "      <td>Football</td>\n",
              "      <td>Football Men's Football</td>\n",
              "      <td>NaN</td>\n",
              "    </tr>\n",
              "    <tr>\n",
              "      <th>3</th>\n",
              "      <td>4</td>\n",
              "      <td>Edgar Lindenau Aabye</td>\n",
              "      <td>M</td>\n",
              "      <td>34.0</td>\n",
              "      <td>NaN</td>\n",
              "      <td>NaN</td>\n",
              "      <td>Denmark/Sweden</td>\n",
              "      <td>DEN</td>\n",
              "      <td>1900 Summer</td>\n",
              "      <td>1900</td>\n",
              "      <td>Summer</td>\n",
              "      <td>Paris</td>\n",
              "      <td>Tug-Of-War</td>\n",
              "      <td>Tug-Of-War Men's Tug-Of-War</td>\n",
              "      <td>Gold</td>\n",
              "    </tr>\n",
              "    <tr>\n",
              "      <th>4</th>\n",
              "      <td>5</td>\n",
              "      <td>Christine Jacoba Aaftink</td>\n",
              "      <td>F</td>\n",
              "      <td>21.0</td>\n",
              "      <td>185.0</td>\n",
              "      <td>82.0</td>\n",
              "      <td>Netherlands</td>\n",
              "      <td>NED</td>\n",
              "      <td>1988 Winter</td>\n",
              "      <td>1988</td>\n",
              "      <td>Winter</td>\n",
              "      <td>Calgary</td>\n",
              "      <td>Speed Skating</td>\n",
              "      <td>Speed Skating Women's 500 metres</td>\n",
              "      <td>NaN</td>\n",
              "    </tr>\n",
              "  </tbody>\n",
              "</table>\n",
              "</div>"
            ],
            "text/plain": [
              "   ID                      Name  ...                             Event  Medal\n",
              "0   1                 A Dijiang  ...       Basketball Men's Basketball    NaN\n",
              "1   2                  A Lamusi  ...      Judo Men's Extra-Lightweight    NaN\n",
              "2   3       Gunnar Nielsen Aaby  ...           Football Men's Football    NaN\n",
              "3   4      Edgar Lindenau Aabye  ...       Tug-Of-War Men's Tug-Of-War   Gold\n",
              "4   5  Christine Jacoba Aaftink  ...  Speed Skating Women's 500 metres    NaN\n",
              "\n",
              "[5 rows x 15 columns]"
            ]
          },
          "metadata": {},
          "execution_count": 6
        }
      ]
    },
    {
      "cell_type": "code",
      "metadata": {
        "colab": {
          "base_uri": "https://localhost:8080/",
          "height": 203
        },
        "id": "3kqB1fYfZ9Md",
        "outputId": "7fe6bff8-0ca7-49cf-c214-b4b8f6cf2b6a"
      },
      "source": [
        "df2.head()"
      ],
      "execution_count": 7,
      "outputs": [
        {
          "output_type": "execute_result",
          "data": {
            "text/html": [
              "<div>\n",
              "<style scoped>\n",
              "    .dataframe tbody tr th:only-of-type {\n",
              "        vertical-align: middle;\n",
              "    }\n",
              "\n",
              "    .dataframe tbody tr th {\n",
              "        vertical-align: top;\n",
              "    }\n",
              "\n",
              "    .dataframe thead th {\n",
              "        text-align: right;\n",
              "    }\n",
              "</style>\n",
              "<table border=\"1\" class=\"dataframe\">\n",
              "  <thead>\n",
              "    <tr style=\"text-align: right;\">\n",
              "      <th></th>\n",
              "      <th>NOC</th>\n",
              "      <th>region</th>\n",
              "      <th>notes</th>\n",
              "    </tr>\n",
              "  </thead>\n",
              "  <tbody>\n",
              "    <tr>\n",
              "      <th>0</th>\n",
              "      <td>AFG</td>\n",
              "      <td>Afghanistan</td>\n",
              "      <td>NaN</td>\n",
              "    </tr>\n",
              "    <tr>\n",
              "      <th>1</th>\n",
              "      <td>AHO</td>\n",
              "      <td>Curacao</td>\n",
              "      <td>Netherlands Antilles</td>\n",
              "    </tr>\n",
              "    <tr>\n",
              "      <th>2</th>\n",
              "      <td>ALB</td>\n",
              "      <td>Albania</td>\n",
              "      <td>NaN</td>\n",
              "    </tr>\n",
              "    <tr>\n",
              "      <th>3</th>\n",
              "      <td>ALG</td>\n",
              "      <td>Algeria</td>\n",
              "      <td>NaN</td>\n",
              "    </tr>\n",
              "    <tr>\n",
              "      <th>4</th>\n",
              "      <td>AND</td>\n",
              "      <td>Andorra</td>\n",
              "      <td>NaN</td>\n",
              "    </tr>\n",
              "  </tbody>\n",
              "</table>\n",
              "</div>"
            ],
            "text/plain": [
              "   NOC       region                 notes\n",
              "0  AFG  Afghanistan                   NaN\n",
              "1  AHO      Curacao  Netherlands Antilles\n",
              "2  ALB      Albania                   NaN\n",
              "3  ALG      Algeria                   NaN\n",
              "4  AND      Andorra                   NaN"
            ]
          },
          "metadata": {},
          "execution_count": 7
        }
      ]
    },
    {
      "cell_type": "code",
      "metadata": {
        "colab": {
          "base_uri": "https://localhost:8080/"
        },
        "id": "7lZaIer7aVJg",
        "outputId": "d644c2ba-5b34-496d-c0c9-a769872b63ce"
      },
      "source": [
        "df2.region.value_counts()"
      ],
      "execution_count": 8,
      "outputs": [
        {
          "output_type": "execute_result",
          "data": {
            "text/plain": [
              "Germany           4\n",
              "Russia            3\n",
              "Serbia            3\n",
              "Czech Republic    3\n",
              "Malaysia          3\n",
              "                 ..\n",
              "Chad              1\n",
              "Belize            1\n",
              "Grenada           1\n",
              "Timor-Leste       1\n",
              "Algeria           1\n",
              "Name: region, Length: 206, dtype: int64"
            ]
          },
          "metadata": {},
          "execution_count": 8
        }
      ]
    },
    {
      "cell_type": "code",
      "metadata": {
        "colab": {
          "base_uri": "https://localhost:8080/"
        },
        "id": "rlfo_B7kab2e",
        "outputId": "2aeb5eb4-b574-409d-fc1e-5a2e733bc1a0"
      },
      "source": [
        "df1.shape,df2.shape"
      ],
      "execution_count": 10,
      "outputs": [
        {
          "output_type": "execute_result",
          "data": {
            "text/plain": [
              "((271116, 15), (230, 3))"
            ]
          },
          "metadata": {},
          "execution_count": 10
        }
      ]
    },
    {
      "cell_type": "code",
      "metadata": {
        "colab": {
          "base_uri": "https://localhost:8080/"
        },
        "id": "Cq0Sxn3mamSw",
        "outputId": "b0e5140d-3c29-4fd2-ca8e-b6f8e3cfcf5c"
      },
      "source": [
        "df1.isnull().sum()"
      ],
      "execution_count": 12,
      "outputs": [
        {
          "output_type": "execute_result",
          "data": {
            "text/plain": [
              "ID             0\n",
              "Name           0\n",
              "Sex            0\n",
              "Age         9474\n",
              "Height     60171\n",
              "Weight     62875\n",
              "Team           0\n",
              "NOC            0\n",
              "Games          0\n",
              "Year           0\n",
              "Season         0\n",
              "City           0\n",
              "Sport          0\n",
              "Event          0\n",
              "Medal     231333\n",
              "dtype: int64"
            ]
          },
          "metadata": {},
          "execution_count": 12
        }
      ]
    },
    {
      "cell_type": "code",
      "metadata": {
        "colab": {
          "base_uri": "https://localhost:8080/"
        },
        "id": "YRfUhAq5axvL",
        "outputId": "1247d8fe-cb11-4747-bfbf-6b7adb44107d"
      },
      "source": [
        "df2.isnull().sum()"
      ],
      "execution_count": 13,
      "outputs": [
        {
          "output_type": "execute_result",
          "data": {
            "text/plain": [
              "NOC         0\n",
              "region      3\n",
              "notes     209\n",
              "dtype: int64"
            ]
          },
          "metadata": {},
          "execution_count": 13
        }
      ]
    },
    {
      "cell_type": "markdown",
      "metadata": {
        "id": "EfEWA56nbUaQ"
      },
      "source": [
        "1. Handle null values in dataset and remove unwanted symbols if any"
      ]
    },
    {
      "cell_type": "code",
      "metadata": {
        "id": "cHH1GOHpbX4p"
      },
      "source": [
        "df1['Age'] = df1['Age'].fillna(df1['Age'].mean())\n",
        "df1['Height'] = df1['Height'].fillna(df1['Height'].mean())\n",
        "df1['Weight'] = df1['Weight'].fillna(df1['Weight'].mean())\n",
        "df1['Medal'] = df1['Medal'].fillna('unknown')"
      ],
      "execution_count": 14,
      "outputs": []
    },
    {
      "cell_type": "code",
      "metadata": {
        "colab": {
          "base_uri": "https://localhost:8080/"
        },
        "id": "vsA-auHlbk0z",
        "outputId": "bbb9cb66-0940-4bb0-c469-32cccb66e75c"
      },
      "source": [
        "df1['Age'].mean(), df1['Height'].mean(), df1['Weight'].mean()"
      ],
      "execution_count": 15,
      "outputs": [
        {
          "output_type": "execute_result",
          "data": {
            "text/plain": [
              "(25.55689835729893, 175.3389698736043, 70.70239290055207)"
            ]
          },
          "metadata": {},
          "execution_count": 15
        }
      ]
    },
    {
      "cell_type": "code",
      "metadata": {
        "colab": {
          "base_uri": "https://localhost:8080/"
        },
        "id": "yNkoGMGJbz55",
        "outputId": "ace8a65b-972a-4b43-8fd8-cd328babe22a"
      },
      "source": [
        "df1.isnull().sum()"
      ],
      "execution_count": 16,
      "outputs": [
        {
          "output_type": "execute_result",
          "data": {
            "text/plain": [
              "ID        0\n",
              "Name      0\n",
              "Sex       0\n",
              "Age       0\n",
              "Height    0\n",
              "Weight    0\n",
              "Team      0\n",
              "NOC       0\n",
              "Games     0\n",
              "Year      0\n",
              "Season    0\n",
              "City      0\n",
              "Sport     0\n",
              "Event     0\n",
              "Medal     0\n",
              "dtype: int64"
            ]
          },
          "metadata": {},
          "execution_count": 16
        }
      ]
    },
    {
      "cell_type": "markdown",
      "metadata": {
        "id": "hA2ShN9vcT-R"
      },
      "source": [
        "2. What is the unique count of sports, events, and different city, and the team participated\n",
        "in the Olympics.\n",
        "\n"
      ]
    },
    {
      "cell_type": "code",
      "metadata": {
        "colab": {
          "base_uri": "https://localhost:8080/"
        },
        "id": "r7PuG2gHcVSR",
        "outputId": "e3c548a1-7503-4810-8e43-60240032eb61"
      },
      "source": [
        "df1[['Team','City','Sport','Event']].nunique()"
      ],
      "execution_count": 17,
      "outputs": [
        {
          "output_type": "execute_result",
          "data": {
            "text/plain": [
              "Team     1184\n",
              "City       42\n",
              "Sport      66\n",
              "Event     765\n",
              "dtype: int64"
            ]
          },
          "metadata": {},
          "execution_count": 17
        }
      ]
    },
    {
      "cell_type": "markdown",
      "metadata": {
        "id": "ilaasuSac23K"
      },
      "source": [
        "3. What is the total count of players from the United States, China, Netherland, Spain,\n",
        "France, Italy?"
      ]
    },
    {
      "cell_type": "code",
      "metadata": {
        "colab": {
          "base_uri": "https://localhost:8080/"
        },
        "id": "skxzfYgbc56E",
        "outputId": "0ceb85fd-9c4a-4474-8de0-24bbc69f3214"
      },
      "source": [
        "df1.Team.unique().tolist()"
      ],
      "execution_count": 18,
      "outputs": [
        {
          "output_type": "execute_result",
          "data": {
            "text/plain": [
              "['China',\n",
              " 'Denmark',\n",
              " 'Denmark/Sweden',\n",
              " 'Netherlands',\n",
              " 'United States',\n",
              " 'Finland',\n",
              " 'Norway',\n",
              " 'Romania',\n",
              " 'Estonia',\n",
              " 'France',\n",
              " 'Taifun',\n",
              " 'Morocco',\n",
              " 'Spain',\n",
              " 'Egypt',\n",
              " 'Iran',\n",
              " 'Bulgaria',\n",
              " 'Italy',\n",
              " 'Chad',\n",
              " 'Azerbaijan',\n",
              " 'Sudan',\n",
              " 'Russia',\n",
              " 'Argentina',\n",
              " 'Cuba',\n",
              " 'Belarus',\n",
              " 'Greece',\n",
              " 'Cameroon',\n",
              " 'Turkey',\n",
              " 'Chile',\n",
              " 'Mexico',\n",
              " 'Soviet Union',\n",
              " 'Nicaragua',\n",
              " 'Hungary',\n",
              " 'Nigeria',\n",
              " 'Algeria',\n",
              " 'Kuwait',\n",
              " 'Bahrain',\n",
              " 'Pakistan',\n",
              " 'Iraq',\n",
              " 'United Arab Republic',\n",
              " 'Lebanon',\n",
              " 'Qatar',\n",
              " 'Malaysia',\n",
              " 'Germany',\n",
              " 'Thessalonki-1',\n",
              " 'Canada',\n",
              " 'Ireland',\n",
              " 'Australia',\n",
              " 'South Africa',\n",
              " 'Eritrea',\n",
              " 'Tanzania',\n",
              " 'Jordan',\n",
              " 'Tunisia',\n",
              " 'Libya',\n",
              " 'Belgium',\n",
              " 'Djibouti',\n",
              " 'Palestine',\n",
              " 'Comoros',\n",
              " 'Kazakhstan',\n",
              " 'Brunei',\n",
              " 'India',\n",
              " 'Saudi Arabia',\n",
              " 'Syria',\n",
              " 'Maldives',\n",
              " 'Ethiopia',\n",
              " 'United Arab Emirates',\n",
              " 'North Yemen',\n",
              " 'Indonesia',\n",
              " 'Philippines',\n",
              " 'Singapore',\n",
              " 'Uzbekistan',\n",
              " 'Kyrgyzstan',\n",
              " 'Tajikistan',\n",
              " 'Unified Team',\n",
              " 'Japan',\n",
              " 'Japan-1',\n",
              " 'Congo (Brazzaville)',\n",
              " 'Switzerland',\n",
              " 'Brazil',\n",
              " 'West Germany',\n",
              " 'East Germany',\n",
              " 'Monaco',\n",
              " 'Fornebo',\n",
              " 'Israel',\n",
              " 'Vesper Boat Club',\n",
              " 'Uruguay',\n",
              " 'Sweden',\n",
              " 'United States Virgin Islands',\n",
              " 'Sri Lanka',\n",
              " 'Armenia',\n",
              " \"Cote d'Ivoire\",\n",
              " 'Kenya',\n",
              " 'Benin',\n",
              " 'France-1',\n",
              " 'Ukraine',\n",
              " 'Great Britain',\n",
              " 'Ghana',\n",
              " 'Somalia',\n",
              " 'Latvia',\n",
              " 'Niger',\n",
              " 'Mali',\n",
              " 'Afghanistan',\n",
              " 'Poland',\n",
              " 'Costa Rica',\n",
              " 'Panama',\n",
              " 'Georgia',\n",
              " 'Slovenia',\n",
              " 'Croatia',\n",
              " 'Russia-2',\n",
              " 'Russia-1',\n",
              " 'Guyana',\n",
              " 'New Zealand',\n",
              " 'Portugal',\n",
              " 'Paraguay',\n",
              " 'Angola',\n",
              " 'Venezuela',\n",
              " 'Colombia',\n",
              " 'Bangladesh',\n",
              " 'Peru',\n",
              " 'El Salvador',\n",
              " 'Puerto Rico',\n",
              " 'France-2',\n",
              " 'Uganda',\n",
              " 'Switzerland-2',\n",
              " 'Switzerland-1',\n",
              " 'Honduras',\n",
              " 'Ecuador',\n",
              " 'Turkmenistan',\n",
              " 'Mauritius',\n",
              " 'Seychelles',\n",
              " 'Czechoslovakia',\n",
              " 'Great Britain-1',\n",
              " 'Luxembourg',\n",
              " 'Mauritania',\n",
              " 'Czech Republic',\n",
              " 'Saint Kitts and Nevis',\n",
              " 'New York Athletic Club #2-4',\n",
              " 'Trinidad and Tobago',\n",
              " 'Dominican Republic',\n",
              " 'Saint Vincent and the Grenadines',\n",
              " 'Mystery',\n",
              " 'Jamaica',\n",
              " 'Liberia',\n",
              " 'Suriname',\n",
              " 'Nigeria-2',\n",
              " 'Nepal',\n",
              " 'Mongolia',\n",
              " 'Germany-2',\n",
              " 'Austria',\n",
              " 'Clementine V',\n",
              " 'Bylina-2',\n",
              " 'Palau',\n",
              " 'Lithuania',\n",
              " 'Togo',\n",
              " 'Namibia',\n",
              " 'Netherlands Antilles',\n",
              " 'Iceland',\n",
              " 'American Samoa',\n",
              " 'Samoa',\n",
              " 'Rwanda',\n",
              " 'Dominica',\n",
              " 'Great Britain-2',\n",
              " 'Haiti',\n",
              " 'Stella-2',\n",
              " 'Malta',\n",
              " 'United States-1',\n",
              " 'United States-2',\n",
              " 'Argentina-2',\n",
              " 'Large boat, Central Naval Prep School \"Poros\"-1',\n",
              " 'Cyprus',\n",
              " 'Guinea',\n",
              " 'Xolotl',\n",
              " 'Belize',\n",
              " 'Matrero II',\n",
              " 'Blue Red',\n",
              " 'Gteborgs Roddklubb-1',\n",
              " 'Indonesia-1',\n",
              " 'Germany-1',\n",
              " 'South Yemen',\n",
              " 'South Korea',\n",
              " 'Lucky Girl-1',\n",
              " 'Mutafo',\n",
              " 'Sweden-2',\n",
              " 'Sweden-1',\n",
              " 'Thailand',\n",
              " 'Italy-2',\n",
              " 'Yeoman VII',\n",
              " 'Yeoman XII',\n",
              " 'Bermuda',\n",
              " 'Australasia',\n",
              " 'Union des Socits Franais de Sports Athletiques',\n",
              " 'Serbia and Montenegro',\n",
              " 'Sierra Leone',\n",
              " 'Bissbi',\n",
              " 'Papua New Guinea',\n",
              " 'Greece-3',\n",
              " 'Yemen',\n",
              " 'Individual Olympic Athletes',\n",
              " 'Oman',\n",
              " 'Fiji',\n",
              " 'Vanuatu',\n",
              " 'France-3',\n",
              " 'Martha-27',\n",
              " 'Martha-1',\n",
              " 'Moldova',\n",
              " 'Canada-2',\n",
              " 'Canada-1',\n",
              " 'Yugoslavia',\n",
              " 'Bahamas',\n",
              " 'Guatemala',\n",
              " 'Burevestnik',\n",
              " 'Druzhba',\n",
              " 'Soviet Union-2',\n",
              " 'Soviet Union-1',\n",
              " 'Olen',\n",
              " 'Serbia',\n",
              " 'British Virgin Islands',\n",
              " 'Mozambique',\n",
              " 'Heatherbell',\n",
              " 'Central African Republic',\n",
              " 'Madagascar',\n",
              " 'Malaya',\n",
              " 'Socit Nautique de Bayonne',\n",
              " 'Bosnia and Herzegovina',\n",
              " 'Guam',\n",
              " 'Brazil-1',\n",
              " 'Cayman Islands',\n",
              " 'Cupidon Viking',\n",
              " 'Damoiselle',\n",
              " 'Slovakia',\n",
              " 'USFSA',\n",
              " 'The Cloud',\n",
              " 'Galerna',\n",
              " 'Heira II',\n",
              " 'Nykjbings paa Falster',\n",
              " 'Barbados',\n",
              " 'Ireland-2',\n",
              " 'Spain-2',\n",
              " 'Guinea Bissau',\n",
              " 'Mohawk Indians-2',\n",
              " 'Tornado',\n",
              " 'Elsie',\n",
              " 'Roma',\n",
              " 'Tajamar',\n",
              " 'Spain-1',\n",
              " 'Lemzos Thorichton \"Spetsai\"-4',\n",
              " 'Norway-2',\n",
              " 'Norway-1',\n",
              " 'Italy-1',\n",
              " 'Puerto Rico-2',\n",
              " 'Mound City Rowing Club-2',\n",
              " 'Timor Leste',\n",
              " 'Amolgavar',\n",
              " 'Congo (Kinshasa)',\n",
              " 'Gabon',\n",
              " 'Ali-Baba II',\n",
              " 'May Be VII',\n",
              " 'East Germany-1',\n",
              " 'San Marino',\n",
              " 'Favorite Hammonia-3',\n",
              " 'Laos',\n",
              " 'Botswana',\n",
              " 'Refugee Olympic Athletes',\n",
              " 'Frankfurt Club',\n",
              " 'Lett',\n",
              " 'GyoshuII',\n",
              " 'North Korea',\n",
              " 'South Korea-2',\n",
              " 'Brazil-2',\n",
              " 'Solomon Islands',\n",
              " 'Dolfijn',\n",
              " 'Senegal',\n",
              " 'Cape Verde',\n",
              " 'Tip',\n",
              " 'Yugoslavia-1',\n",
              " 'rn-2',\n",
              " 'Crete',\n",
              " 'Breslau',\n",
              " 'Germany-3',\n",
              " 'Romania-2',\n",
              " 'Club Nautique de Dieppe-5',\n",
              " 'Norna',\n",
              " 'Fram',\n",
              " 'Magda IX',\n",
              " 'Soviet Union-3',\n",
              " 'Equatorial Guinea',\n",
              " 'Bolivia',\n",
              " 'Saar',\n",
              " 'Andorra',\n",
              " 'Japan-2',\n",
              " 'Austria-1',\n",
              " 'Austria-2',\n",
              " 'Antigua and Barbuda',\n",
              " 'EA II',\n",
              " 'Canada-3',\n",
              " 'Czechoslovakia-3',\n",
              " 'Linglom',\n",
              " 'Denmark-2',\n",
              " 'Mosk II',\n",
              " 'Latvia-2',\n",
              " 'Elisabeth X',\n",
              " 'Sweden-3',\n",
              " 'Ludwigshafener Ruderverein',\n",
              " 'Australia-2',\n",
              " 'Latvia-1',\n",
              " 'Guyoni',\n",
              " 'Greece-1',\n",
              " 'Greece-2',\n",
              " 'West Germany-2',\n",
              " 'La Salle Turnverein, Chicago',\n",
              " 'Gallant',\n",
              " 'Zimbabwe',\n",
              " 'Grenada',\n",
              " 'Hera-1',\n",
              " 'Swedish Star',\n",
              " 'Bulgaria-1',\n",
              " 'Nautikos Omilos-3',\n",
              " 'Wolseley-Siddeley-1',\n",
              " 'Hong Kong',\n",
              " 'Ciocca II',\n",
              " 'Mirtala',\n",
              " 'Saint Lucia',\n",
              " 'Carabinier-5',\n",
              " 'Pettit-Poucet-6',\n",
              " 'Carabinier-15',\n",
              " 'Federated States of Micronesia',\n",
              " 'Myanmar',\n",
              " 'Hirondelle',\n",
              " 'Kerstin-1',\n",
              " 'Evita VI',\n",
              " 'Ukraine-2',\n",
              " 'Russia-3',\n",
              " 'Malawi',\n",
              " 'Belarus-1',\n",
              " 'United States-3',\n",
              " 'Bronia',\n",
              " 'Zambia',\n",
              " 'Denmark-1',\n",
              " 'Bluebottle',\n",
              " 'West Germany-1',\n",
              " 'Rhodesia',\n",
              " 'East Germany-2',\n",
              " 'Snap',\n",
              " 'Chinese Taipei-1',\n",
              " 'Sao Tome and Principe',\n",
              " 'Toronto Argonauts',\n",
              " 'England-1',\n",
              " 'Hungaria Evezos Egylet',\n",
              " 'Poland-1',\n",
              " 'Macedonia',\n",
              " 'Bohemia',\n",
              " 'Argonaut Rowing Club',\n",
              " 'Life boat naval ship \"Spetsai\"-1',\n",
              " 'Australia-1',\n",
              " 'Tonga',\n",
              " 'Nigeria-1',\n",
              " 'Fortuna',\n",
              " 'Starlight III',\n",
              " 'Liechtenstein',\n",
              " 'Pan',\n",
              " 'Montenegro',\n",
              " 'Leander Club-2',\n",
              " 'Lemzos Thorichton \"Psara\"-3',\n",
              " 'London City Police-1',\n",
              " 'Great Britain-3',\n",
              " 'Sabre',\n",
              " 'Firebird II',\n",
              " 'Berliner Ruderverein von 1876-2',\n",
              " \"Christian Brothers' College-1\",\n",
              " 'Czechoslovakia-1',\n",
              " 'Czechoslovakia-2',\n",
              " 'Passaic Turnverein, Passaic',\n",
              " 'Primorka',\n",
              " 'Gambia',\n",
              " 'Racing Club de France',\n",
              " 'Grifo III',\n",
              " 'Grifo IV',\n",
              " 'Bingo',\n",
              " 'Damoiselle IV',\n",
              " 'Crabe II-12',\n",
              " 'Nina Claire-30',\n",
              " 'Crabe II-1',\n",
              " 'Crabe II-4',\n",
              " 'Nina Claire-2',\n",
              " \"Qu'Importe\",\n",
              " 'Konstanz',\n",
              " 'Suzy-2',\n",
              " 'Mouchette-2',\n",
              " 'Dansk Idrts Forbund',\n",
              " 'Marmara',\n",
              " 'Moseley Wanderers',\n",
              " 'Chicago Athletic Association-2',\n",
              " 'Devon and Somerset Wanderers',\n",
              " 'Unified Team-2',\n",
              " 'Mistral Hojris',\n",
              " 'Cook Islands',\n",
              " 'Mauritius-2',\n",
              " 'Albania',\n",
              " 'Romania-1',\n",
              " 'Pampero',\n",
              " 'Israel-2',\n",
              " 'Symphony',\n",
              " 'Sjhxa',\n",
              " 'Faneca',\n",
              " 'Ciocca III',\n",
              " 'Marinai della nave da guerra \"Varese\"',\n",
              " 'Lalage',\n",
              " 'Gallia II',\n",
              " 'Dinah V',\n",
              " 'Czech Republic-2',\n",
              " 'Nora',\n",
              " 'Monica',\n",
              " 'Kullan',\n",
              " 'Shoveller',\n",
              " 'Amateur Athletic Association',\n",
              " 'Circus',\n",
              " 'Aletta',\n",
              " 'Widgeon',\n",
              " 'Inca',\n",
              " 'Czech Republic-1',\n",
              " 'Relampago',\n",
              " 'Foxhunters Hurlingham',\n",
              " 'Thames Rowing Club',\n",
              " 'Davenport Turngemeinde, Davenport',\n",
              " 'Norwegier Turnverein, Brooklyn',\n",
              " 'Erna Signe',\n",
              " 'Sirene',\n",
              " 'Socit Nautique de Bayonne-2',\n",
              " 'Socit Nautique de Bayonne-1',\n",
              " 'Anitra',\n",
              " 'Snude',\n",
              " 'White Lady',\n",
              " 'Web II',\n",
              " 'Web III',\n",
              " 'Italy-3',\n",
              " 'Pistoja/Firenze',\n",
              " 'West Indies Federation',\n",
              " 'Posillipo III',\n",
              " 'Tritons Lillois-2',\n",
              " 'Turnverein Vorwrts, Cleveland',\n",
              " 'Club Nautique de Franais-1',\n",
              " 'Monaco-1',\n",
              " 'Boreas-2',\n",
              " 'Peri',\n",
              " 'New York Turnverein, New York',\n",
              " 'Tichiboo',\n",
              " 'Siames-Cat',\n",
              " 'Swaziland',\n",
              " 'India-1',\n",
              " 'Italia',\n",
              " 'Ausonia',\n",
              " 'Angelita',\n",
              " 'Burkina Faso',\n",
              " 'Nortazo',\n",
              " 'Tom Kyle',\n",
              " 'Tilly',\n",
              " 'Esterel-1',\n",
              " 'North Borneo',\n",
              " 'Wiking',\n",
              " 'Buraddoo',\n",
              " 'Heroine',\n",
              " 'Burundi',\n",
              " 'Chok',\n",
              " 'Atlanta',\n",
              " 'Germania II',\n",
              " 'Wannsee',\n",
              " 'Polyteknisk Roklub-1',\n",
              " 'Aruba',\n",
              " 'Buscape II',\n",
              " 'Nina',\n",
              " 'Norway-3',\n",
              " 'Kristiania Roklub-1',\n",
              " 'Kristiania Roklub',\n",
              " 'Ormsund Roklub-2',\n",
              " 'Chuckles',\n",
              " 'South Africa-2',\n",
              " 'Chinese Taipei',\n",
              " 'Winnipeg Shamrocks-1',\n",
              " 'Olle',\n",
              " 'United States-10',\n",
              " 'Camelia',\n",
              " 'Aschenbrodel',\n",
              " 'Whitini Star',\n",
              " 'Puerto Rico-1',\n",
              " 'Bera',\n",
              " 'Netherlands-2',\n",
              " 'Slaghoken',\n",
              " 'Slaghoken II',\n",
              " 'Great Britain/Germany',\n",
              " 'Nikh',\n",
              " 'Swift',\n",
              " 'Andorinha',\n",
              " 'Unified Team-1',\n",
              " 'Cupidon III',\n",
              " 'Athens-2',\n",
              " 'Bulgaria-2',\n",
              " 'Marga-2',\n",
              " 'Serendipity',\n",
              " \"L'Aile VI\",\n",
              " \"Cercle de l'Aviron Roubaix-4\",\n",
              " 'Caprice',\n",
              " 'New College, Oxford-2',\n",
              " 'Compigne Polo Club',\n",
              " 'Vision',\n",
              " 'Cambridge University Boat Club-2',\n",
              " 'Trickson VI',\n",
              " 'St. Rose-2',\n",
              " 'Calcinhas',\n",
              " 'Gteborgs Roddfrening-2',\n",
              " 'Minerva Amsterdam',\n",
              " 'Chamukina',\n",
              " 'Nausikaa 4',\n",
              " 'New York Athletic Club-1',\n",
              " 'Arcturus',\n",
              " 'Belgium-1',\n",
              " 'St. Louis Southwest Turnverein #1-2',\n",
              " 'Nauru',\n",
              " 'Jo',\n",
              " 'Lucky Star',\n",
              " 'Namoussa',\n",
              " 'Briar',\n",
              " 'Panhellenios Gymnastikos Syllogos-1',\n",
              " 'Netherlands-1',\n",
              " 'Gabbiano',\n",
              " 'Gran Gesto',\n",
              " 'Ceres II',\n",
              " 'Covunco III',\n",
              " 'Chicago Archers',\n",
              " 'Royal Club Nautique de Gand',\n",
              " 'Roddklubben af 1912-1',\n",
              " 'Roddklubben af 1912-2',\n",
              " 'Bucintoro Venezia-1',\n",
              " 'Bucintoro Venezia',\n",
              " 'Edelweiss II-1',\n",
              " 'Bamba',\n",
              " 'Rush IV',\n",
              " 'Boston Archers',\n",
              " 'Ali-Baba IV',\n",
              " 'Ali-Baba VI',\n",
              " 'Ali-Baba IX',\n",
              " 'Upton Park FC',\n",
              " 'BLO Polo Club, Rugby',\n",
              " 'Hurlingham-2',\n",
              " 'Leander Club-1',\n",
              " 'Indonesia-2',\n",
              " 'Western Rowing Club-3',\n",
              " 'Pigoule',\n",
              " 'South Vietnam',\n",
              " 'Snowten III',\n",
              " 'Hungaria',\n",
              " 'Libellule de Paris',\n",
              " 'Scram',\n",
              " 'United States Virgin Islands-2',\n",
              " 'United States Virgin Islands-1',\n",
              " 'Amstel Amsterdam',\n",
              " 'Scotland-3',\n",
              " 'Peri II',\n",
              " 'Liverpool Police Team-2',\n",
              " 'Vinha',\n",
              " 'Fantasio III',\n",
              " 'Pousse-Moi Pas VII',\n",
              " 'Norwegian Rowing Association',\n",
              " 'LaBandera',\n",
              " 'Gilliatt V',\n",
              " 'United States Golf Association-3',\n",
              " 'Trans-Mississippi Golf Association-2',\n",
              " 'China-2',\n",
              " 'China-1',\n",
              " 'Sarcelle-35',\n",
              " 'Sarcelle-3',\n",
              " 'Tango',\n",
              " 'Argentina-1',\n",
              " 'Brynhild-2',\n",
              " 'Espuma del Mar',\n",
              " 'Twins II',\n",
              " 'Pupilles de Neptune de Lille #2-1',\n",
              " 'Beaver',\n",
              " 'Monaco-2',\n",
              " 'Baccara',\n",
              " 'Cobweb-1',\n",
              " 'Ral-Club Barcelona',\n",
              " 'Vietnam',\n",
              " 'Elvis Va',\n",
              " 'Romolo',\n",
              " 'Aldebaran II',\n",
              " 'Aldebaran',\n",
              " 'Argus',\n",
              " 'Galatea II',\n",
              " 'Twins VIII',\n",
              " 'Antwerpia V',\n",
              " 'Lotta IV',\n",
              " 'Saga-2',\n",
              " 'Mari',\n",
              " 'Paula',\n",
              " 'Oranje',\n",
              " 'Willem-Six',\n",
              " 'DeRuyter',\n",
              " 'Acturus',\n",
              " 'Societ Nautique de la Marne',\n",
              " 'Mexico-2',\n",
              " 'Teresita',\n",
              " 'Barion/Bari-2',\n",
              " 'Eissero VI',\n",
              " 'New York Athletic Club-4',\n",
              " 'K Division Metropolitan Police Team-3',\n",
              " 'Israel-1',\n",
              " 'Hong Kong-1',\n",
              " 'Malaysia-1',\n",
              " 'Cambodia',\n",
              " 'Complex II',\n",
              " 'Allegro',\n",
              " 'Gam II',\n",
              " 'Ylliam VIII',\n",
              " 'Quand-Mme-33',\n",
              " 'Quand-Mme-2',\n",
              " 'United States-9',\n",
              " 'Berliner Ruderclub Sport-Borussia-1',\n",
              " 'Smyrna',\n",
              " 'Chinese Taipei-2',\n",
              " 'Calimucho',\n",
              " 'Bhutan',\n",
              " 'North Korea-1',\n",
              " 'Malaysia-2',\n",
              " 'Kingfisher',\n",
              " 'Yangon',\n",
              " 'Gustel V',\n",
              " 'Sonja II',\n",
              " 'Jill',\n",
              " 'Kiel',\n",
              " 'KNS',\n",
              " 'Galt Football Club',\n",
              " 'Tim-Tam III',\n",
              " 'Uragan',\n",
              " 'Kon-Tiki',\n",
              " 'Babe',\n",
              " 'Poland-2',\n",
              " 'Antares',\n",
              " 'Venilia',\n",
              " 'Hatuey',\n",
              " 'Mauritius-1',\n",
              " 'Cincinnati Archers',\n",
              " 'Morena',\n",
              " 'Libellule de Paris-3',\n",
              " 'Societ Nautique de la Marne-3',\n",
              " 'Osborne Swimming Club, Manchester',\n",
              " 'Brussels Swimming and Water Polo Club',\n",
              " 'Ancora',\n",
              " 'Saskia',\n",
              " 'Wales-4',\n",
              " 'SagaII',\n",
              " 'Gem',\n",
              " 'June Climene',\n",
              " 'Cambria',\n",
              " 'Oleander XII',\n",
              " 'Phoenix',\n",
              " 'Ylliam VII',\n",
              " 'Ballerina IV',\n",
              " 'Chicago Athletic Association',\n",
              " 'Calypse II',\n",
              " 'Scotland',\n",
              " 'Scotland-2',\n",
              " 'Ciocca',\n",
              " 'Esperia',\n",
              " 'Tournade-40',\n",
              " 'Tornade-16',\n",
              " 'Galejan',\n",
              " 'Great Britain-4',\n",
              " 'Cuba-1',\n",
              " 'Marshall Islands',\n",
              " 'United States-6',\n",
              " 'Santa Maria',\n",
              " 'Dormy-1',\n",
              " 'Umberta V',\n",
              " 'Rozenn-3',\n",
              " 'Jest',\n",
              " 'Magdalen College Boat Club-1',\n",
              " 'Western Golf Association-1',\n",
              " 'Scotia',\n",
              " 'Red Dragon',\n",
              " 'R.-V. Germania, Leitmeritz',\n",
              " 'Hungary-1',\n",
              " 'Akatonbo',\n",
              " 'Terrible',\n",
              " 'Elisabeth V',\n",
              " 'Studenternes Roklub-2',\n",
              " 'Rififi',\n",
              " 'New York Athletic Club #1-1',\n",
              " 'Partenope',\n",
              " 'Bermudes',\n",
              " 'England',\n",
              " 'Cornwall',\n",
              " 'Kiribati',\n",
              " 'United States-7',\n",
              " 'Diablo',\n",
              " 'Plume-patte-32',\n",
              " 'Plume-Patte-5',\n",
              " 'Pierre et Jean-3',\n",
              " 'Pierre et Jean-4',\n",
              " 'Espadarte',\n",
              " 'Fruits',\n",
              " 'Belgium-2',\n",
              " 'Sidi Fekkar-36',\n",
              " 'Sidi-Fekkar-14',\n",
              " 'Souvenance',\n",
              " 'Meteor',\n",
              " 'Kurush IV',\n",
              " 'Vesania',\n",
              " 'Kurush II',\n",
              " 'Canopus',\n",
              " 'Crabe I-11',\n",
              " 'Crabe I-3',\n",
              " 'Crabe I-2',\n",
              " 'Gwendoline-22',\n",
              " 'Gwendoline-2',\n",
              " 'United States/France',\n",
              " 'Vicking',\n",
              " 'Daisy',\n",
              " 'Virginie',\n",
              " 'Acipactli',\n",
              " 'Belgium-4',\n",
              " 'Pegaso',\n",
              " 'Girl Pat',\n",
              " 'Fada',\n",
              " 'Bu III',\n",
              " 'Lerina',\n",
              " 'Bagatelle Polo Club, Paris',\n",
              " 'Bem II',\n",
              " 'St. Margrite',\n",
              " 'Hollandia',\n",
              " 'Aphrodite',\n",
              " 'Bonzo',\n",
              " 'Socit Nautique de la Basse Seine-1',\n",
              " 'Socit Nautique de la Basse Seine-2',\n",
              " 'Univ. of Brussels',\n",
              " 'Concordia Turnverein, St Louis',\n",
              " 'Rowing Club Castillon-3',\n",
              " 'Frip IV',\n",
              " 'Mad Dog',\n",
              " 'Hb-24',\n",
              " 'Hb-20',\n",
              " 'South St Louis Turnverein, St Louis',\n",
              " 'Century Boat Club-1',\n",
              " 'Unique',\n",
              " 'Pan-Hellenic Athletic Club',\n",
              " 'Phalainis ton Thorichtou \"Hydra\"-2',\n",
              " 'Viking',\n",
              " 'Silja',\n",
              " 'Bermudian',\n",
              " 'Dresden',\n",
              " 'United States/Great Britain',\n",
              " 'Mignon-29',\n",
              " 'Mignon-3',\n",
              " 'Favorite-17',\n",
              " 'Favorite-1',\n",
              " 'St. Louis Amateur Athletic Association',\n",
              " 'Naiad',\n",
              " 'Pakaria',\n",
              " 'Ireland-3',\n",
              " 'Serbia-2',\n",
              " 'United States-14',\n",
              " 'Oxalis',\n",
              " 'Gitana-21',\n",
              " 'Gitana-2',\n",
              " 'Joy',\n",
              " 'Thalatta',\n",
              " 'Trintel II',\n",
              " 'Central Turnverein, Chicago',\n",
              " 'Galopin-20',\n",
              " 'Galopin-9',\n",
              " 'France-4',\n",
              " 'Berliner Ruderclub',\n",
              " 'Rhythm',\n",
              " 'Turnverein Vorwrts, Chicago',\n",
              " 'Guanahani',\n",
              " 'Unknown',\n",
              " 'Spirit III',\n",
              " 'Pannonia RC/National RC',\n",
              " 'Bella',\n",
              " 'May-Be 1960',\n",
              " 'May Be',\n",
              " 'Inga-Lill XXXXIII',\n",
              " 'Mexico-1',\n",
              " 'Nirwana',\n",
              " 'Omilos Ereton Peiraios-2',\n",
              " 'Llanoria',\n",
              " 'Marmi II-1',\n",
              " 'Kitty-1',\n",
              " 'Vaxholm Roddklubb',\n",
              " 'Tuvalu',\n",
              " 'A North American Team',\n",
              " 'Nirefs',\n",
              " 'Proteus II',\n",
              " 'Finn II',\n",
              " 'Impala',\n",
              " 'Missouri Athletic Club-3',\n",
              " 'Pam',\n",
              " 'Oleander II',\n",
              " 'Apache',\n",
              " 'Roklubb Kbnhavn-2',\n",
              " 'Tu-Fri',\n",
              " 'Tutti V',\n",
              " 'Cha-Cha III',\n",
              " 'Augsburg',\n",
              " 'Leander Club #2-2',\n",
              " 'Ariel',\n",
              " 'Encore',\n",
              " 'Feo',\n",
              " 'Seawanhaka Boat Club-1',\n",
              " 'Gem II',\n",
              " 'Gem III',\n",
              " 'Gem IV',\n",
              " 'Gem VII',\n",
              " 'Pupilles de Neptune de Lille #1-3',\n",
              " 'Chaje II',\n",
              " 'Ludwigshafener Ruder Verein-1',\n",
              " 'Leander Club #1-1',\n",
              " 'Dylan-2',\n",
              " 'Moorina',\n",
              " '30. Februar',\n",
              " 'Cercle Nautique de Reims-4',\n",
              " 'Cuba-2',\n",
              " 'Struten',\n",
              " 'Gyrinus-1',\n",
              " 'Ylliam II',\n",
              " 'East Germany-3',\n",
              " 'Paka V',\n",
              " 'Brigantia',\n",
              " 'Sydney Rowing Club',\n",
              " 'Espardate',\n",
              " 'Australia/Great Britain',\n",
              " 'Kannibaltje',\n",
              " 'Milwaukee Athletic Club-1',\n",
              " 'Xantippa',\n",
              " 'Skum',\n",
              " 'Miss Denmark 1964',\n",
              " 'Kemphaan',\n",
              " 'Helsingfors R. K.',\n",
              " 'Newfoundland',\n",
              " 'Emily',\n",
              " 'Fram III',\n",
              " 'Mizar',\n",
              " 'Ubu',\n",
              " 'St. Louis Southwest Turnverein #2-3',\n",
              " 'Socialer Turnverein, Detroit',\n",
              " 'Bohemia-1',\n",
              " 'Essen',\n",
              " 'Miss Nippon V',\n",
              " 'Argeste',\n",
              " 'Gullvinge',\n",
              " 'United States-4',\n",
              " 'South Korea-1',\n",
              " 'Bajazzo',\n",
              " 'Cinara-13',\n",
              " 'Ilderim',\n",
              " 'Tantalus',\n",
              " 'Peiraikos Syndesmos-2',\n",
              " 'Baby-9',\n",
              " 'Baby-1',\n",
              " 'Femur-18',\n",
              " 'Femur-1',\n",
              " 'Kosovo',\n",
              " 'Colette-10',\n",
              " 'Colette-12',\n",
              " 'Germany/United States',\n",
              " 'Germania Ruder Club, Hamburg',\n",
              " 'Freddy',\n",
              " 'Rika II',\n",
              " 'Korshun',\n",
              " 'Hungary-2',\n",
              " 'Patricia',\n",
              " 'Tlaloc',\n",
              " 'Springbok',\n",
              " 'Aretusa',\n",
              " 'Quicksilver-2',\n",
              " 'Viktoriya',\n",
              " 'Germania Ruder Club, Hamburg-2',\n",
              " 'Omilos Ereton Smyrnis',\n",
              " 'Belarus-2',\n",
              " 'Alcaid',\n",
              " 'Finland-1',\n",
              " 'Finland-2',\n",
              " 'Alain IV',\n",
              " 'Jupiter',\n",
              " 'Three Leaves',\n",
              " 'Philadelphia Turngemeinde, Philadelphia',\n",
              " 'K.S.S.S. 1912-2',\n",
              " 'Unified Team-3',\n",
              " 'Paka',\n",
              " 'Sheerio',\n",
              " 'Pan II',\n",
              " 'Pasodoble',\n",
              " 'Freja',\n",
              " 'India-2',\n",
              " 'Sass-2',\n",
              " 'Roy',\n",
              " 'Ukraine-1',\n",
              " 'Deutscher Schwimm Verband Berlin',\n",
              " 'Jet',\n",
              " 'Belgium-3',\n",
              " 'Shrew II',\n",
              " 'Sylvia',\n",
              " 'Salamander',\n",
              " 'Denmark-3',\n",
              " 'Ingegerd',\n",
              " 'Slovakia-2',\n",
              " 'Johan',\n",
              " 'Jamaica-2',\n",
              " 'Andromeda',\n",
              " 'Hornet',\n",
              " 'South Sudan',\n",
              " 'Sweden-4',\n",
              " 'Chance',\n",
              " 'Brat',\n",
              " 'Yeoman V',\n",
              " 'Knigsberg',\n",
              " 'Don Schufro',\n",
              " 'Vinga-1',\n",
              " 'Aloha II',\n",
              " 'Raili',\n",
              " 'Syndi',\n",
              " 'Vento Sul',\n",
              " 'Sans Atout-1',\n",
              " 'Miss Nippon IV',\n",
              " 'New Zealand-1',\n",
              " 'Tramontane',\n",
              " 'Sandra',\n",
              " 'Milwaukee Turnverein, Milwaukee',\n",
              " 'Nurdug II',\n",
              " 'Eleda',\n",
              " 'Lbeck',\n",
              " 'Yeoman',\n",
              " 'Boer Team',\n",
              " 'Beatrijs III-1',\n",
              " 'Lancet',\n",
              " 'West Germany-3',\n",
              " 'Lesotho',\n",
              " 'Ravenswood Boat Club-2',\n",
              " 'Whisper',\n",
              " 'Irene',\n",
              " 'Balaton',\n",
              " 'Kuling',\n",
              " 'Sif',\n",
              " 'Djinn',\n",
              " 'Mascotte',\n",
              " 'Bona Fide',\n",
              " 'Laurea-1',\n",
              " 'Skidoo',\n",
              " 'Tomahawk II',\n",
              " 'Whirlaway',\n",
              " 'Sorais-2',\n",
              " 'Minotaur',\n",
              " 'United States-5',\n",
              " 'Surprise',\n",
              " 'Zut',\n",
              " 'Tan-Fe-Pah',\n",
              " 'Ciss',\n",
              " 'Australia-3',\n",
              " 'Bohemia-3',\n",
              " 'Boreas',\n",
              " 'MitaII',\n",
              " 'Escapade',\n",
              " 'Slovakia-1',\n",
              " 'Ralia',\n",
              " 'Clearwater',\n",
              " 'Angerburg',\n",
              " 'Singapore-2',\n",
              " 'United States-8',\n",
              " 'Barco Deloro',\n",
              " 'Dick-8',\n",
              " 'Yugoslavia-2',\n",
              " 'Kalayaan',\n",
              " 'Bohemia-2',\n",
              " 'Olimpia',\n",
              " 'Macky VI',\n",
              " 'Nrnberg',\n",
              " 'Nephos I',\n",
              " 'Tengiri',\n",
              " 'Hayama',\n",
              " 'Rush VII',\n",
              " 'Rush V',\n",
              " 'Ethnikos Gymnastikos Syllogos',\n",
              " 'John B',\n",
              " 'Bim',\n",
              " 'Bonaparte',\n",
              " 'North Korea-2',\n",
              " 'Mythilus',\n",
              " 'Rambo',\n",
              " 'Floresco',\n",
              " 'Hong Kong-2',\n",
              " 'Luxembourg-2',\n",
              " 'Lucky',\n",
              " 'Spirit VI',\n",
              " 'Lully II',\n",
              " 'Sildra-1',\n",
              " 'Noreg',\n",
              " 'Subbnboana',\n",
              " 'Phalainis ton Thorichtou \"Psara\"-3',\n",
              " 'Slovenia-1',\n",
              " 'Rostock',\n",
              " 'Norman-1',\n",
              " 'Olympion',\n",
              " ...]"
            ]
          },
          "metadata": {},
          "execution_count": 18
        }
      ]
    },
    {
      "cell_type": "code",
      "metadata": {
        "colab": {
          "base_uri": "https://localhost:8080/"
        },
        "id": "qV4VPOR2dSQI",
        "outputId": "1f2e8d59-a305-4475-fa9c-667cdf6d19c1"
      },
      "source": [
        "print('count of players from China :',df1.Team.value_counts().China)\n",
        "print('count of players from Netherlands :',df1.Team.value_counts().Netherlands)\n",
        "print('count of players from Spain :',df1.Team.value_counts().Spain)\n",
        "print('count of players from France :',df1.Team.value_counts().France)\n",
        "print('count of player from USA:' , df1.NOC.value_counts().USA)\n",
        "print('count of players from Italy:', df1.Team.value_counts().Italy)"
      ],
      "execution_count": 19,
      "outputs": [
        {
          "output_type": "stream",
          "name": "stdout",
          "text": [
            "count of players from China : 4975\n",
            "count of players from Netherlands : 5718\n",
            "count of players from Spain : 5224\n",
            "count of players from France : 11988\n",
            "count of player from USA: 18853\n",
            "count of players from Italy: 10260\n"
          ]
        }
      ]
    },
    {
      "cell_type": "markdown",
      "metadata": {
        "id": "wjmcK7Sfdbmi"
      },
      "source": [
        "4. What is the average age of female and male players from the United States, China,\n",
        "Netherland, Spain, France, Italy\n"
      ]
    },
    {
      "cell_type": "code",
      "metadata": {
        "id": "XWNO-Zvrdgd0"
      },
      "source": [
        "data = df1.loc[(df1['Team'] == 'United States') | (df1['Team'] == 'China') | (df1['Team'] == 'Netherlands')\n",
        " | (df1['Team'] == 'Spain') | (df1['Team'] == 'France') | (df1['Team'] == 'Italy')]"
      ],
      "execution_count": 20,
      "outputs": []
    },
    {
      "cell_type": "code",
      "metadata": {
        "colab": {
          "base_uri": "https://localhost:8080/",
          "height": 287
        },
        "id": "k4m7TymfeR_7",
        "outputId": "fcafce9e-abbe-4471-b1c1-c8fe58e3b8cc"
      },
      "source": [
        "data.head()"
      ],
      "execution_count": 21,
      "outputs": [
        {
          "output_type": "execute_result",
          "data": {
            "text/html": [
              "<div>\n",
              "<style scoped>\n",
              "    .dataframe tbody tr th:only-of-type {\n",
              "        vertical-align: middle;\n",
              "    }\n",
              "\n",
              "    .dataframe tbody tr th {\n",
              "        vertical-align: top;\n",
              "    }\n",
              "\n",
              "    .dataframe thead th {\n",
              "        text-align: right;\n",
              "    }\n",
              "</style>\n",
              "<table border=\"1\" class=\"dataframe\">\n",
              "  <thead>\n",
              "    <tr style=\"text-align: right;\">\n",
              "      <th></th>\n",
              "      <th>ID</th>\n",
              "      <th>Name</th>\n",
              "      <th>Sex</th>\n",
              "      <th>Age</th>\n",
              "      <th>Height</th>\n",
              "      <th>Weight</th>\n",
              "      <th>Team</th>\n",
              "      <th>NOC</th>\n",
              "      <th>Games</th>\n",
              "      <th>Year</th>\n",
              "      <th>Season</th>\n",
              "      <th>City</th>\n",
              "      <th>Sport</th>\n",
              "      <th>Event</th>\n",
              "      <th>Medal</th>\n",
              "    </tr>\n",
              "  </thead>\n",
              "  <tbody>\n",
              "    <tr>\n",
              "      <th>0</th>\n",
              "      <td>1</td>\n",
              "      <td>A Dijiang</td>\n",
              "      <td>M</td>\n",
              "      <td>24.0</td>\n",
              "      <td>180.0</td>\n",
              "      <td>80.0</td>\n",
              "      <td>China</td>\n",
              "      <td>CHN</td>\n",
              "      <td>1992 Summer</td>\n",
              "      <td>1992</td>\n",
              "      <td>Summer</td>\n",
              "      <td>Barcelona</td>\n",
              "      <td>Basketball</td>\n",
              "      <td>Basketball Men's Basketball</td>\n",
              "      <td>unknown</td>\n",
              "    </tr>\n",
              "    <tr>\n",
              "      <th>1</th>\n",
              "      <td>2</td>\n",
              "      <td>A Lamusi</td>\n",
              "      <td>M</td>\n",
              "      <td>23.0</td>\n",
              "      <td>170.0</td>\n",
              "      <td>60.0</td>\n",
              "      <td>China</td>\n",
              "      <td>CHN</td>\n",
              "      <td>2012 Summer</td>\n",
              "      <td>2012</td>\n",
              "      <td>Summer</td>\n",
              "      <td>London</td>\n",
              "      <td>Judo</td>\n",
              "      <td>Judo Men's Extra-Lightweight</td>\n",
              "      <td>unknown</td>\n",
              "    </tr>\n",
              "    <tr>\n",
              "      <th>4</th>\n",
              "      <td>5</td>\n",
              "      <td>Christine Jacoba Aaftink</td>\n",
              "      <td>F</td>\n",
              "      <td>21.0</td>\n",
              "      <td>185.0</td>\n",
              "      <td>82.0</td>\n",
              "      <td>Netherlands</td>\n",
              "      <td>NED</td>\n",
              "      <td>1988 Winter</td>\n",
              "      <td>1988</td>\n",
              "      <td>Winter</td>\n",
              "      <td>Calgary</td>\n",
              "      <td>Speed Skating</td>\n",
              "      <td>Speed Skating Women's 500 metres</td>\n",
              "      <td>unknown</td>\n",
              "    </tr>\n",
              "    <tr>\n",
              "      <th>5</th>\n",
              "      <td>5</td>\n",
              "      <td>Christine Jacoba Aaftink</td>\n",
              "      <td>F</td>\n",
              "      <td>21.0</td>\n",
              "      <td>185.0</td>\n",
              "      <td>82.0</td>\n",
              "      <td>Netherlands</td>\n",
              "      <td>NED</td>\n",
              "      <td>1988 Winter</td>\n",
              "      <td>1988</td>\n",
              "      <td>Winter</td>\n",
              "      <td>Calgary</td>\n",
              "      <td>Speed Skating</td>\n",
              "      <td>Speed Skating Women's 1,000 metres</td>\n",
              "      <td>unknown</td>\n",
              "    </tr>\n",
              "    <tr>\n",
              "      <th>6</th>\n",
              "      <td>5</td>\n",
              "      <td>Christine Jacoba Aaftink</td>\n",
              "      <td>F</td>\n",
              "      <td>25.0</td>\n",
              "      <td>185.0</td>\n",
              "      <td>82.0</td>\n",
              "      <td>Netherlands</td>\n",
              "      <td>NED</td>\n",
              "      <td>1992 Winter</td>\n",
              "      <td>1992</td>\n",
              "      <td>Winter</td>\n",
              "      <td>Albertville</td>\n",
              "      <td>Speed Skating</td>\n",
              "      <td>Speed Skating Women's 500 metres</td>\n",
              "      <td>unknown</td>\n",
              "    </tr>\n",
              "  </tbody>\n",
              "</table>\n",
              "</div>"
            ],
            "text/plain": [
              "   ID                      Name  ...                               Event    Medal\n",
              "0   1                 A Dijiang  ...         Basketball Men's Basketball  unknown\n",
              "1   2                  A Lamusi  ...        Judo Men's Extra-Lightweight  unknown\n",
              "4   5  Christine Jacoba Aaftink  ...    Speed Skating Women's 500 metres  unknown\n",
              "5   5  Christine Jacoba Aaftink  ...  Speed Skating Women's 1,000 metres  unknown\n",
              "6   5  Christine Jacoba Aaftink  ...    Speed Skating Women's 500 metres  unknown\n",
              "\n",
              "[5 rows x 15 columns]"
            ]
          },
          "metadata": {},
          "execution_count": 21
        }
      ]
    },
    {
      "cell_type": "code",
      "metadata": {
        "colab": {
          "base_uri": "https://localhost:8080/"
        },
        "id": "pvJX1LrneVkm",
        "outputId": "e90c3414-006d-4c92-f7d7-ce66ac144420"
      },
      "source": [
        "data.groupby(['Sex'])['Age'].mean()"
      ],
      "execution_count": 22,
      "outputs": [
        {
          "output_type": "execute_result",
          "data": {
            "text/plain": [
              "Sex\n",
              "F    23.789058\n",
              "M    26.590627\n",
              "Name: Age, dtype: float64"
            ]
          },
          "metadata": {},
          "execution_count": 22
        }
      ]
    },
    {
      "cell_type": "markdown",
      "metadata": {
        "id": "u_P4Cjbjedjb"
      },
      "source": [
        "5. What are the different kinds of sports in which players have participated in different\n",
        "cities of the United States.\n"
      ]
    },
    {
      "cell_type": "code",
      "metadata": {
        "colab": {
          "base_uri": "https://localhost:8080/"
        },
        "id": "cvsibyXCeei4",
        "outputId": "15c5964b-7594-4ef8-9278-4c31cfbdbc2b"
      },
      "source": [
        "df1[df1['NOC'] == 'USA']['Sport'].unique().tolist()"
      ],
      "execution_count": 23,
      "outputs": [
        {
          "output_type": "execute_result",
          "data": {
            "text/plain": [
              "['Cross Country Skiing',\n",
              " 'Wrestling',\n",
              " 'Athletics',\n",
              " 'Figure Skating',\n",
              " 'Cycling',\n",
              " 'Golf',\n",
              " 'Softball',\n",
              " 'Taekwondo',\n",
              " 'Rowing',\n",
              " 'Basketball',\n",
              " 'Synchronized Swimming',\n",
              " 'Ice Hockey',\n",
              " 'Baseball',\n",
              " 'Handball',\n",
              " 'Weightlifting',\n",
              " 'Fencing',\n",
              " 'Swimming',\n",
              " 'Shooting',\n",
              " 'Archery',\n",
              " 'Sailing',\n",
              " 'Volleyball',\n",
              " 'Art Competitions',\n",
              " 'Alpine Skiing',\n",
              " 'Boxing',\n",
              " 'Football',\n",
              " 'Tennis',\n",
              " 'Judo',\n",
              " 'Snowboarding',\n",
              " 'Nordic Combined',\n",
              " 'Trampolining',\n",
              " 'Biathlon',\n",
              " 'Ski Jumping',\n",
              " 'Freestyle Skiing',\n",
              " 'Bobsleigh',\n",
              " 'Diving',\n",
              " 'Modern Pentathlon',\n",
              " 'Equestrianism',\n",
              " 'Gymnastics',\n",
              " 'Polo',\n",
              " 'Short Track Speed Skating',\n",
              " 'Hockey',\n",
              " 'Water Polo',\n",
              " 'Canoeing',\n",
              " 'Skeleton',\n",
              " 'Speed Skating',\n",
              " 'Badminton',\n",
              " 'Rugby Sevens',\n",
              " 'Table Tennis',\n",
              " 'Curling',\n",
              " 'Luge',\n",
              " 'Triathlon',\n",
              " 'Rhythmic Gymnastics',\n",
              " 'Beach Volleyball',\n",
              " 'Tug-Of-War',\n",
              " 'Roque',\n",
              " 'Rugby',\n",
              " 'Lacrosse',\n",
              " 'Jeu De Paume']"
            ]
          },
          "metadata": {},
          "execution_count": 23
        }
      ]
    },
    {
      "cell_type": "markdown",
      "metadata": {
        "id": "yipuktKYesEC"
      },
      "source": [
        "6. What are the names of players who have brought gold, silver and bronze medal?"
      ]
    },
    {
      "cell_type": "code",
      "metadata": {
        "id": "B3G-ay1oes2H"
      },
      "source": [
        "medals = df1.loc[(df1['Medal'] == 'Gold') | (df1['Medal'] == 'Silver') | (df1['Medal'] == 'Bronze')]"
      ],
      "execution_count": 24,
      "outputs": []
    },
    {
      "cell_type": "code",
      "metadata": {
        "colab": {
          "base_uri": "https://localhost:8080/"
        },
        "id": "owQPmi-ne013",
        "outputId": "c2229893-20b4-46bb-d691-879ae7085a7e"
      },
      "source": [
        "df1['Name'].unique().tolist()"
      ],
      "execution_count": 25,
      "outputs": [
        {
          "output_type": "execute_result",
          "data": {
            "text/plain": [
              "['A Dijiang',\n",
              " 'A Lamusi',\n",
              " 'Gunnar Nielsen Aaby',\n",
              " 'Edgar Lindenau Aabye',\n",
              " 'Christine Jacoba Aaftink',\n",
              " 'Per Knut Aaland',\n",
              " 'John Aalberg',\n",
              " 'Cornelia \"Cor\" Aalten (-Strannood)',\n",
              " 'Antti Sami Aalto',\n",
              " 'Einar Ferdinand \"Einari\" Aalto',\n",
              " 'Jorma Ilmari Aalto',\n",
              " 'Jyri Tapani Aalto',\n",
              " 'Minna Maarit Aalto',\n",
              " 'Pirjo Hannele Aalto (Mattila-)',\n",
              " 'Arvo Ossian Aaltonen',\n",
              " 'Juhamatti Tapio Aaltonen',\n",
              " 'Paavo Johannes Aaltonen',\n",
              " 'Timo Antero Aaltonen',\n",
              " 'Win Valdemar Aaltonen',\n",
              " 'Kjetil Andr Aamodt',\n",
              " 'Ragnhild Margrethe Aamodt',\n",
              " 'Andreea Aanei',\n",
              " 'Fritz Aanes',\n",
              " 'Nils Egil Aaness',\n",
              " 'Alf Lied Aanning',\n",
              " 'Agnes Erika Aanonsen (-Eyde)',\n",
              " 'Johan Aantjes',\n",
              " 'Jan-Erik Aarberg',\n",
              " 'Willemien Aardenburg',\n",
              " 'Pepijn Aardewijn',\n",
              " 'Evald rma (rman-)',\n",
              " 'Olav Augunson Aarnes',\n",
              " 'Mika Lauri Aarnikka',\n",
              " 'Jamale (Djamel-) Aarrass (Ahrass-)',\n",
              " 'Dagfinn Sverre Aarskog',\n",
              " 'Stefan Remco Aartsen',\n",
              " 'Ann Kristin Aarnes',\n",
              " 'Karl Jan Aas',\n",
              " 'Lars Thorlaksn Aas',\n",
              " 'Roald Edgar Aas',\n",
              " 'Rolf Aas',\n",
              " 'Thomas Valentin Aas',\n",
              " 'Morten Gjerdrum Aasen',\n",
              " 'Meelis Aasme',\n",
              " 'Hakon Aasns',\n",
              " 'Hans Aasns',\n",
              " 'Erling Rudolf Aastad',\n",
              " 'Abdelhak Aatakni',\n",
              " 'Moonika Aava',\n",
              " 'Arvi Aavik',\n",
              " 'Nstor Abad Sanjun',\n",
              " 'Patrick Abada',\n",
              " 'Talaat Abada',\n",
              " 'Mohamed Jamshid Abadi',\n",
              " 'Antonio Abadia Beci',\n",
              " 'Ren Abadie',\n",
              " 'Borislav Abadzhiev',\n",
              " 'Georgi Abadzhiev',\n",
              " 'Ivan Nikolov Abadzhiev',\n",
              " 'Mikhail Abadzhiev',\n",
              " 'Stefan Abadzhiev',\n",
              " 'Giovanni Abagnale',\n",
              " 'Jos Luis Abajo Gmez',\n",
              " \"M'Bairo Abakar\",\n",
              " 'Patimat Abakarova',\n",
              " 'Mohamed Abakkar',\n",
              " 'Mariya Vasilyevna Abakumova (-Tarabina)',\n",
              " 'Pablo Martn Abal',\n",
              " 'Tamara Abalde Daz',\n",
              " 'Jess Iory Aball Martnez',\n",
              " 'Juan Antonio Aball Delgado',\n",
              " 'Aleksey Aleksandrovich Abalmasov',\n",
              " 'Luc Abalo',\n",
              " 'Mara Laura Abalo',\n",
              " 'Giorgos Abalof',\n",
              " 'Jouan Patrice Abanda Etong',\n",
              " 'Antoine Abang',\n",
              " 'Salim Abanoz',\n",
              " 'Carlos Abarca Gonzlez',\n",
              " 'Jos Mara Abarca Plotas',\n",
              " 'Georgios Abaris',\n",
              " 'Enrique Abaroa Martnez',\n",
              " 'Carlos Arturo Abarza Chavez',\n",
              " 'Stephen Anthony Abas',\n",
              " 'Alejandro Abascal Garca',\n",
              " 'Jos Manuel Abascal Gmez',\n",
              " \"Rost'om Omeris dze Abashidze\",\n",
              " 'Nunu Dzhansuhivna Abashydze (-Myslaieva)',\n",
              " 'Rodrigo Abasolo',\n",
              " 'Tamila Rashidovna Abasova',\n",
              " 'Emanuele Abate',\n",
              " 'Ignazio Abate',\n",
              " 'Jol Marc Abati',\n",
              " 'Ral Abatte',\n",
              " 'Georgia Abatzidou',\n",
              " 'Carlos Rodolfo Abaunza Balladares',\n",
              " 'Carlos Alberto Abaunza',\n",
              " 'Hctor Abaunza',\n",
              " 'Pter Abay',\n",
              " 'Oszkr Abay-Nemes',\n",
              " 'Adeyemi Abayomi',\n",
              " 'Sayed Fahmy Abaza',\n",
              " 'Silvano Abba',\n",
              " 'Gana Abba Kimet',\n",
              " 'Ilyas Abbadi',\n",
              " 'Agostino Abbagnale',\n",
              " 'Carmine Abbagnale',\n",
              " 'Giuseppe Abbagnale',\n",
              " 'Abdul Latif Al-Sayed Abbas Youssef Hashem',\n",
              " 'Abubakar Abbas Abbas',\n",
              " 'Aqarab Abbas',\n",
              " 'Aziz Abbas',\n",
              " 'Bassim Abbas Kati Al-Ogaili',\n",
              " 'Essa Abbas Faleh Hashem',\n",
              " 'Ghulam Abbas',\n",
              " 'Hosni Mohamed Abbas',\n",
              " 'Maher Abbas',\n",
              " 'Mahmoud Abbas',\n",
              " 'Mohamed Fakhry Rifaat Abbas',\n",
              " 'Mohammed Abbas Sabih',\n",
              " 'Muhammad Abbas',\n",
              " 'Nader Sufyan Abbas',\n",
              " 'Sohail Abbas',\n",
              " 'Youssef Mohamed Abbas',\n",
              " 'Zulkifli Abbas',\n",
              " 'Forough Abbasi',\n",
              " 'Shakeel Abbasi',\n",
              " 'Soulmaz Abbasi Azad',\n",
              " 'Ruslan Abbasov',\n",
              " 'Tural Abbasov',\n",
              " 'Tran Abbasova',\n",
              " 'Simona Abbate',\n",
              " 'Franz Abb',\n",
              " 'Christian Abbiati',\n",
              " 'Lois Abbingh',\n",
              " 'Alessandro Abbio',\n",
              " 'Giordano Giulio Abbondati',\n",
              " 'Salwan Jasim Abbood Abbood',\n",
              " 'George \"Ioannis\" Abbot',\n",
              " 'William \"Bill\" Abbott Jr.',\n",
              " 'Clare Abbott',\n",
              " 'David \"Dave\" Abbott',\n",
              " 'Desmond \"Des\" Abbott',\n",
              " 'Geoffrey Grant Abbott',\n",
              " 'Jeremy Abbott',\n",
              " 'Joanne Abbott',\n",
              " 'Kathryn \"Katie\" Abbott',\n",
              " 'Mara Katherine Abbott',\n",
              " 'Margaret Ives Abbott (-Dunne)',\n",
              " 'Mary Perkins Ives Abbott (Perkins-)',\n",
              " 'Matt Abbott',\n",
              " 'Monica Cecilia Abbott',\n",
              " 'Khadija Abbouda',\n",
              " 'Mohamed Ibrahim Abd El-Fatah Mohamed',\n",
              " 'Mahmoud Abd El-Kader',\n",
              " 'Mohamed Ibrahim Abd El-Salam',\n",
              " 'Noha Abd Rabo',\n",
              " \"Reem Wa'il Abdalazem Abdalazem El-Bossaty\",\n",
              " 'Ali Abdalla Afringi',\n",
              " 'Hossam Abdalla',\n",
              " 'Hosam Abdallah',\n",
              " 'Ismail Abdallah',\n",
              " 'Maged Abdallah',\n",
              " 'Nia Nicole Abdallah',\n",
              " 'Omari Abdallah',\n",
              " 'Ould Lamine Abdallah',\n",
              " 'Younis Abdallah Rabee',\n",
              " 'Raida Abdallah Bader',\n",
              " 'Maha Abdalsalam Gouda',\n",
              " 'Mahmoud Abdel Aziz',\n",
              " 'Mohamed Abdel Ellah',\n",
              " 'Mohamed Abdel Fatah',\n",
              " 'Ali Mohamed Badawi Abdel Fattah Badawi',\n",
              " 'Abdelgani Hassan Abdel Fattah',\n",
              " 'Mahmoud Atter Abdel Fattah',\n",
              " 'Mohamed Abdel Fattah',\n",
              " 'Sayed Abdel Gadir',\n",
              " 'Ibrahim Saad Abdel Galil',\n",
              " 'Heba Abdel Gawad',\n",
              " 'Sara Abdel Gawad',\n",
              " 'Gamal Amin Abdel Ghani',\n",
              " 'Abdel Sattar Abdel Hadj',\n",
              " 'Ragy Abdel Hady',\n",
              " 'Osman Abdel Hafeez',\n",
              " 'Mohamed Abdel Hafiz',\n",
              " 'Moustafa Ali Abdel Halim',\n",
              " 'Mohamed Abdel Hamed',\n",
              " 'Hwad Ibrahim Abdel Hamid Lumomba',\n",
              " 'Ibrahim Abdel Hamid',\n",
              " 'Tamer Mohamed Abdel Hamid',\n",
              " 'Ahmed El-Sayed Abdel Hamid Mobarak',\n",
              " 'Dorri Abdel Kader Said',\n",
              " 'Moustafa Mounib Abdel Kader',\n",
              " 'Mohamed Ali Abdel Kerim',\n",
              " 'Mohamed Abdel Khaled',\n",
              " 'Abdel Latif Abdel Latif',\n",
              " 'Walid Abdel Maksoud',\n",
              " 'Amir Abdel Meguid',\n",
              " 'Mohamed Abdel Mohamed',\n",
              " 'Karim Abdel Mohsen',\n",
              " 'Awad Abdel Nabi Awad',\n",
              " 'Ahmed Abdel Naeim',\n",
              " 'Moustafa Abdel Naser',\n",
              " 'Ali Abdel Radi',\n",
              " 'Amin Abdel Rahman',\n",
              " 'Mohamed Fathallah Abdel Rahman',\n",
              " 'Fathi Ali Abdel Rahman',\n",
              " 'Ibrahim Abdel Rahman',\n",
              " 'Khaled Abdel Rahman',\n",
              " 'Sameh Abdel Rahman',\n",
              " 'Yasser Abdel Rahman Sakr',\n",
              " 'Samy Abdel Razek',\n",
              " 'Mohamed Youssef Abdel Razik',\n",
              " 'Ibrahim Ahmed Abdel Rehim',\n",
              " 'Kamal Abdel Rehim',\n",
              " 'Reskalla Mohamed Abdel Rehim',\n",
              " 'Ahmed Ali Abdel Samad',\n",
              " 'Ali Abdel Sami',\n",
              " 'Mohamed Abdel Sami',\n",
              " 'Sameh Abdel Waress Muhammad',\n",
              " 'Mohamed Said Abdel Wehab',\n",
              " 'Mahmoud Abdel-Aal',\n",
              " 'Mohamed Abdel-El',\n",
              " 'Shaimaa Abdel-Latif-Hashad',\n",
              " 'Sanad Bushara Abdel-Nadif',\n",
              " 'Ahmed Abdelaal',\n",
              " 'Mahmoud Abdelaal',\n",
              " 'Mohamed Ali Abdelaal',\n",
              " 'Moustafa Abdelal',\n",
              " 'Mahmod Abdelaly',\n",
              " 'Ibrahim Ramadan Ibrahim Abdelbaki',\n",
              " 'Aziza Abdelfattah',\n",
              " 'Abdalla Abdelgadir El-Sheikh',\n",
              " 'Magdi Abdelghani Sayed Ahmed',\n",
              " 'Ragab Abdelhay Saad Abdelrazek Abdallah',\n",
              " 'Ben Ahmed Abdelkrim',\n",
              " 'Mohamed Abdellah',\n",
              " 'Ayoub Abdellaoui',\n",
              " 'Leila Abdelmoez',\n",
              " 'Sayed Abdelmonem Sayed Hamed',\n",
              " 'Ahmed Abdelrahman',\n",
              " 'Ihab Abdelrahman El-Sayed Abdelrahman',\n",
              " 'Raouf Abdelraouf',\n",
              " 'Abouelfetoh Abdelrazek',\n",
              " 'Mamdouh Abdelrehim',\n",
              " 'El-Hachemi Abdenouz',\n",
              " 'Rda Abdenouz',\n",
              " 'Mouni Abderrahim',\n",
              " 'Saeid Morad Abdevali',\n",
              " 'Bashir Abdi',\n",
              " 'Youcef Abdi',\n",
              " 'Jamal Abdi Hassan Abdullah',\n",
              " 'Talal Omar Abdillahi',\n",
              " 'Mahmoud Ahmed Abdin',\n",
              " 'Abdihakim \"Abdi\" Abdirahman',\n",
              " 'Ali Abdo',\n",
              " 'Hamza Abdo',\n",
              " 'Reema Abdo',\n",
              " 'Ahmed Abdo Mustafa',\n",
              " 'Nasrollah Abdollahi',\n",
              " 'Yhyacinthe Mewoli Abdon',\n",
              " 'Hassane Abdou',\n",
              " 'Justin Abdou',\n",
              " 'Moustafa Ahmed Ismail Abdou Ali Arfah',\n",
              " 'Raouf Abdou',\n",
              " 'Mohamed Abdou El-Souad',\n",
              " 'Brahim Daoud Abdoulaye',\n",
              " 'Fawziya Abdoulkarim',\n",
              " 'Alaa El-Din Abdoun',\n",
              " 'Ibrahim Abdrabbou',\n",
              " 'Berik Abdrakhmanov',\n",
              " 'Maizurah Abdul Rahim',\n",
              " 'Mehdi Fahim Abdul Al-Sada',\n",
              " 'Bashir Abdullah Abdul Aziz',\n",
              " 'Chairil Anwar Abdul Aziz',\n",
              " 'Shaimaa Abdul Aziz',\n",
              " 'Mohamed Abdul Hadj',\n",
              " 'Jefri Kiko Bolkiah Abdul Hakeem',\n",
              " 'Mohamed Abdul Hamid',\n",
              " 'S. Abdul Hamid',\n",
              " 'Hadi Abdul Jabbar',\n",
              " 'Mohamed Abed Abdul Jawad',\n",
              " 'Anouar Abdul Kader',\n",
              " 'Talal Hassoun Abdul Kader',\n",
              " 'Abdul Aziz Hassan Al-Hadba Abdul Karim Abdul Kareem',\n",
              " 'Taha Abdul Karim',\n",
              " 'Masoud Abdul Khamis Al-Rahman',\n",
              " 'Abdul Haji Abdul Latheef',\n",
              " 'Fatima Abdul Majeed Hameed Al-Kirashi',\n",
              " 'Majed Ahmed Abdul Mohamed',\n",
              " 'Firouz Abdul Mohammadian',\n",
              " 'Hussam Abdul Rahman',\n",
              " 'Mohamed Ghulom Abdul Rahman',\n",
              " 'Suleman Abdul Rahman',\n",
              " 'Zambrose Abdul Rahman',\n",
              " 'Lala Abdul Rashid',\n",
              " 'Muhammad Abdul Rashid',\n",
              " 'Dana Abdul Razak (Hussain-)',\n",
              " 'A. Abdul Razzak',\n",
              " 'Mohamed Abdul Razzak',\n",
              " 'Muhammad Abdul Razzaq',\n",
              " 'Hazim Abdul Ridha',\n",
              " 'Rauf Abdul Seoud',\n",
              " 'Samir Ahmed Abdul Shakour',\n",
              " 'Nabil Abdul Tahlak',\n",
              " 'Fahmi Ahmed Abdul Wahab Al-Tahri',\n",
              " 'Mohamed Abdul Wahab Al-Salah',\n",
              " 'Qazi Abdul Waheed',\n",
              " 'Patmawati Abdul Wahid',\n",
              " 'Haidar Abdul-Amir Hassan',\n",
              " 'Haidar Abdul-Razzaq Hassan',\n",
              " 'Lawal Kolawole \"Kola\" Abdulai',\n",
              " 'Rukayatu \"Ruky\" Abdulai',\n",
              " 'Mona Ahmad Abdulaziz Hassanein',\n",
              " 'Zagalav Abdulbekovich Abdulbekov',\n",
              " 'Roosevelt M. Abdulgafur',\n",
              " 'Ahmed Abdulkareem Ahmed',\n",
              " 'Gamal Ahmed Abdulla',\n",
              " 'Mohamed Sayed Abdulla',\n",
              " 'Ahmad Hassan Abdullah',\n",
              " 'Ahmed Ghanim Abdullah',\n",
              " 'Aquil Hashim Abdullah (Shumate-)',\n",
              " 'Atallah Abdullah',\n",
              " 'Magdy Ahmed Abdullah',\n",
              " 'Mohamed Abdullah',\n",
              " 'Mohamed Samy Abdullah',\n",
              " 'Osama Abdullah',\n",
              " 'Tewfik Abdullah',\n",
              " 'Wan Azlan Abdullah',\n",
              " 'Zarinah Abdullah',\n",
              " 'Abdel Wahab Abdullah Salih',\n",
              " 'Abubakar Sadiq Abdullahi',\n",
              " 'Abdulqdir Abdullayev',\n",
              " 'Arif Yadulla Abdullayev',\n",
              " 'Mukhammad Kadyr Abdullayev',\n",
              " 'Muminzhon Abdullayev',\n",
              " 'Namiq Yadulla Abdullayev',\n",
              " 'Laye Abdullayeva',\n",
              " 'lqar Abdulov',\n",
              " 'Abdullah Abdulrahman Zeyab',\n",
              " 'Abir Abdulrahman Khalil Mahmoud Khalil',\n",
              " 'Amer Abdulrahman Abdallah Hussain Al-Hammadi',\n",
              " 'Omar Abdulrahman Ahmad Al-Raaqi Al-Amoudi',\n",
              " 'Shaza Yahia Nazih Abdulrahman El-Sayed',\n",
              " 'Najim Abdulrazak Al-Enazy',\n",
              " 'Zeyad Abdulrazak Al-Khudhur Al-Enazy',\n",
              " 'Waheed Abdulridha Waheed Karaawi',\n",
              " 'Mohamed Abdultwab Ibrahim Abd El-Baki',\n",
              " 'Julius Shareef Abdur-Rahim',\n",
              " 'Sherzod Abdurahmonov',\n",
              " 'Rasul Abduraim',\n",
              " 'Bekzod Makhamadzhonovich Abdurakhmonov',\n",
              " 'Mukhamadmurod Abdurakhmonov',\n",
              " 'Adlan Aliyevich Abdurashidov',\n",
              " 'Yusup Abdusalomov',\n",
              " 'Fawzi Abdussalam',\n",
              " 'Andrey Khakimovich Abduvaliyev',\n",
              " 'Dzhamolidin Mirgarifanovich Abduzhaparov',\n",
              " 'Aybek Abdymomunov',\n",
              " 'Isao Ko Abe',\n",
              " 'Kazumi Abe',\n",
              " 'Kazuo Abe',\n",
              " 'Kinya Abe',\n",
              " 'Kiyoshi Abe',\n",
              " 'Masashi Abe',\n",
              " 'Naoki Abe',\n",
              " 'Osamu Abe',\n",
              " 'Shigeaki Abe',\n",
              " 'Shinnosuke Abe',\n",
              " 'Sanshiro \"Sonny\" Abe',\n",
              " 'Tadashi Abe',\n",
              " 'Tadatoshi Abe',\n",
              " 'Wakako Abe',\n",
              " 'Yoshiyuki Abe',\n",
              " 'Yuki Abe',\n",
              " 'Angelik Abebame',\n",
              " 'Addis Abebe',\n",
              " 'Biruk Abebe',\n",
              " 'Benaissa Abed',\n",
              " 'Soha Abed Elaal',\n",
              " 'Mojtaba Abedini Shormasti',\n",
              " 'Thophile Abega Mbida',\n",
              " 'Max \"Xam\" Abegglen',\n",
              " 'Alexandre Abeid',\n",
              " 'Sonia Abejn Esteban',\n",
              " 'Abel Carlos da Silva Braga',\n",
              " 'Adolf Gaston Abel',\n",
              " 'Brooke Abel',\n",
              " 'Clarence John Abel',\n",
              " 'George Gordon Abel',\n",
              " 'Gnther Abel',\n",
              " 'Irene Abel',\n",
              " 'Jennifer Abel',\n",
              " 'Katja Abel',\n",
              " 'Mara Abel Diguez',\n",
              " 'Roger Abel',\n",
              " 'Egil Sten Abel',\n",
              " 'Yaritza Abel Rojas',\n",
              " 'Abelardo Fernndez Antua',\n",
              " 'Arthur Abele',\n",
              " 'Ruth Abeles',\n",
              " 'Louis Grenville \"Lou\" Abell',\n",
              " 'Jos Javier Abella Fanjul',\n",
              " 'Ramn Neptuno Abella Caside',\n",
              " 'Ral Daniel Abella',\n",
              " 'Alfonso Abelln Lpez',\n",
              " 'Juan Luis Abelln Pallahi',\n",
              " 'Edwige Marie Abna Fouda',\n",
              " 'Gezahgne Abera',\n",
              " 'Tesfaye Abera Dibaba',\n",
              " 'Hugo Ral Aberastegui',\n",
              " 'Arvid berg',\n",
              " 'Bjrn Olof Conny berg',\n",
              " 'Nils Georg berg',\n",
              " 'Sara Helena berg',\n",
              " 'Karl Konrad berg',\n",
              " 'Majken berg',\n",
              " 'Olof Viktor \"Olle\" berg',\n",
              " 'Mohamed Aberhoune',\n",
              " 'Julianne \"Anne\" Abernathy',\n",
              " 'Michael Brent Abernathy',\n",
              " 'Moira Abernethy (-Ford)',\n",
              " 'Salim Abes',\n",
              " 'Edme Abetel (-Barr)',\n",
              " 'Pasqualino Abeti',\n",
              " 'Elvan Abeylegesse',\n",
              " 'Ruwani Abeymanne',\n",
              " 'Matthew Duncan Abeysinghe',\n",
              " 'Narek Abgaryan',\n",
              " 'Koutoua Francis Abia',\n",
              " 'Pablo Abin Vicen',\n",
              " 'David Abibssira',\n",
              " 'Silke Abicht',\n",
              " 'Haithem Abid',\n",
              " 'Younis Abid Sadkhan',\n",
              " 'Jaiye Abidoye',\n",
              " 'Sagat Abikeyeva',\n",
              " 'Mitsuhiro Abiko',\n",
              " 'Tomomi Abiko',\n",
              " 'Catherine \"Kate\" Abilla Awino',\n",
              " 'Ismail Abilov (-Nizamolu)',\n",
              " 'Camille Anne Franoise Abily',\n",
              " 'Endurance Abinuwa',\n",
              " 'Bode Abiodun',\n",
              " 'Firmin Abissi',\n",
              " 'Sarah Abitbol',\n",
              " 'Inga Eduardovna Abitova',\n",
              " 'Ceyhun Abiyev',\n",
              " 'Diana Monteiro Abla',\n",
              " 'Enver Nazymovych Ablaiev',\n",
              " 'Leslie Ablett',\n",
              " 'Edgar Allen \"Ed\" Ablowich',\n",
              " 'Denis Mikhaylovich Ablyazin',\n",
              " 'Karin Abma',\n",
              " 'Thorine Christelle Aboa Mbeza',\n",
              " 'Felix Ahmed Aboagye',\n",
              " 'Bukola Dammy Abogunloko',\n",
              " 'Viktor Andreyevich Aboimov',\n",
              " 'Mohamed Aboker',\n",
              " 'Ilze bola',\n",
              " 'Agnese boltia',\n",
              " 'Abdul Razzak Aboobakur',\n",
              " 'Matthew \"Matt\" Abood',\n",
              " 'Piroska Abos Gvorgyzakab',\n",
              " 'Jean-Pierre Abossolo-Ze',\n",
              " 'Abdelhalim Muhammad Abou',\n",
              " 'Tarek Abou Al Dahab',\n",
              " 'Bachir Hani Abou Assi',\n",
              " 'Ashraf Abou El-Hassan',\n",
              " 'Galal El-Din Abdel Meguid Abou El-Kheir',\n",
              " 'Magdy Abou El-Magd',\n",
              " 'Essameldin Abou El-Nein',\n",
              " 'Abdel Khlik Abou El-Yazi',\n",
              " 'Mohamed Moustafa Abou Elea',\n",
              " 'Mahmoud Abou Elelaa',\n",
              " 'Mohammed Tawfiq Abou Habaga',\n",
              " 'Zaid Abou Hamed',\n",
              " 'Youssef Kamel Mohamed Abou Ouf',\n",
              " 'Gaber Mooti Abou Zeid',\n",
              " 'Taher Abou Zeid Sayid Amer',\n",
              " 'Ahmed Farid Abou-Shadi',\n",
              " 'Abdel Fattah Abou-Shanab',\n",
              " 'Sadoon Mohamed Aboub',\n",
              " 'Zakaria Aboub',\n",
              " 'Inni Aboubacar',\n",
              " 'Ibrahim Mohamedin Aboubaker',\n",
              " 'Ahmed Ghmin Aboud',\n",
              " 'Fathi Khalifa Aboud',\n",
              " 'Kamel Aboud',\n",
              " 'Marwan Suhail Aboud',\n",
              " 'Rabah Aboud',\n",
              " 'Mamdouh Taha Al-Husseini Abouebaid',\n",
              " 'Alaaeldin Ahmad El-Sayyid Abouelkassem',\n",
              " 'Haysam Farouk Abouelw',\n",
              " 'Waguih Rauf Aboul Seoud',\n",
              " 'El-Sayed Aboumedan',\n",
              " 'Dany Abounaoum',\n",
              " 'Sdonoud Janvier Abouta',\n",
              " 'Mohamed Mohamed Mohamed Aboutrika',\n",
              " 'Ahmad Shah Abouwi',\n",
              " 'Adeola Aboyade-Cole',\n",
              " 'Cheryl Abplanalp',\n",
              " 'Alexander \"Alex\" Abraham (Steglitz)',\n",
              " 'Andrei Abraham',\n",
              " 'Attila brahm',\n",
              " 'Bernhard Abraham',\n",
              " 'Gary Abraham',\n",
              " 'Melita Isidora Abraham Schssler',\n",
              " 'Tadesse Abraham',\n",
              " 'Shiny Kurisingal Abraham-Wilson',\n",
              " 'Mariola Teresa Abrahamczyk (-Fronckowiak)',\n",
              " 'Ara Abrahamian',\n",
              " 'Stphan Abrahamian Gonzalez',\n",
              " 'Clyde Abrahams',\n",
              " 'Glen Abrahams Martnez',\n",
              " 'Guy A. Abrahams',\n",
              " 'Harold Maurice Abrahams',\n",
              " 'Sidney Solomon Abrahams',\n",
              " 'Isak Abrahamsen',\n",
              " 'Knut Leo Abrahamsen',\n",
              " 'Trond Sevg Abrahamsen',\n",
              " 'Donald Robert Abrahamson, Jr.',\n",
              " 'Richard Neal Abrahamson',\n",
              " 'Kurt Christer Abrahamsson (-Abris)',\n",
              " 'Erik Adolf Efraim Abrahamsson',\n",
              " 'Karl Gran Abrahamsson',\n",
              " 'Karl Gustaf Emanuel Abrahamsson',\n",
              " 'Ulf Thommy Abrahamsson',\n",
              " 'Fletcher Abram, Jr.',\n",
              " 'Iason Abramashvili',\n",
              " 'Yelena Vasilyevna Abramchuk (Kopets-)',\n",
              " 'Oleksandr Volodymyrovych Abramenko',\n",
              " 'Yevgeny Sergeyevich Abramenko',\n",
              " 'Lahcen Abrami',\n",
              " \"Ek'aterina Abramia\",\n",
              " 'Jernej Abrami',\n",
              " 'Levan Abramishvili',\n",
              " 'Andrey Vasilyevich Abramov',\n",
              " 'Andrey Viktorovich Abramov',\n",
              " 'Nikolay Kuzmich Abramov',\n",
              " 'Pavel Sergeyevich Abramov',\n",
              " 'Sergey Mikhaylovich Abramov',\n",
              " 'Valery Aleksandrovich Abramov',\n",
              " 'Inna Vladimirovna Abramova',\n",
              " 'Nelli Mikhaylovna Abramova',\n",
              " 'Yekaterina Konstantinovna Abramova',\n",
              " 'Alen Abramovi',\n",
              " 'Dmitry Vladimirovich Abramovich',\n",
              " 'Aliyah Abrams',\n",
              " 'Colin Winston Abrams',\n",
              " 'John Charles Abrams',\n",
              " 'Benik Abramyan',\n",
              " 'Antnio da Cunha Meneses Martins Abrantes',\n",
              " 'Arnaldo Lus Isaas Abrantes',\n",
              " 'Arnaldo Joaquim Castro Abrantes',\n",
              " 'David Abrard',\n",
              " 'Tsvetelina Abrasheva',\n",
              " 'Amir Abrashi',\n",
              " 'Thomas Abratis',\n",
              " 'Pawe Abratkiewicz',\n",
              " 'Diogo Ferreira Tribolet de Abreu',\n",
              " 'Eloy Abreu Morales',\n",
              " 'Glauclio Serro Abreu',\n",
              " 'Jos Filipe Abreu',\n",
              " 'Emilio Julio Abreu',\n",
              " 'Morais Santos Abreu',\n",
              " 'Paulo Francisco Joazeiro de Abreu',\n",
              " 'Pedro Abreu Pascal',\n",
              " 'Rubn Abreu Rivero',\n",
              " 'Rui Pinto de Abreu',\n",
              " 'Franck Abrial',\n",
              " 'rika Abril Surez',\n",
              " 'Laura Valentina Abril Restrepo',\n",
              " 'Alejandro \"lex\" Abrines Redondo',\n",
              " 'Knut Richard brink',\n",
              " 'Bourhan Abro',\n",
              " 'Anastasiya Aleksandrovna Abrosimova',\n",
              " 'Svetlana Olegovna Abrosimova',\n",
              " 'Elisabeta Abrudeanu',\n",
              " 'Saypulla Atavovich Absaidov',\n",
              " 'Julien Absalon',\n",
              " 'Ayele Abshero Biza',\n",
              " 'Brian Kenneth Abshire',\n",
              " 'Tobias Abstreiter',\n",
              " 'Gudrun Maria Abt',\n",
              " 'Aleksandr Viktorovich \"Sasha\" Abt',\n",
              " 'Najmeh Abtin',\n",
              " 'Mohamed Abu Abdullah',\n",
              " 'Abdul Wahab Abu Al-Hail Labid',\n",
              " 'Mohamed Ahmed Abu Ali',\n",
              " 'Methkal Marouf Abu Drais',\n",
              " 'Lailin Abu Hassan',\n",
              " 'Majed Abu Maraheel',\n",
              " 'Maher Abu Rmilah',\n",
              " 'Mohamed Ahmed Abu Sobea',\n",
              " 'Omar Abu-Fares',\n",
              " 'Bektas Abubakirov',\n",
              " 'Nagmeldin Ali Abubakr',\n",
              " 'Sanna Abubkheet',\n",
              " 'Abudoureheman',\n",
              " 'Juma Abudu',\n",
              " 'Folashade \"Shade\" Abugan',\n",
              " 'Fernando J. Abugattas Aboino',\n",
              " 'Roberto Abugattas Aboino',\n",
              " 'Hamza Abughalia',\n",
              " 'Ahmad Abughaush',\n",
              " 'Fartun Abukar Omar',\n",
              " 'Ginko Abukawa-Chiba',\n",
              " 'Mohammed Abukhousa',\n",
              " 'Mohammad Abulibdeh',\n",
              " 'Kariman Abuljadayel',\n",
              " 'Jos Manuel Abundis Sandoval',\n",
              " 'Abdullah Abuqrais',\n",
              " 'Shigeru Aburaya',\n",
              " 'Cristobal Alejandro Aburto Tinoco',\n",
              " 'Aleksandr Veniaminovich Abushakhmetov',\n",
              " 'Magomedgasan Mingazhutdinovich Abushev',\n",
              " 'Kanat Kalizhanovich Abutalipov',\n",
              " 'Anas Sameer N. H. Abuyousuf',\n",
              " 'Ali Abuzamia',\n",
              " 'Irina Alekseyevna Abysova',\n",
              " 'Srr Acar',\n",
              " 'E. Doan Acarbay',\n",
              " 'Alain Acart',\n",
              " 'Andreea Roxana Acatrinei',\n",
              " 'Jacques Accambray',\n",
              " 'William Accambray',\n",
              " 'Anna Accensi Abella',\n",
              " 'Ezio Acchini',\n",
              " 'Mario Acchini',\n",
              " 'Martina Accola',\n",
              " 'Paul Accola',\n",
              " 'Alfredo Accorsi',\n",
              " 'Enrique Accorsi Teuthorn',\n",
              " 'Eusebio Acea Colarte',\n",
              " 'Raidel Acea Morales',\n",
              " 'Domingo Gmez-Acedo Villanueva',\n",
              " 'Carmen Acedo Jorge',\n",
              " 'Jos Aceituno',\n",
              " 'Ervin S. Acel',\n",
              " 'Marco Acerbi',\n",
              " 'Claudia Acerenza Marez',\n",
              " 'Elmer ngel Acevedo',\n",
              " 'Anibl Santiago Acevedo',\n",
              " 'Eyne Acevedo Tabares',\n",
              " 'Fabio Acevedo',\n",
              " 'Fernando Acevedo Portugues',\n",
              " 'Javier Carlos Acevedo',\n",
              " 'Jos Eduardo Acevedo Herrera',\n",
              " 'Nicole Jocelin Acevedo Tangarife',\n",
              " 'Sharon Evelin Acevedo Tangarife',\n",
              " 'Daniel Aceves Villagrn',\n",
              " 'Roberto Aceves Villagrn',\n",
              " 'David Laurence Acfield',\n",
              " 'Mohamed Ali Acha-Cheloi',\n",
              " 'Jaouad Achab',\n",
              " 'Mustapha Achab',\n",
              " 'Karem Faride Achach Ramrez',\n",
              " 'Emilio Achacoso',\n",
              " 'Loreto Achaerandio Snchez-Marn',\n",
              " 'Sharath Kamal Achanta',\n",
              " 'Kieron Robert Achara',\n",
              " 'Gilbert Achard-Picard',\n",
              " 'Aziz Acharki',\n",
              " 'Benjamin \"Ben\" Acheampong',\n",
              " 'Gemma Acheampong',\n",
              " 'Joachim Yaw Acheampong',\n",
              " 'Alfred Achermann',\n",
              " 'Ghassan Achi',\n",
              " 'Wilson Achia',\n",
              " 'Abdel Hak Achik',\n",
              " 'Mohamed Abdelhak Achik',\n",
              " 'Onochie Lawrence \"Larry\" Achike',\n",
              " 'Gaston Achille',\n",
              " 'Georges Achille-Fould',\n",
              " 'Jacob Hendrik \"Jack\" Achilles',\n",
              " 'Ioan Valeriu Achiriloaie',\n",
              " 'Rita Nikolayevna Achkina',\n",
              " 'Janet Achola',\n",
              " 'Julius Achon',\n",
              " 'Natalie Chioma Achonwa',\n",
              " 'Ahmed Mohamed Achouche',\n",
              " 'Dallal Merwa Achour',\n",
              " 'Khaled Achour',\n",
              " 'Haykel Al-Achouri',\n",
              " 'Said Achtar',\n",
              " 'Roger Achten',\n",
              " 'Chantal Achterberg',\n",
              " 'Assumpta Achuo-Bei',\n",
              " 'James Dudley \"Jim\" Achurch',\n",
              " 'Gabriel Achy Assi',\n",
              " 'Oliver M. Acii',\n",
              " 'Ricardo Augusto Amaral Acioly',\n",
              " 'Charles Acke',\n",
              " 'Fausto Alesio Acke (Padovini-)',\n",
              " 'Paul Douglas Ackerley',\n",
              " 'Charles Edwin \"Charley\" Ackerly',\n",
              " 'Nathaniel Leedom \"Nate\" Ackerman',\n",
              " 'Georg Ackermann',\n",
              " 'Ronny Ackermann',\n",
              " 'Marianne \"Marjan\" Ackermans-Thomas',\n",
              " 'Dsir Antoine Acket',\n",
              " 'Donat Acklin',\n",
              " 'Guido Acklin',\n",
              " 'Urban Acman',\n",
              " 'Alberto Enrique Acosta Palma',\n",
              " 'Asuncin Acosta Galano',\n",
              " 'Bryan Josu Acosta Ramos',\n",
              " 'Carlos Acosta',\n",
              " 'Hctor H. Acosta',\n",
              " 'Jos Eugenio Acosta',\n",
              " 'Juan Acosta Umazabal',\n",
              " 'Julio Csar Acosta Gonzlez',\n",
              " 'Lautaro Germn Acosta',\n",
              " 'Leopoldo Acosta',\n",
              " 'Luis Angel Acosta',\n",
              " 'Luz Mercedes Acosta Valdez',\n",
              " 'Marcelo Alberto Acosta Jimnez',\n",
              " 'Mara Jos Acosta Acosta',\n",
              " 'Mariano Acosta',\n",
              " 'Osmay Acosta Duarte',\n",
              " 'Pedro Javier Acosta Snchez',\n",
              " 'Roslandy del Valle Acosta Alvarado',\n",
              " 'Tanya Acosta',\n",
              " 'Martn Ral Acosta y Lara Daz',\n",
              " 'George Wilson Acquaah',\n",
              " 'Robert Acquafresca',\n",
              " 'Edward Acquah',\n",
              " 'Oliver Acquah',\n",
              " 'Samuel \"Sam\" Acquah',\n",
              " 'Ilona cs (-Zimmermann)',\n",
              " 'Otto Mnsted Acthon',\n",
              " 'Benjamin Maxwell \"Ben\" Acton',\n",
              " 'Brigitte Acton (-Smith)',\n",
              " 'Amelia Lynn \"Amy\" Acuff (-Harvey)',\n",
              " 'Crox Ernesto Acua Rodrguez',\n",
              " 'Jorge Acua',\n",
              " 'ngel \"Mudo\" Acua Lizana',\n",
              " 'Ricardo Acua',\n",
              " 'Roberto Acua',\n",
              " 'Arslanbek Aylow',\n",
              " 'Jzsef Aczl (-Eisenhoffer)',\n",
              " 'Kazimierz Piotr Adach',\n",
              " 'Goro Adachi',\n",
              " 'Kiyoshi Adachi',\n",
              " 'Mariko Adachi',\n",
              " 'Miho Adachi',\n",
              " 'Seiya Adachi',\n",
              " 'Takumi Adachi',\n",
              " 'Yumi Adachi',\n",
              " 'Yurie Adachi',\n",
              " 'Craig Robert Adair',\n",
              " 'Ali Enver Adakan',\n",
              " 'Adalberto Pereira da Silva',\n",
              " 'Adam',\n",
              " 'Ahmed Adam',\n",
              " 'Constantin Adam',\n",
              " 'Gal Adam',\n",
              " 'Gordon Belgum \"Gordy\" Adam',\n",
              " 'Herman Adam Negrete',\n",
              " 'Idrissa Adam',\n",
              " 'Jean-Paul Adam',\n",
              " 'Ji Adam',\n",
              " 'Johannes \"Johann\" Adam',\n",
              " 'Joseph Adam',\n",
              " 'Leonie Adam',\n",
              " 'Marcus Adam',\n",
              " 'Marianne Adam',\n",
              " 'Michael B. \"Mike\" Adam',\n",
              " 'Moustafa Adam',\n",
              " 'Nicolas Dominique \"Nic\" Adam',\n",
              " 'Otto Adam',\n",
              " 'Paul Adam',\n",
              " 'Pierre Louis Eugne Adam',\n",
              " 'Sndor dm',\n",
              " 'Shuaib Adam',\n",
              " 'Tony Adam',\n",
              " 'Ahmed Adam Salah',\n",
              " 'Samba Adama',\n",
              " 'Stefan Adamczak',\n",
              " 'Matthias Adamczewski',\n",
              " 'Dariusz Adamczuk',\n",
              " 'Adam Eucharyst Adamczyk',\n",
              " 'Edward Adamczyk',\n",
              " 'Lubo Adamec',\n",
              " 'Petr Adamec',\n",
              " 'Mara Teresa Adames',\n",
              " 'Luigi Adami',\n",
              " 'Jina Adamikov-Pelcov',\n",
              " 'Panagiotis Adamidis',\n",
              " 'Janusz Andrzej Adamiec',\n",
              " 'Tomasz Adamiec',\n",
              " 'Sabine Heidrun Adamik (Picken-, -Bothe)',\n",
              " 'Zoltn Adamik',\n",
              " 'Pirouz Adamiyat',\n",
              " 'Nafissatou Moussa Adamou',\n",
              " 'Georgi Mirchev Adamov',\n",
              " 'Tatyana Pavlovna Adamovich',\n",
              " 'Tadeusz Ralf Adamowski',\n",
              " 'Anne Wilma Adams (-King)',\n",
              " 'Antoine Xavier Adams',\n",
              " 'April Jane Adams',\n",
              " 'Bartlett S. \"Bart\" Adams',\n",
              " 'Benjamin Willard \"Ben\" Adams',\n",
              " 'Robert \"Bob\" Adams',\n",
              " 'Brian Adams',\n",
              " 'Bridget Shirley Adams (-Bengough)',\n",
              " 'Natalie Cammile Adams (-Brannan)',\n",
              " 'David Dixie Adams',\n",
              " 'Edgar Holmes Adams',\n",
              " 'Edward Adams',\n",
              " 'Francis \"Frank\" Adams',\n",
              " 'Frederick Thomas \"Fred\" Adams',\n",
              " 'Gerard \"Gerry\" Adams',\n",
              " 'Harry Lester Adams',\n",
              " 'John E. Adams',\n",
              " 'Judith C. \"Judi\" Adams',\n",
              " 'Keith Adams',\n",
              " 'Lennox Adams',\n",
              " 'Liam Adams',\n",
              " 'Luke Kendall Adams',\n",
              " 'Lynda Riley Adams (-Hunt)',\n",
              " 'Lyukman Rasakovich Adams',\n",
              " 'Mareike Adams',\n",
              " 'Maureen Adams',\n",
              " 'Morgan Orlando Adams, Jr.',\n",
              " 'Adrian Neil Adams',\n",
              " 'Nelson Luis Adams',\n",
              " 'Nicola Virginia Adams',\n",
              " 'Odalys Adams Castillo',\n",
              " 'Paul Adams',\n",
              " 'Phillip Maxwell \"Phil\" Adams',\n",
              " 'Platt Adams',\n",
              " 'Rachael Alexis Adams',\n",
              " 'Ralph Andrew Adams',\n",
              " 'Robert P. Adams',\n",
              " 'Victoria \"Vicki\" Adams',\n",
              " 'Walter Adams',\n",
              " 'Wayman Elbridge Adams',\n",
              " 'William T. Adams',\n",
              " 'William Edward \"Willie\" Adams',\n",
              " 'Birgitta Ann-Agnes \"Bride\" Adams-Ray',\n",
              " 'Valerie Kasanita Adams-Vili (-Price)',\n",
              " 'Morten Gundro Adamsen',\n",
              " 'Antoni Adamski',\n",
              " 'Filip Kamil Adamski',\n",
              " 'Herbert Adamski',\n",
              " 'Jerzy Adamski',\n",
              " 'Tadeusz Adamski',\n",
              " 'Per Anders Adamson',\n",
              " 'Derrick Adamson',\n",
              " 'James Nicholas \"Nick\" Adamson',\n",
              " 'Per Owe Adamson',\n",
              " 'Gsta Napoleon Adamsson',\n",
              " 'Charles Adamu',\n",
              " 'Mamudu Adamu',\n",
              " 'Dariusz Adamus',\n",
              " 'Jos Carlos Adn Arias',\n",
              " 'Nenita Adan',\n",
              " 'Aboukar Hassan Adani',\n",
              " 'Yasemin Adar',\n",
              " 'Juan Bautista Adarraga Elizarn',\n",
              " 'Orhan Ada',\n",
              " 'Christopher Thomas \"Chris\" Adcock',\n",
              " 'Frances \"Fran\" Adcock',\n",
              " '  Gabrielle Marie \"Gabby\" Adcock (White-)',\n",
              " 'William Arthur \"Bill\" Adcocks',\n",
              " 'Berkane Lakhdar Adda',\n",
              " 'Elie Adda',\n",
              " 'Mehdi Addadi',\n",
              " 'Edith Addams de Habbelinck (-Lutjens, -Taylor, -Bel Geddes)',\n",
              " 'Jenny Marie Beatrice Addams',\n",
              " 'Jean Renaud Adde',\n",
              " 'Yannick Adde',\n",
              " 'Hamida Addche',\n",
              " 'Corran Descy Addison',\n",
              " 'Roy Addison',\n",
              " 'Joseph \"Joe\" Addo',\n",
              " 'Simon Addo',\n",
              " 'Charles Addo-Odametey',\n",
              " 'Eugene Addor',\n",
              " 'Robert Charles \"Bob\" Addy',\n",
              " 'Ebenezer Charles O. Addy',\n",
              " 'James Aryee Addy',\n",
              " 'Jangy McKinley Addy',\n",
              " 'Mercy Addy',\n",
              " 'Winifred Addy',\n",
              " 'William Harold Ade',\n",
              " 'Peter Adeberg',\n",
              " 'Ulrike Adeberg (-Spielmann)',\n",
              " 'James Adede',\n",
              " 'Adegboyega Folaranmi Adedoyin',\n",
              " 'Olubayo Adefemi',\n",
              " 'Lawrence Adegbeingbe',\n",
              " 'Stephen Adebisi Gbadegesin \"Steve\" Adegbite',\n",
              " 'Adewale Adegbusi',\n",
              " \"Oluwakemi 'Kemi' Adekoya\",\n",
              " 'Amos Ojo Adekunle',\n",
              " 'Odunayo Folasade Adekuoroye',\n",
              " 'Carolyn Adel',\n",
              " 'Gun Margareta del (-Nilsson)',\n",
              " 'Alberto Adela',\n",
              " 'Peter Adelaar',\n",
              " 'Irfan Adelbi',\n",
              " 'Ayodele \"Dele\" Adeleye',\n",
              " 'Andr Adelheim',\n",
              " 'Hugh Jean \"Danny\" Adeline',\n",
              " 'Antoine Adelisse',\n",
              " 'Beatrice Adelizzi',\n",
              " 'Marcel Louis Ernest Alfred Charles Albert Adelon',\n",
              " 'Lambert Adelot',\n",
              " 'Abrar Osman Adem',\n",
              " 'Biko Adema',\n",
              " 'Joost Adema',\n",
              " 'Ademir Roque Kaefer',\n",
              " 'Hoche Yaya Aden',\n",
              " 'Ibrahim Mohamed Aden Gedi',\n",
              " 'Jama Awil Aden',\n",
              " 'Jama Mohamed Aden',\n",
              " 'Olapade Charles Adeniken',\n",
              " 'Aminat Oluwafunmilayo Adeniyi',\n",
              " 'Adenzia Aparecida Ferreira da Silva',\n",
              " 'Esau Adenji',\n",
              " 'Margaret Adetutu Adeoye',\n",
              " 'Alfred Ader',\n",
              " 'Berhane Adere Debala',\n",
              " 'Hanns Aderhold',\n",
              " 'Nyakisi Adero',\n",
              " 'Ademola Adeshina',\n",
              " 'Adsio Alves Machado',\n",
              " 'Adeoye Adetunji',\n",
              " 'Adevaldo Virglio Netto',\n",
              " 'Isiaq Adeyanju',\n",
              " 'Fatai Adeyemo',\n",
              " 'Cary Glen Adgate',\n",
              " 'Kamal Bahadur Adhikari',\n",
              " 'David Adiele',\n",
              " 'Paul Adiga',\n",
              " 'Moriam Seun Adigun',\n",
              " 'Arman Adikyan',\n",
              " 'Haydy Morsy Adil',\n",
              " 'Mirza Adil',\n",
              " 'Adel Mohamed Adili',\n",
              " 'Adilson de Freitas Nascimento',\n",
              " 'Hammed Adio',\n",
              " 'Antonio R. Adipe Marrone',\n",
              " 'Ilana Adir (-Kamarshik)',\n",
              " 'Evelyn Adiru',\n",
              " 'Badathala Adisekhar',\n",
              " 'Franck Adisson',\n",
              " 'Adiyasambuu Tsolmon',\n",
              " 'Jikirum Adjaluddin',\n",
              " 'Richard \"Richy\"  Adjei',\n",
              " 'Sammi Adjei',\n",
              " 'Denos Adjima Beche',\n",
              " 'Christian Donfack Adjoufack',\n",
              " 'Amanda Jo Adkins (-Schneider)',\n",
              " 'Bradley Don \"Brad\" Adkins',\n",
              " 'Charles \"Chuck\" Adkins',\n",
              " 'Derrick Ralph Adkins',\n",
              " 'Robert Edward \"Bob\" Adlard',\n",
              " 'Alan Adler',\n",
              " 'Daniel Adler',\n",
              " 'Egon Adler',\n",
              " 'Margarete \"Grete\" Adler',\n",
              " 'Harry Herchel Adler',\n",
              " 'Lena Kristina Adler',\n",
              " 'Uwe Adler',\n",
              " 'Herman Aleksandrovich Adlerberg',\n",
              " 'Gregor Nils Henric Adlercreutz',\n",
              " 'Nils August Domingo Adlercreutz',\n",
              " 'Anna Mrtha Vilhelmina Adlerstrhle (von Oelreich-)',\n",
              " 'Jonna Eva-Maj Adlerteg',\n",
              " 'Erik William Adlerz',\n",
              " 'Mrta Elvira Adlerz (-Hermansson)',\n",
              " 'Hans Adlhoch',\n",
              " 'Rebecca \"Becky\" Adlington',\n",
              " 'Katrin Adlkofer',\n",
              " 'Hamdi Adly El-Seoudi Ibrahim',\n",
              " 'Sad Admane',\n",
              " 'Jane Admans',\n",
              " 'Megra Admassou',\n",
              " 'Adriana Johanna Jacoba Admiraal-Meijerink',\n",
              " 'Khadour Adnan',\n",
              " 'Mustapha Adnane',\n",
              " 'Gadi Ado',\n",
              " 'Adogon',\n",
              " 'Christopher Silas Adolf',\n",
              " 'Josef Adolf',\n",
              " 'Ruth Adolf',\n",
              " 'Ricardo Adolfo',\n",
              " 'Jan Erik Adolfsen',\n",
              " 'Karl Tage Herbert Adolfsson',\n",
              " 'Lars Olof Melker Adolfsson',\n",
              " 'ke Ronnie Adolfsson',\n",
              " 'Sune Roland Adolfsson',\n",
              " 'Dainius Adomaitis',\n",
              " 'Svajnas Adomaitis',\n",
              " 'Daniel Adomako',\n",
              " 'Lena Annika Adomat',\n",
              " ...]"
            ]
          },
          "metadata": {},
          "execution_count": 25
        }
      ]
    },
    {
      "cell_type": "markdown",
      "metadata": {
        "id": "yNHKxlGsfB3X"
      },
      "source": [
        "7. Which team has brought the most number of female and male players?"
      ]
    },
    {
      "cell_type": "code",
      "metadata": {
        "colab": {
          "base_uri": "https://localhost:8080/"
        },
        "id": "DKgOungYfEEY",
        "outputId": "7486d5c2-2700-470d-938b-a935f67818ff"
      },
      "source": [
        "df1.groupby(['Team'])['Sex'].count().sort_values(ascending=False)"
      ],
      "execution_count": 26,
      "outputs": [
        {
          "output_type": "execute_result",
          "data": {
            "text/plain": [
              "Team\n",
              "United States     17847\n",
              "France            11988\n",
              "Great Britain     11404\n",
              "Italy             10260\n",
              "Germany            9326\n",
              "                  ...  \n",
              "Formosa               1\n",
              "Plume-patte-32        1\n",
              "Pop Art               1\n",
              "Satchmo               1\n",
              "Souvenance            1\n",
              "Name: Sex, Length: 1184, dtype: int64"
            ]
          },
          "metadata": {},
          "execution_count": 26
        }
      ]
    },
    {
      "cell_type": "markdown",
      "metadata": {
        "id": "ZhLJgntFfNZl"
      },
      "source": [
        "8. Draw a suitable graph which depicts different events took place from 1900 to 2016.\n"
      ]
    },
    {
      "cell_type": "code",
      "metadata": {
        "colab": {
          "base_uri": "https://localhost:8080/",
          "height": 638
        },
        "id": "b7ca9GVIfOSr",
        "outputId": "bec92156-d525-4a1b-953f-8a9764c67968"
      },
      "source": [
        "import matplotlib.pyplot as plt\n",
        "df1.groupby(['Year'])['Event'].count().plot.bar(figsize=(16,10))\n",
        "plt.xlabel('Years')\n",
        "plt.ylabel('No_of_Events')"
      ],
      "execution_count": 29,
      "outputs": [
        {
          "output_type": "execute_result",
          "data": {
            "text/plain": [
              "Text(0, 0.5, 'No_of_Events')"
            ]
          },
          "metadata": {},
          "execution_count": 29
        },
        {
          "output_type": "display_data",
          "data": {
            "image/png": "[encoded data removed]",
            "text/plain": [
              "<Figure size 1152x720 with 1 Axes>"
            ]
          },
          "metadata": {
            "needs_background": "light"
          }
        }
      ]
    },
    {
      "cell_type": "markdown",
      "metadata": {
        "id": "0h0fzY3vf-26"
      },
      "source": [
        "9. What are the different sports played in a different season?"
      ]
    },
    {
      "cell_type": "code",
      "metadata": {
        "colab": {
          "base_uri": "https://localhost:8080/"
        },
        "id": "p0kEWwolf_h6",
        "outputId": "ba481bba-312e-474f-8eb0-f71bfee2c94f"
      },
      "source": [
        "df1.groupby('Season')['Sport'].unique().to_dict()"
      ],
      "execution_count": 30,
      "outputs": [
        {
          "output_type": "execute_result",
          "data": {
            "text/plain": [
              "{'Summer': array(['Basketball', 'Judo', 'Football', 'Tug-Of-War', 'Athletics',\n",
              "        'Swimming', 'Badminton', 'Sailing', 'Gymnastics',\n",
              "        'Art Competitions', 'Handball', 'Weightlifting', 'Wrestling',\n",
              "        'Water Polo', 'Hockey', 'Rowing', 'Fencing', 'Equestrianism',\n",
              "        'Shooting', 'Boxing', 'Taekwondo', 'Cycling', 'Diving', 'Canoeing',\n",
              "        'Tennis', 'Modern Pentathlon', 'Golf', 'Softball', 'Archery',\n",
              "        'Volleyball', 'Synchronized Swimming', 'Table Tennis', 'Baseball',\n",
              "        'Rhythmic Gymnastics', 'Rugby Sevens', 'Trampolining',\n",
              "        'Beach Volleyball', 'Triathlon', 'Rugby', 'Lacrosse', 'Polo',\n",
              "        'Cricket', 'Ice Hockey', 'Racquets', 'Motorboating', 'Croquet',\n",
              "        'Figure Skating', 'Jeu De Paume', 'Roque', 'Basque Pelota',\n",
              "        'Alpinism', 'Aeronautics'], dtype=object),\n",
              " 'Winter': array(['Speed Skating', 'Cross Country Skiing', 'Ice Hockey', 'Biathlon',\n",
              "        'Alpine Skiing', 'Luge', 'Bobsleigh', 'Figure Skating',\n",
              "        'Nordic Combined', 'Freestyle Skiing', 'Ski Jumping', 'Curling',\n",
              "        'Snowboarding', 'Short Track Speed Skating', 'Skeleton',\n",
              "        'Military Ski Patrol', 'Alpinism'], dtype=object)}"
            ]
          },
          "metadata": {},
          "execution_count": 30
        }
      ]
    },
    {
      "cell_type": "markdown",
      "metadata": {
        "id": "92SefPZJgHww"
      },
      "source": [
        "10. What are the average height and weight of players who participated in football, Judo,\n",
        "basketball?"
      ]
    },
    {
      "cell_type": "code",
      "metadata": {
        "id": "E5ewvEoUgM3S"
      },
      "source": [
        "h_w_avg = df1.loc[(df1['Sport'] == 'Football') | (df1['Sport'] == 'Judo') | (df1['Sport'] == 'Basketball')]"
      ],
      "execution_count": 31,
      "outputs": []
    },
    {
      "cell_type": "code",
      "metadata": {
        "colab": {
          "base_uri": "https://localhost:8080/"
        },
        "id": "R7C07tykgaFk",
        "outputId": "3d918ac6-07ea-4aac-8db8-a7f2b5fc0740"
      },
      "source": [
        "h_w_avg['Height'].mean(), h_w_avg['Weight'].mean()"
      ],
      "execution_count": 32,
      "outputs": [
        {
          "output_type": "execute_result",
          "data": {
            "text/plain": [
              "(179.09535280344957, 76.14279907732836)"
            ]
          },
          "metadata": {},
          "execution_count": 32
        }
      ]
    },
    {
      "cell_type": "markdown",
      "metadata": {
        "id": "f6AYadzMgj-E"
      },
      "source": [
        "11. How many sports and events were player in 1992 winter, 1994 winter 2000 summer\n",
        "2002 winter"
      ]
    },
    {
      "cell_type": "code",
      "metadata": {
        "id": "rzY1mBdegk2J"
      },
      "source": [
        "winter1992 = df1.loc[(df1['Year'] == 1992)  & (df1['Season'] == 'Winter')]"
      ],
      "execution_count": 33,
      "outputs": []
    },
    {
      "cell_type": "code",
      "metadata": {
        "colab": {
          "base_uri": "https://localhost:8080/"
        },
        "id": "tZNIt8H0g0_1",
        "outputId": "e7efca1c-bff3-4b38-8344-4afe60dc5165"
      },
      "source": [
        "winter1992[['Sport','Event']].nunique()"
      ],
      "execution_count": 34,
      "outputs": [
        {
          "output_type": "execute_result",
          "data": {
            "text/plain": [
              "Sport    12\n",
              "Event    57\n",
              "dtype: int64"
            ]
          },
          "metadata": {},
          "execution_count": 34
        }
      ]
    },
    {
      "cell_type": "code",
      "metadata": {
        "id": "GK0SWKYsg6jo"
      },
      "source": [
        "winter1994 = df1.loc[(df1['Year'] == 1994)  & (df1['Season'] == 'Winter')]"
      ],
      "execution_count": 35,
      "outputs": []
    },
    {
      "cell_type": "code",
      "metadata": {
        "colab": {
          "base_uri": "https://localhost:8080/"
        },
        "id": "1kQBnLayg7LJ",
        "outputId": "77cbb1f5-dc95-4b04-9354-1de677361375"
      },
      "source": [
        "\n",
        "winter1994[['Sport','Event']].nunique()"
      ],
      "execution_count": 36,
      "outputs": [
        {
          "output_type": "execute_result",
          "data": {
            "text/plain": [
              "Sport    12\n",
              "Event    61\n",
              "dtype: int64"
            ]
          },
          "metadata": {},
          "execution_count": 36
        }
      ]
    },
    {
      "cell_type": "code",
      "metadata": {
        "id": "fxr2dEephBmO"
      },
      "source": [
        "summer2000 = df1.loc[(df1['Year'] == 2000)  & (df1['Season'] == 'Summer')]"
      ],
      "execution_count": 37,
      "outputs": []
    },
    {
      "cell_type": "code",
      "metadata": {
        "colab": {
          "base_uri": "https://localhost:8080/"
        },
        "id": "PYPbGbW2hDsR",
        "outputId": "752d498e-8e6a-4c53-ec0d-0c5c7a437d34"
      },
      "source": [
        "summer2000[['Sport','Event']].nunique()"
      ],
      "execution_count": 38,
      "outputs": [
        {
          "output_type": "execute_result",
          "data": {
            "text/plain": [
              "Sport     34\n",
              "Event    300\n",
              "dtype: int64"
            ]
          },
          "metadata": {},
          "execution_count": 38
        }
      ]
    },
    {
      "cell_type": "code",
      "metadata": {
        "id": "SNwZdMu9hGbO"
      },
      "source": [
        "winter2002 = df1.loc[(df1['Year'] == 2002)  & (df1['Season'] == 'Winter')]"
      ],
      "execution_count": 39,
      "outputs": []
    },
    {
      "cell_type": "code",
      "metadata": {
        "colab": {
          "base_uri": "https://localhost:8080/"
        },
        "id": "zjoCvs8nhMyw",
        "outputId": "73676640-6681-4842-81e1-d3b6b6b575d8"
      },
      "source": [
        "winter2002[['Sport','Event']].nunique()"
      ],
      "execution_count": 40,
      "outputs": [
        {
          "output_type": "execute_result",
          "data": {
            "text/plain": [
              "Sport    15\n",
              "Event    78\n",
              "dtype: int64"
            ]
          },
          "metadata": {},
          "execution_count": 40
        }
      ]
    },
    {
      "cell_type": "markdown",
      "metadata": {
        "id": "OoKQh7TcjUzL"
      },
      "source": [
        "13. What is the highest number of sports played in the year 1990, 1992, 1994, 2016?"
      ]
    },
    {
      "cell_type": "code",
      "metadata": {
        "colab": {
          "base_uri": "https://localhost:8080/",
          "height": 49
        },
        "id": "NoCjcZQrjV16",
        "outputId": "a62a251f-eefd-4ffc-9922-16c796041b47"
      },
      "source": [
        "df1[df1['Year'] == 1990]"
      ],
      "execution_count": 41,
      "outputs": [
        {
          "output_type": "execute_result",
          "data": {
            "text/html": [
              "<div>\n",
              "<style scoped>\n",
              "    .dataframe tbody tr th:only-of-type {\n",
              "        vertical-align: middle;\n",
              "    }\n",
              "\n",
              "    .dataframe tbody tr th {\n",
              "        vertical-align: top;\n",
              "    }\n",
              "\n",
              "    .dataframe thead th {\n",
              "        text-align: right;\n",
              "    }\n",
              "</style>\n",
              "<table border=\"1\" class=\"dataframe\">\n",
              "  <thead>\n",
              "    <tr style=\"text-align: right;\">\n",
              "      <th></th>\n",
              "      <th>ID</th>\n",
              "      <th>Name</th>\n",
              "      <th>Sex</th>\n",
              "      <th>Age</th>\n",
              "      <th>Height</th>\n",
              "      <th>Weight</th>\n",
              "      <th>Team</th>\n",
              "      <th>NOC</th>\n",
              "      <th>Games</th>\n",
              "      <th>Year</th>\n",
              "      <th>Season</th>\n",
              "      <th>City</th>\n",
              "      <th>Sport</th>\n",
              "      <th>Event</th>\n",
              "      <th>Medal</th>\n",
              "    </tr>\n",
              "  </thead>\n",
              "  <tbody>\n",
              "  </tbody>\n",
              "</table>\n",
              "</div>"
            ],
            "text/plain": [
              "Empty DataFrame\n",
              "Columns: [ID, Name, Sex, Age, Height, Weight, Team, NOC, Games, Year, Season, City, Sport, Event, Medal]\n",
              "Index: []"
            ]
          },
          "metadata": {},
          "execution_count": 41
        }
      ]
    },
    {
      "cell_type": "code",
      "metadata": {
        "colab": {
          "base_uri": "https://localhost:8080/"
        },
        "id": "Y6VODtXYjcH1",
        "outputId": "d77c5639-825f-4eb3-b154-169a2c8c6e5f"
      },
      "source": [
        "df1[df1['Year'] == 1992]['Sport'].value_counts()"
      ],
      "execution_count": 42,
      "outputs": [
        {
          "output_type": "execute_result",
          "data": {
            "text/plain": [
              "Athletics                    2054\n",
              "Swimming                     1615\n",
              "Gymnastics                   1255\n",
              "Alpine Skiing                 750\n",
              "Cross Country Skiing          717\n",
              "Rowing                        661\n",
              "Canoeing                      587\n",
              "Cycling                       566\n",
              "Shooting                      564\n",
              "Fencing                       458\n",
              "Biathlon                      457\n",
              "Sailing                       441\n",
              "Judo                          433\n",
              "Equestrianism                 404\n",
              "Wrestling                     371\n",
              "Speed Skating                 354\n",
              "Boxing                        336\n",
              "Hockey                        314\n",
              "Handball                      292\n",
              "Football                      272\n",
              "Ice Hockey                    267\n",
              "Tennis                        250\n",
              "Table Tennis                  248\n",
              "Archery                       247\n",
              "Weightlifting                 244\n",
              "Basketball                    236\n",
              "Volleyball                    231\n",
              "Badminton                     226\n",
              "Bobsleigh                     216\n",
              "Ski Jumping                   171\n",
              "Baseball                      160\n",
              "Water Polo                    152\n",
              "Figure Skating                133\n",
              "Short Track Speed Skating     124\n",
              "Modern Pentathlon             117\n",
              "Diving                        112\n",
              "Luge                           98\n",
              "Synchronized Swimming          89\n",
              "Nordic Combined                78\n",
              "Freestyle Skiing               71\n",
              "Rhythmic Gymnastics            42\n",
              "Name: Sport, dtype: int64"
            ]
          },
          "metadata": {},
          "execution_count": 42
        }
      ]
    },
    {
      "cell_type": "code",
      "metadata": {
        "colab": {
          "base_uri": "https://localhost:8080/"
        },
        "id": "lU1UQ6CYjeM7",
        "outputId": "65528b61-30e8-4260-e2e0-9328c446cd04"
      },
      "source": [
        "\n",
        "df1[df1['Year'] == 1994]['Sport'].value_counts()"
      ],
      "execution_count": 43,
      "outputs": [
        {
          "output_type": "execute_result",
          "data": {
            "text/plain": [
              "Cross Country Skiing         639\n",
              "Alpine Skiing                544\n",
              "Biathlon                     416\n",
              "Speed Skating                318\n",
              "Ice Hockey                   268\n",
              "Bobsleigh                    207\n",
              "Short Track Speed Skating    188\n",
              "Ski Jumping                  164\n",
              "Figure Skating               130\n",
              "Freestyle Skiing              99\n",
              "Luge                          98\n",
              "Nordic Combined               89\n",
              "Name: Sport, dtype: int64"
            ]
          },
          "metadata": {},
          "execution_count": 43
        }
      ]
    },
    {
      "cell_type": "code",
      "metadata": {
        "colab": {
          "base_uri": "https://localhost:8080/"
        },
        "id": "QBy5FcpIjiZH",
        "outputId": "73199930-39f9-4f90-b4cf-f633dcab88d9"
      },
      "source": [
        "df1[df1['Year'] == 2016]['Sport'].value_counts()"
      ],
      "execution_count": 44,
      "outputs": [
        {
          "output_type": "execute_result",
          "data": {
            "text/plain": [
              "Athletics                2508\n",
              "Swimming                 1568\n",
              "Gymnastics                861\n",
              "Cycling                   667\n",
              "Shooting                  555\n",
              "Rowing                    550\n",
              "Football                  473\n",
              "Canoeing                  441\n",
              "Hockey                    390\n",
              "Judo                      389\n",
              "Sailing                   380\n",
              "Equestrianism             355\n",
              "Handball                  353\n",
              "Fencing                   346\n",
              "Wrestling                 346\n",
              "Rugby Sevens              299\n",
              "Tennis                    286\n",
              "Boxing                    283\n",
              "Volleyball                283\n",
              "Basketball                281\n",
              "Water Polo                258\n",
              "Weightlifting             255\n",
              "Table Tennis              236\n",
              "Archery                   200\n",
              "Diving                    178\n",
              "Badminton                 177\n",
              "Taekwondo                 126\n",
              "Golf                      120\n",
              "Synchronized Swimming     118\n",
              "Triathlon                 110\n",
              "Rhythmic Gymnastics        96\n",
              "Beach Volleyball           96\n",
              "Modern Pentathlon          72\n",
              "Trampolining               32\n",
              "Name: Sport, dtype: int64"
            ]
          },
          "metadata": {},
          "execution_count": 44
        }
      ]
    },
    {
      "cell_type": "markdown",
      "metadata": {
        "id": "mVp8VLoajoXU"
      },
      "source": [
        "14. What are the different sports played by female players? In which sport, most numbers\n",
        "of female players have participated. Visualize the same\n"
      ]
    },
    {
      "cell_type": "code",
      "metadata": {
        "id": "GIiR4iMqjr7E"
      },
      "source": [
        "Female_players = df1[(df1.Sex =='F')]"
      ],
      "execution_count": 45,
      "outputs": []
    },
    {
      "cell_type": "code",
      "metadata": {
        "colab": {
          "base_uri": "https://localhost:8080/",
          "height": 546
        },
        "id": "Je5i8AaCjw00",
        "outputId": "7511e9c6-a252-4928-9804-8fb3e5606d41"
      },
      "source": [
        "import seaborn as sns\n",
        "plt.figure(figsize=(20,10))\n",
        "sns.countplot(y= \"Sport\", data=Female_players)"
      ],
      "execution_count": 47,
      "outputs": [
        {
          "output_type": "execute_result",
          "data": {
            "text/plain": [
              "<matplotlib.axes._subplots.AxesSubplot at 0x7fb2affa6050>"
            ]
          },
          "metadata": {},
          "execution_count": 47
        },
        {
          "output_type": "display_data",
          "data": {
            "image/png": "[encoded data removed]",
            "text/plain": [
              "<Figure size 1440x720 with 1 Axes>"
            ]
          },
          "metadata": {
            "needs_background": "light"
          }
        }
      ]
    },
    {
      "cell_type": "markdown",
      "metadata": {
        "id": "H6ZRI0gAkFMl"
      },
      "source": [
        "15. Perform the above problem for male players as well."
      ]
    },
    {
      "cell_type": "code",
      "metadata": {
        "id": "IZ4rr17kkKCI"
      },
      "source": [
        "male_players = df1[df1['Sex']=='M']"
      ],
      "execution_count": 48,
      "outputs": []
    },
    {
      "cell_type": "code",
      "metadata": {
        "colab": {
          "base_uri": "https://localhost:8080/",
          "height": 830
        },
        "id": "rtvXaGo1kPfV",
        "outputId": "744fea45-86b5-4227-9361-ea577f43fbb2"
      },
      "source": [
        "\n",
        "plt.figure(figsize=(20,16))\n",
        "sns.countplot(y= \"Sport\", data=male_players)\n"
      ],
      "execution_count": 49,
      "outputs": [
        {
          "output_type": "execute_result",
          "data": {
            "text/plain": [
              "<matplotlib.axes._subplots.AxesSubplot at 0x7fb2aff9eb10>"
            ]
          },
          "metadata": {},
          "execution_count": 49
        },
        {
          "output_type": "display_data",
          "data": {
            "image/png": "[encoded data removed]",
            "text/plain": [
              "<Figure size 1440x1152 with 1 Axes>"
            ]
          },
          "metadata": {
            "needs_background": "light"
          }
        }
      ]
    },
    {
      "cell_type": "markdown",
      "metadata": {
        "id": "4sHZvzLAkUMl"
      },
      "source": [
        "16. Which city has the maximum number of players?"
      ]
    },
    {
      "cell_type": "code",
      "metadata": {
        "colab": {
          "base_uri": "https://localhost:8080/"
        },
        "id": "Dm5bV37ZkYsu",
        "outputId": "7c8c2e00-b3ef-431d-8d3c-015bf67da6bd"
      },
      "source": [
        "df1.groupby('City')['ID'].nunique().sort_values(ascending=False)"
      ],
      "execution_count": 50,
      "outputs": [
        {
          "output_type": "execute_result",
          "data": {
            "text/plain": [
              "City\n",
              "London                    16941\n",
              "Athina                    11556\n",
              "Rio de Janeiro            11179\n",
              "Beijing                   10899\n",
              "Sydney                    10647\n",
              "Atlanta                   10339\n",
              "Barcelona                  9386\n",
              "Los Angeles                8720\n",
              "Seoul                      8454\n",
              "Munich                     7114\n",
              "Montreal                   6073\n",
              "Mexico City                5558\n",
              "Roma                       5352\n",
              "Moskva                     5259\n",
              "Tokyo                      5137\n",
              "Helsinki                   4932\n",
              "Berlin                     4484\n",
              "Paris                      4472\n",
              "Amsterdam                  3247\n",
              "Melbourne                  3189\n",
              "Sochi                      2745\n",
              "Antwerpen                  2676\n",
              "Stockholm                  2567\n",
              "Vancouver                  2536\n",
              "Torino                     2494\n",
              "Salt Lake City             2399\n",
              "Innsbruck                  2210\n",
              "Nagano                     2179\n",
              "Albertville                1801\n",
              "Lillehammer                1738\n",
              "Calgary                    1425\n",
              "Lake Placid                1323\n",
              "Sarajevo                   1273\n",
              "Grenoble                   1160\n",
              "Sankt Moritz               1126\n",
              "Sapporo                    1008\n",
              "Cortina d'Ampezzo           821\n",
              "Oslo                        694\n",
              "Garmisch-Partenkirchen      668\n",
              "Squaw Valley                665\n",
              "St. Louis                   650\n",
              "Chamonix                    313\n",
              "Name: ID, dtype: int64"
            ]
          },
          "metadata": {},
          "execution_count": 50
        }
      ]
    },
    {
      "cell_type": "markdown",
      "metadata": {
        "id": "vfSOJM2ckhM1"
      },
      "source": [
        "17. Show line chart which tells variation in a number of players from 1990 to 2000 of India\n",
        "and Pakistan. (Draw separate chart for India and Pakistan)"
      ]
    },
    {
      "cell_type": "code",
      "metadata": {
        "colab": {
          "base_uri": "https://localhost:8080/",
          "height": 837
        },
        "id": "oUu-NbMOkiFX",
        "outputId": "d450ac85-48b5-413c-de2f-2abf8cae4401"
      },
      "source": [
        "India = df1[df1['NOC'] == 'IND']\n",
        "India"
      ],
      "execution_count": 52,
      "outputs": [
        {
          "output_type": "execute_result",
          "data": {
            "text/html": [
              "<div>\n",
              "<style scoped>\n",
              "    .dataframe tbody tr th:only-of-type {\n",
              "        vertical-align: middle;\n",
              "    }\n",
              "\n",
              "    .dataframe tbody tr th {\n",
              "        vertical-align: top;\n",
              "    }\n",
              "\n",
              "    .dataframe thead th {\n",
              "        text-align: right;\n",
              "    }\n",
              "</style>\n",
              "<table border=\"1\" class=\"dataframe\">\n",
              "  <thead>\n",
              "    <tr style=\"text-align: right;\">\n",
              "      <th></th>\n",
              "      <th>ID</th>\n",
              "      <th>Name</th>\n",
              "      <th>Sex</th>\n",
              "      <th>Age</th>\n",
              "      <th>Height</th>\n",
              "      <th>Weight</th>\n",
              "      <th>Team</th>\n",
              "      <th>NOC</th>\n",
              "      <th>Games</th>\n",
              "      <th>Year</th>\n",
              "      <th>Season</th>\n",
              "      <th>City</th>\n",
              "      <th>Sport</th>\n",
              "      <th>Event</th>\n",
              "      <th>Medal</th>\n",
              "    </tr>\n",
              "  </thead>\n",
              "  <tbody>\n",
              "    <tr>\n",
              "      <th>505</th>\n",
              "      <td>281</td>\n",
              "      <td>S. Abdul Hamid</td>\n",
              "      <td>M</td>\n",
              "      <td>25.556898</td>\n",
              "      <td>175.33897</td>\n",
              "      <td>70.702393</td>\n",
              "      <td>India</td>\n",
              "      <td>IND</td>\n",
              "      <td>1928 Summer</td>\n",
              "      <td>1928</td>\n",
              "      <td>Summer</td>\n",
              "      <td>Amsterdam</td>\n",
              "      <td>Athletics</td>\n",
              "      <td>Athletics Men's 110 metres Hurdles</td>\n",
              "      <td>unknown</td>\n",
              "    </tr>\n",
              "    <tr>\n",
              "      <th>506</th>\n",
              "      <td>281</td>\n",
              "      <td>S. Abdul Hamid</td>\n",
              "      <td>M</td>\n",
              "      <td>25.556898</td>\n",
              "      <td>175.33897</td>\n",
              "      <td>70.702393</td>\n",
              "      <td>India</td>\n",
              "      <td>IND</td>\n",
              "      <td>1928 Summer</td>\n",
              "      <td>1928</td>\n",
              "      <td>Summer</td>\n",
              "      <td>Amsterdam</td>\n",
              "      <td>Athletics</td>\n",
              "      <td>Athletics Men's 400 metres Hurdles</td>\n",
              "      <td>unknown</td>\n",
              "    </tr>\n",
              "    <tr>\n",
              "      <th>895</th>\n",
              "      <td>512</td>\n",
              "      <td>Shiny Kurisingal Abraham-Wilson</td>\n",
              "      <td>F</td>\n",
              "      <td>19.000000</td>\n",
              "      <td>167.00000</td>\n",
              "      <td>53.000000</td>\n",
              "      <td>India</td>\n",
              "      <td>IND</td>\n",
              "      <td>1984 Summer</td>\n",
              "      <td>1984</td>\n",
              "      <td>Summer</td>\n",
              "      <td>Los Angeles</td>\n",
              "      <td>Athletics</td>\n",
              "      <td>Athletics Women's 800 metres</td>\n",
              "      <td>unknown</td>\n",
              "    </tr>\n",
              "    <tr>\n",
              "      <th>896</th>\n",
              "      <td>512</td>\n",
              "      <td>Shiny Kurisingal Abraham-Wilson</td>\n",
              "      <td>F</td>\n",
              "      <td>19.000000</td>\n",
              "      <td>167.00000</td>\n",
              "      <td>53.000000</td>\n",
              "      <td>India</td>\n",
              "      <td>IND</td>\n",
              "      <td>1984 Summer</td>\n",
              "      <td>1984</td>\n",
              "      <td>Summer</td>\n",
              "      <td>Los Angeles</td>\n",
              "      <td>Athletics</td>\n",
              "      <td>Athletics Women's 4 x 400 metres Relay</td>\n",
              "      <td>unknown</td>\n",
              "    </tr>\n",
              "    <tr>\n",
              "      <th>897</th>\n",
              "      <td>512</td>\n",
              "      <td>Shiny Kurisingal Abraham-Wilson</td>\n",
              "      <td>F</td>\n",
              "      <td>23.000000</td>\n",
              "      <td>167.00000</td>\n",
              "      <td>53.000000</td>\n",
              "      <td>India</td>\n",
              "      <td>IND</td>\n",
              "      <td>1988 Summer</td>\n",
              "      <td>1988</td>\n",
              "      <td>Summer</td>\n",
              "      <td>Seoul</td>\n",
              "      <td>Athletics</td>\n",
              "      <td>Athletics Women's 800 metres</td>\n",
              "      <td>unknown</td>\n",
              "    </tr>\n",
              "    <tr>\n",
              "      <th>...</th>\n",
              "      <td>...</td>\n",
              "      <td>...</td>\n",
              "      <td>...</td>\n",
              "      <td>...</td>\n",
              "      <td>...</td>\n",
              "      <td>...</td>\n",
              "      <td>...</td>\n",
              "      <td>...</td>\n",
              "      <td>...</td>\n",
              "      <td>...</td>\n",
              "      <td>...</td>\n",
              "      <td>...</td>\n",
              "      <td>...</td>\n",
              "      <td>...</td>\n",
              "      <td>...</td>\n",
              "    </tr>\n",
              "    <tr>\n",
              "      <th>264139</th>\n",
              "      <td>132177</td>\n",
              "      <td>Mohammad Anas Yahiya</td>\n",
              "      <td>M</td>\n",
              "      <td>21.000000</td>\n",
              "      <td>177.00000</td>\n",
              "      <td>69.000000</td>\n",
              "      <td>India</td>\n",
              "      <td>IND</td>\n",
              "      <td>2016 Summer</td>\n",
              "      <td>2016</td>\n",
              "      <td>Summer</td>\n",
              "      <td>Rio de Janeiro</td>\n",
              "      <td>Athletics</td>\n",
              "      <td>Athletics Men's 4 x 400 metres Relay</td>\n",
              "      <td>unknown</td>\n",
              "    </tr>\n",
              "    <tr>\n",
              "      <th>265876</th>\n",
              "      <td>133029</td>\n",
              "      <td>Thyadathuvilla Chandrapillai \"T. C.\" Yohannan</td>\n",
              "      <td>M</td>\n",
              "      <td>29.000000</td>\n",
              "      <td>174.00000</td>\n",
              "      <td>62.000000</td>\n",
              "      <td>India</td>\n",
              "      <td>IND</td>\n",
              "      <td>1976 Summer</td>\n",
              "      <td>1976</td>\n",
              "      <td>Summer</td>\n",
              "      <td>Montreal</td>\n",
              "      <td>Athletics</td>\n",
              "      <td>Athletics Men's Long Jump</td>\n",
              "      <td>unknown</td>\n",
              "    </tr>\n",
              "    <tr>\n",
              "      <th>266934</th>\n",
              "      <td>133554</td>\n",
              "      <td>Sayed Muhammad Yusuf</td>\n",
              "      <td>M</td>\n",
              "      <td>25.556898</td>\n",
              "      <td>175.33897</td>\n",
              "      <td>70.702393</td>\n",
              "      <td>India</td>\n",
              "      <td>IND</td>\n",
              "      <td>1928 Summer</td>\n",
              "      <td>1928</td>\n",
              "      <td>Summer</td>\n",
              "      <td>Amsterdam</td>\n",
              "      <td>Hockey</td>\n",
              "      <td>Hockey Men's Hockey</td>\n",
              "      <td>Gold</td>\n",
              "    </tr>\n",
              "    <tr>\n",
              "      <th>270912</th>\n",
              "      <td>135480</td>\n",
              "      <td>Geeta Zutshi</td>\n",
              "      <td>F</td>\n",
              "      <td>23.000000</td>\n",
              "      <td>167.00000</td>\n",
              "      <td>51.000000</td>\n",
              "      <td>India</td>\n",
              "      <td>IND</td>\n",
              "      <td>1980 Summer</td>\n",
              "      <td>1980</td>\n",
              "      <td>Summer</td>\n",
              "      <td>Moskva</td>\n",
              "      <td>Athletics</td>\n",
              "      <td>Athletics Women's 800 metres</td>\n",
              "      <td>unknown</td>\n",
              "    </tr>\n",
              "    <tr>\n",
              "      <th>270913</th>\n",
              "      <td>135480</td>\n",
              "      <td>Geeta Zutshi</td>\n",
              "      <td>F</td>\n",
              "      <td>27.000000</td>\n",
              "      <td>167.00000</td>\n",
              "      <td>51.000000</td>\n",
              "      <td>India</td>\n",
              "      <td>IND</td>\n",
              "      <td>1984 Summer</td>\n",
              "      <td>1984</td>\n",
              "      <td>Summer</td>\n",
              "      <td>Los Angeles</td>\n",
              "      <td>Athletics</td>\n",
              "      <td>Athletics Women's 3,000 metres</td>\n",
              "      <td>unknown</td>\n",
              "    </tr>\n",
              "  </tbody>\n",
              "</table>\n",
              "<p>1408 rows × 15 columns</p>\n",
              "</div>"
            ],
            "text/plain": [
              "            ID  ...    Medal\n",
              "505        281  ...  unknown\n",
              "506        281  ...  unknown\n",
              "895        512  ...  unknown\n",
              "896        512  ...  unknown\n",
              "897        512  ...  unknown\n",
              "...        ...  ...      ...\n",
              "264139  132177  ...  unknown\n",
              "265876  133029  ...  unknown\n",
              "266934  133554  ...     Gold\n",
              "270912  135480  ...  unknown\n",
              "270913  135480  ...  unknown\n",
              "\n",
              "[1408 rows x 15 columns]"
            ]
          },
          "metadata": {},
          "execution_count": 52
        }
      ]
    },
    {
      "cell_type": "code",
      "metadata": {
        "colab": {
          "base_uri": "https://localhost:8080/",
          "height": 942
        },
        "id": "PIWqV1QpktTr",
        "outputId": "a6a77930-d733-483c-e7d7-16f07b845701"
      },
      "source": [
        "data = India.groupby('Year')['ID'].count().reset_index()\n",
        "data"
      ],
      "execution_count": 54,
      "outputs": [
        {
          "output_type": "execute_result",
          "data": {
            "text/html": [
              "<div>\n",
              "<style scoped>\n",
              "    .dataframe tbody tr th:only-of-type {\n",
              "        vertical-align: middle;\n",
              "    }\n",
              "\n",
              "    .dataframe tbody tr th {\n",
              "        vertical-align: top;\n",
              "    }\n",
              "\n",
              "    .dataframe thead th {\n",
              "        text-align: right;\n",
              "    }\n",
              "</style>\n",
              "<table border=\"1\" class=\"dataframe\">\n",
              "  <thead>\n",
              "    <tr style=\"text-align: right;\">\n",
              "      <th></th>\n",
              "      <th>Year</th>\n",
              "      <th>ID</th>\n",
              "    </tr>\n",
              "  </thead>\n",
              "  <tbody>\n",
              "    <tr>\n",
              "      <th>0</th>\n",
              "      <td>1900</td>\n",
              "      <td>5</td>\n",
              "    </tr>\n",
              "    <tr>\n",
              "      <th>1</th>\n",
              "      <td>1920</td>\n",
              "      <td>7</td>\n",
              "    </tr>\n",
              "    <tr>\n",
              "      <th>2</th>\n",
              "      <td>1924</td>\n",
              "      <td>31</td>\n",
              "    </tr>\n",
              "    <tr>\n",
              "      <th>3</th>\n",
              "      <td>1928</td>\n",
              "      <td>24</td>\n",
              "    </tr>\n",
              "    <tr>\n",
              "      <th>4</th>\n",
              "      <td>1932</td>\n",
              "      <td>26</td>\n",
              "    </tr>\n",
              "    <tr>\n",
              "      <th>5</th>\n",
              "      <td>1936</td>\n",
              "      <td>30</td>\n",
              "    </tr>\n",
              "    <tr>\n",
              "      <th>6</th>\n",
              "      <td>1948</td>\n",
              "      <td>89</td>\n",
              "    </tr>\n",
              "    <tr>\n",
              "      <th>7</th>\n",
              "      <td>1952</td>\n",
              "      <td>94</td>\n",
              "    </tr>\n",
              "    <tr>\n",
              "      <th>8</th>\n",
              "      <td>1956</td>\n",
              "      <td>79</td>\n",
              "    </tr>\n",
              "    <tr>\n",
              "      <th>9</th>\n",
              "      <td>1960</td>\n",
              "      <td>49</td>\n",
              "    </tr>\n",
              "    <tr>\n",
              "      <th>10</th>\n",
              "      <td>1964</td>\n",
              "      <td>112</td>\n",
              "    </tr>\n",
              "    <tr>\n",
              "      <th>11</th>\n",
              "      <td>1968</td>\n",
              "      <td>30</td>\n",
              "    </tr>\n",
              "    <tr>\n",
              "      <th>12</th>\n",
              "      <td>1972</td>\n",
              "      <td>43</td>\n",
              "    </tr>\n",
              "    <tr>\n",
              "      <th>13</th>\n",
              "      <td>1976</td>\n",
              "      <td>26</td>\n",
              "    </tr>\n",
              "    <tr>\n",
              "      <th>14</th>\n",
              "      <td>1980</td>\n",
              "      <td>78</td>\n",
              "    </tr>\n",
              "    <tr>\n",
              "      <th>15</th>\n",
              "      <td>1984</td>\n",
              "      <td>53</td>\n",
              "    </tr>\n",
              "    <tr>\n",
              "      <th>16</th>\n",
              "      <td>1988</td>\n",
              "      <td>58</td>\n",
              "    </tr>\n",
              "    <tr>\n",
              "      <th>17</th>\n",
              "      <td>1992</td>\n",
              "      <td>65</td>\n",
              "    </tr>\n",
              "    <tr>\n",
              "      <th>18</th>\n",
              "      <td>1996</td>\n",
              "      <td>54</td>\n",
              "    </tr>\n",
              "    <tr>\n",
              "      <th>19</th>\n",
              "      <td>1998</td>\n",
              "      <td>1</td>\n",
              "    </tr>\n",
              "    <tr>\n",
              "      <th>20</th>\n",
              "      <td>2000</td>\n",
              "      <td>70</td>\n",
              "    </tr>\n",
              "    <tr>\n",
              "      <th>21</th>\n",
              "      <td>2002</td>\n",
              "      <td>1</td>\n",
              "    </tr>\n",
              "    <tr>\n",
              "      <th>22</th>\n",
              "      <td>2004</td>\n",
              "      <td>81</td>\n",
              "    </tr>\n",
              "    <tr>\n",
              "      <th>23</th>\n",
              "      <td>2006</td>\n",
              "      <td>5</td>\n",
              "    </tr>\n",
              "    <tr>\n",
              "      <th>24</th>\n",
              "      <td>2008</td>\n",
              "      <td>67</td>\n",
              "    </tr>\n",
              "    <tr>\n",
              "      <th>25</th>\n",
              "      <td>2010</td>\n",
              "      <td>3</td>\n",
              "    </tr>\n",
              "    <tr>\n",
              "      <th>26</th>\n",
              "      <td>2012</td>\n",
              "      <td>95</td>\n",
              "    </tr>\n",
              "    <tr>\n",
              "      <th>27</th>\n",
              "      <td>2014</td>\n",
              "      <td>2</td>\n",
              "    </tr>\n",
              "    <tr>\n",
              "      <th>28</th>\n",
              "      <td>2016</td>\n",
              "      <td>130</td>\n",
              "    </tr>\n",
              "  </tbody>\n",
              "</table>\n",
              "</div>"
            ],
            "text/plain": [
              "    Year   ID\n",
              "0   1900    5\n",
              "1   1920    7\n",
              "2   1924   31\n",
              "3   1928   24\n",
              "4   1932   26\n",
              "5   1936   30\n",
              "6   1948   89\n",
              "7   1952   94\n",
              "8   1956   79\n",
              "9   1960   49\n",
              "10  1964  112\n",
              "11  1968   30\n",
              "12  1972   43\n",
              "13  1976   26\n",
              "14  1980   78\n",
              "15  1984   53\n",
              "16  1988   58\n",
              "17  1992   65\n",
              "18  1996   54\n",
              "19  1998    1\n",
              "20  2000   70\n",
              "21  2002    1\n",
              "22  2004   81\n",
              "23  2006    5\n",
              "24  2008   67\n",
              "25  2010    3\n",
              "26  2012   95\n",
              "27  2014    2\n",
              "28  2016  130"
            ]
          },
          "metadata": {},
          "execution_count": 54
        }
      ]
    },
    {
      "cell_type": "code",
      "metadata": {
        "colab": {
          "base_uri": "https://localhost:8080/",
          "height": 624
        },
        "id": "aoPdtZGFk1k-",
        "outputId": "1e3e74fd-a56e-4b34-855c-f0393cf3e066"
      },
      "source": [
        "plt.figure(figsize=(16,10))\n",
        "sns.lineplot(x='Year',y='ID', data=data)"
      ],
      "execution_count": 56,
      "outputs": [
        {
          "output_type": "execute_result",
          "data": {
            "text/plain": [
              "<matplotlib.axes._subplots.AxesSubplot at 0x7fb2af6b3fd0>"
            ]
          },
          "metadata": {},
          "execution_count": 56
        },
        {
          "output_type": "display_data",
          "data": {
            "image/png": "[encoded data removed]",
            "text/plain": [
              "<Figure size 1152x720 with 1 Axes>"
            ]
          },
          "metadata": {
            "needs_background": "light"
          }
        }
      ]
    },
    {
      "cell_type": "code",
      "metadata": {
        "colab": {
          "base_uri": "https://localhost:8080/",
          "height": 635
        },
        "id": "SIm7sj9lk_Db",
        "outputId": "516c8a86-f371-4628-bae6-7269e852e891"
      },
      "source": [
        "Pakistan = df1[df1['NOC'] == 'PAK']\n",
        "Pakistan"
      ],
      "execution_count": 58,
      "outputs": [
        {
          "output_type": "execute_result",
          "data": {
            "text/html": [
              "<div>\n",
              "<style scoped>\n",
              "    .dataframe tbody tr th:only-of-type {\n",
              "        vertical-align: middle;\n",
              "    }\n",
              "\n",
              "    .dataframe tbody tr th {\n",
              "        vertical-align: top;\n",
              "    }\n",
              "\n",
              "    .dataframe thead th {\n",
              "        text-align: right;\n",
              "    }\n",
              "</style>\n",
              "<table border=\"1\" class=\"dataframe\">\n",
              "  <thead>\n",
              "    <tr style=\"text-align: right;\">\n",
              "      <th></th>\n",
              "      <th>ID</th>\n",
              "      <th>Name</th>\n",
              "      <th>Sex</th>\n",
              "      <th>Age</th>\n",
              "      <th>Height</th>\n",
              "      <th>Weight</th>\n",
              "      <th>Team</th>\n",
              "      <th>NOC</th>\n",
              "      <th>Games</th>\n",
              "      <th>Year</th>\n",
              "      <th>Season</th>\n",
              "      <th>City</th>\n",
              "      <th>Sport</th>\n",
              "      <th>Event</th>\n",
              "      <th>Medal</th>\n",
              "    </tr>\n",
              "  </thead>\n",
              "  <tbody>\n",
              "    <tr>\n",
              "      <th>233</th>\n",
              "      <td>111</td>\n",
              "      <td>Aqarab Abbas</td>\n",
              "      <td>M</td>\n",
              "      <td>22.0</td>\n",
              "      <td>190.00000</td>\n",
              "      <td>88.000000</td>\n",
              "      <td>Pakistan</td>\n",
              "      <td>PAK</td>\n",
              "      <td>1996 Summer</td>\n",
              "      <td>1996</td>\n",
              "      <td>Summer</td>\n",
              "      <td>Atlanta</td>\n",
              "      <td>Athletics</td>\n",
              "      <td>Athletics Men's Hammer Throw</td>\n",
              "      <td>unknown</td>\n",
              "    </tr>\n",
              "    <tr>\n",
              "      <th>237</th>\n",
              "      <td>115</td>\n",
              "      <td>Ghulam Abbas</td>\n",
              "      <td>M</td>\n",
              "      <td>24.0</td>\n",
              "      <td>181.00000</td>\n",
              "      <td>74.000000</td>\n",
              "      <td>Pakistan</td>\n",
              "      <td>PAK</td>\n",
              "      <td>1992 Summer</td>\n",
              "      <td>1992</td>\n",
              "      <td>Summer</td>\n",
              "      <td>Barcelona</td>\n",
              "      <td>Athletics</td>\n",
              "      <td>Athletics Men's 400 metres Hurdles</td>\n",
              "      <td>unknown</td>\n",
              "    </tr>\n",
              "    <tr>\n",
              "      <th>245</th>\n",
              "      <td>121</td>\n",
              "      <td>Muhammad Abbas</td>\n",
              "      <td>M</td>\n",
              "      <td>23.0</td>\n",
              "      <td>168.00000</td>\n",
              "      <td>55.000000</td>\n",
              "      <td>Pakistan</td>\n",
              "      <td>PAK</td>\n",
              "      <td>2010 Winter</td>\n",
              "      <td>2010</td>\n",
              "      <td>Winter</td>\n",
              "      <td>Vancouver</td>\n",
              "      <td>Alpine Skiing</td>\n",
              "      <td>Alpine Skiing Men's Giant Slalom</td>\n",
              "      <td>unknown</td>\n",
              "    </tr>\n",
              "    <tr>\n",
              "      <th>247</th>\n",
              "      <td>123</td>\n",
              "      <td>Sohail Abbas</td>\n",
              "      <td>M</td>\n",
              "      <td>25.0</td>\n",
              "      <td>178.00000</td>\n",
              "      <td>80.000000</td>\n",
              "      <td>Pakistan</td>\n",
              "      <td>PAK</td>\n",
              "      <td>2000 Summer</td>\n",
              "      <td>2000</td>\n",
              "      <td>Summer</td>\n",
              "      <td>Sydney</td>\n",
              "      <td>Hockey</td>\n",
              "      <td>Hockey Men's Hockey</td>\n",
              "      <td>unknown</td>\n",
              "    </tr>\n",
              "    <tr>\n",
              "      <th>248</th>\n",
              "      <td>123</td>\n",
              "      <td>Sohail Abbas</td>\n",
              "      <td>M</td>\n",
              "      <td>29.0</td>\n",
              "      <td>178.00000</td>\n",
              "      <td>80.000000</td>\n",
              "      <td>Pakistan</td>\n",
              "      <td>PAK</td>\n",
              "      <td>2004 Summer</td>\n",
              "      <td>2004</td>\n",
              "      <td>Summer</td>\n",
              "      <td>Athina</td>\n",
              "      <td>Hockey</td>\n",
              "      <td>Hockey Men's Hockey</td>\n",
              "      <td>unknown</td>\n",
              "    </tr>\n",
              "    <tr>\n",
              "      <th>...</th>\n",
              "      <td>...</td>\n",
              "      <td>...</td>\n",
              "      <td>...</td>\n",
              "      <td>...</td>\n",
              "      <td>...</td>\n",
              "      <td>...</td>\n",
              "      <td>...</td>\n",
              "      <td>...</td>\n",
              "      <td>...</td>\n",
              "      <td>...</td>\n",
              "      <td>...</td>\n",
              "      <td>...</td>\n",
              "      <td>...</td>\n",
              "      <td>...</td>\n",
              "      <td>...</td>\n",
              "    </tr>\n",
              "    <tr>\n",
              "      <th>268234</th>\n",
              "      <td>134200</td>\n",
              "      <td>Aurang Zeb</td>\n",
              "      <td>M</td>\n",
              "      <td>29.0</td>\n",
              "      <td>175.33897</td>\n",
              "      <td>70.702393</td>\n",
              "      <td>Pakistan</td>\n",
              "      <td>PAK</td>\n",
              "      <td>1952 Summer</td>\n",
              "      <td>1952</td>\n",
              "      <td>Summer</td>\n",
              "      <td>Helsinki</td>\n",
              "      <td>Athletics</td>\n",
              "      <td>Athletics Men's 400 metres</td>\n",
              "      <td>unknown</td>\n",
              "    </tr>\n",
              "    <tr>\n",
              "      <th>268235</th>\n",
              "      <td>134200</td>\n",
              "      <td>Aurang Zeb</td>\n",
              "      <td>M</td>\n",
              "      <td>29.0</td>\n",
              "      <td>175.33897</td>\n",
              "      <td>70.702393</td>\n",
              "      <td>Pakistan</td>\n",
              "      <td>PAK</td>\n",
              "      <td>1952 Summer</td>\n",
              "      <td>1952</td>\n",
              "      <td>Summer</td>\n",
              "      <td>Helsinki</td>\n",
              "      <td>Athletics</td>\n",
              "      <td>Athletics Men's 4 x 400 metres Relay</td>\n",
              "      <td>unknown</td>\n",
              "    </tr>\n",
              "    <tr>\n",
              "      <th>269610</th>\n",
              "      <td>134907</td>\n",
              "      <td>Qamar Zia</td>\n",
              "      <td>M</td>\n",
              "      <td>22.0</td>\n",
              "      <td>168.00000</td>\n",
              "      <td>61.000000</td>\n",
              "      <td>Pakistan</td>\n",
              "      <td>PAK</td>\n",
              "      <td>1976 Summer</td>\n",
              "      <td>1976</td>\n",
              "      <td>Summer</td>\n",
              "      <td>Montreal</td>\n",
              "      <td>Hockey</td>\n",
              "      <td>Hockey Men's Hockey</td>\n",
              "      <td>Bronze</td>\n",
              "    </tr>\n",
              "    <tr>\n",
              "      <th>269611</th>\n",
              "      <td>134908</td>\n",
              "      <td>Qasim Zia</td>\n",
              "      <td>M</td>\n",
              "      <td>22.0</td>\n",
              "      <td>174.00000</td>\n",
              "      <td>71.000000</td>\n",
              "      <td>Pakistan</td>\n",
              "      <td>PAK</td>\n",
              "      <td>1984 Summer</td>\n",
              "      <td>1984</td>\n",
              "      <td>Summer</td>\n",
              "      <td>Los Angeles</td>\n",
              "      <td>Hockey</td>\n",
              "      <td>Hockey Men's Hockey</td>\n",
              "      <td>Gold</td>\n",
              "    </tr>\n",
              "    <tr>\n",
              "      <th>270584</th>\n",
              "      <td>135329</td>\n",
              "      <td>Muhammad Zubair</td>\n",
              "      <td>M</td>\n",
              "      <td>19.0</td>\n",
              "      <td>167.00000</td>\n",
              "      <td>54.000000</td>\n",
              "      <td>Pakistan</td>\n",
              "      <td>PAK</td>\n",
              "      <td>2008 Summer</td>\n",
              "      <td>2008</td>\n",
              "      <td>Summer</td>\n",
              "      <td>Beijing</td>\n",
              "      <td>Hockey</td>\n",
              "      <td>Hockey Men's Hockey</td>\n",
              "      <td>unknown</td>\n",
              "    </tr>\n",
              "  </tbody>\n",
              "</table>\n",
              "<p>562 rows × 15 columns</p>\n",
              "</div>"
            ],
            "text/plain": [
              "            ID             Name  ...                                 Event    Medal\n",
              "233        111     Aqarab Abbas  ...          Athletics Men's Hammer Throw  unknown\n",
              "237        115     Ghulam Abbas  ...    Athletics Men's 400 metres Hurdles  unknown\n",
              "245        121   Muhammad Abbas  ...      Alpine Skiing Men's Giant Slalom  unknown\n",
              "247        123     Sohail Abbas  ...                   Hockey Men's Hockey  unknown\n",
              "248        123     Sohail Abbas  ...                   Hockey Men's Hockey  unknown\n",
              "...        ...              ...  ...                                   ...      ...\n",
              "268234  134200       Aurang Zeb  ...            Athletics Men's 400 metres  unknown\n",
              "268235  134200       Aurang Zeb  ...  Athletics Men's 4 x 400 metres Relay  unknown\n",
              "269610  134907        Qamar Zia  ...                   Hockey Men's Hockey   Bronze\n",
              "269611  134908        Qasim Zia  ...                   Hockey Men's Hockey     Gold\n",
              "270584  135329  Muhammad Zubair  ...                   Hockey Men's Hockey  unknown\n",
              "\n",
              "[562 rows x 15 columns]"
            ]
          },
          "metadata": {},
          "execution_count": 58
        }
      ]
    },
    {
      "cell_type": "code",
      "metadata": {
        "colab": {
          "base_uri": "https://localhost:8080/",
          "height": 634
        },
        "id": "eGjRHxP4lHHx",
        "outputId": "79a18573-a774-4e78-9b4a-dddac7ac4807"
      },
      "source": [
        "data = Pakistan.groupby('Year')['ID'].count().reset_index()\n",
        "data"
      ],
      "execution_count": 60,
      "outputs": [
        {
          "output_type": "execute_result",
          "data": {
            "text/html": [
              "<div>\n",
              "<style scoped>\n",
              "    .dataframe tbody tr th:only-of-type {\n",
              "        vertical-align: middle;\n",
              "    }\n",
              "\n",
              "    .dataframe tbody tr th {\n",
              "        vertical-align: top;\n",
              "    }\n",
              "\n",
              "    .dataframe thead th {\n",
              "        text-align: right;\n",
              "    }\n",
              "</style>\n",
              "<table border=\"1\" class=\"dataframe\">\n",
              "  <thead>\n",
              "    <tr style=\"text-align: right;\">\n",
              "      <th></th>\n",
              "      <th>Year</th>\n",
              "      <th>ID</th>\n",
              "    </tr>\n",
              "  </thead>\n",
              "  <tbody>\n",
              "    <tr>\n",
              "      <th>0</th>\n",
              "      <td>1948</td>\n",
              "      <td>44</td>\n",
              "    </tr>\n",
              "    <tr>\n",
              "      <th>1</th>\n",
              "      <td>1952</td>\n",
              "      <td>51</td>\n",
              "    </tr>\n",
              "    <tr>\n",
              "      <th>2</th>\n",
              "      <td>1956</td>\n",
              "      <td>79</td>\n",
              "    </tr>\n",
              "    <tr>\n",
              "      <th>3</th>\n",
              "      <td>1960</td>\n",
              "      <td>53</td>\n",
              "    </tr>\n",
              "    <tr>\n",
              "      <th>4</th>\n",
              "      <td>1964</td>\n",
              "      <td>47</td>\n",
              "    </tr>\n",
              "    <tr>\n",
              "      <th>5</th>\n",
              "      <td>1968</td>\n",
              "      <td>15</td>\n",
              "    </tr>\n",
              "    <tr>\n",
              "      <th>6</th>\n",
              "      <td>1972</td>\n",
              "      <td>26</td>\n",
              "    </tr>\n",
              "    <tr>\n",
              "      <th>7</th>\n",
              "      <td>1976</td>\n",
              "      <td>24</td>\n",
              "    </tr>\n",
              "    <tr>\n",
              "      <th>8</th>\n",
              "      <td>1984</td>\n",
              "      <td>33</td>\n",
              "    </tr>\n",
              "    <tr>\n",
              "      <th>9</th>\n",
              "      <td>1988</td>\n",
              "      <td>33</td>\n",
              "    </tr>\n",
              "    <tr>\n",
              "      <th>10</th>\n",
              "      <td>1992</td>\n",
              "      <td>28</td>\n",
              "    </tr>\n",
              "    <tr>\n",
              "      <th>11</th>\n",
              "      <td>1996</td>\n",
              "      <td>24</td>\n",
              "    </tr>\n",
              "    <tr>\n",
              "      <th>12</th>\n",
              "      <td>2000</td>\n",
              "      <td>27</td>\n",
              "    </tr>\n",
              "    <tr>\n",
              "      <th>13</th>\n",
              "      <td>2004</td>\n",
              "      <td>26</td>\n",
              "    </tr>\n",
              "    <tr>\n",
              "      <th>14</th>\n",
              "      <td>2008</td>\n",
              "      <td>22</td>\n",
              "    </tr>\n",
              "    <tr>\n",
              "      <th>15</th>\n",
              "      <td>2010</td>\n",
              "      <td>1</td>\n",
              "    </tr>\n",
              "    <tr>\n",
              "      <th>16</th>\n",
              "      <td>2012</td>\n",
              "      <td>21</td>\n",
              "    </tr>\n",
              "    <tr>\n",
              "      <th>17</th>\n",
              "      <td>2014</td>\n",
              "      <td>1</td>\n",
              "    </tr>\n",
              "    <tr>\n",
              "      <th>18</th>\n",
              "      <td>2016</td>\n",
              "      <td>7</td>\n",
              "    </tr>\n",
              "  </tbody>\n",
              "</table>\n",
              "</div>"
            ],
            "text/plain": [
              "    Year  ID\n",
              "0   1948  44\n",
              "1   1952  51\n",
              "2   1956  79\n",
              "3   1960  53\n",
              "4   1964  47\n",
              "5   1968  15\n",
              "6   1972  26\n",
              "7   1976  24\n",
              "8   1984  33\n",
              "9   1988  33\n",
              "10  1992  28\n",
              "11  1996  24\n",
              "12  2000  27\n",
              "13  2004  26\n",
              "14  2008  22\n",
              "15  2010   1\n",
              "16  2012  21\n",
              "17  2014   1\n",
              "18  2016   7"
            ]
          },
          "metadata": {},
          "execution_count": 60
        }
      ]
    },
    {
      "cell_type": "code",
      "metadata": {
        "colab": {
          "base_uri": "https://localhost:8080/",
          "height": 624
        },
        "id": "OaWKAkVelUox",
        "outputId": "32c34076-4bc7-42b0-c370-c87cb25e9ff9"
      },
      "source": [
        "plt.figure(figsize=(16,10))\n",
        "sns.lineplot(x='Year',y='ID', data=data)"
      ],
      "execution_count": 61,
      "outputs": [
        {
          "output_type": "execute_result",
          "data": {
            "text/plain": [
              "<matplotlib.axes._subplots.AxesSubplot at 0x7fb2af702dd0>"
            ]
          },
          "metadata": {},
          "execution_count": 61
        },
        {
          "output_type": "display_data",
          "data": {
            "image/png": "[encoded data removed]",
            "text/plain": [
              "<Figure size 1152x720 with 1 Axes>"
            ]
          },
          "metadata": {
            "needs_background": "light"
          }
        }
      ]
    },
    {
      "cell_type": "markdown",
      "metadata": {
        "id": "vzo8E7EdldX2"
      },
      "source": [
        "18. Draw a pie chart to show the percentage of male and female players across the world\n"
      ]
    },
    {
      "cell_type": "code",
      "metadata": {
        "colab": {
          "base_uri": "https://localhost:8080/",
          "height": 110
        },
        "id": "mzAvtmdalfgm",
        "outputId": "1d95098e-e0c0-4d4c-c9e0-adab5326c867"
      },
      "source": [
        "male_female = df1.groupby('Sex')['ID'].count().reset_index()\n",
        "male_female"
      ],
      "execution_count": 62,
      "outputs": [
        {
          "output_type": "execute_result",
          "data": {
            "text/html": [
              "<div>\n",
              "<style scoped>\n",
              "    .dataframe tbody tr th:only-of-type {\n",
              "        vertical-align: middle;\n",
              "    }\n",
              "\n",
              "    .dataframe tbody tr th {\n",
              "        vertical-align: top;\n",
              "    }\n",
              "\n",
              "    .dataframe thead th {\n",
              "        text-align: right;\n",
              "    }\n",
              "</style>\n",
              "<table border=\"1\" class=\"dataframe\">\n",
              "  <thead>\n",
              "    <tr style=\"text-align: right;\">\n",
              "      <th></th>\n",
              "      <th>Sex</th>\n",
              "      <th>ID</th>\n",
              "    </tr>\n",
              "  </thead>\n",
              "  <tbody>\n",
              "    <tr>\n",
              "      <th>0</th>\n",
              "      <td>F</td>\n",
              "      <td>74522</td>\n",
              "    </tr>\n",
              "    <tr>\n",
              "      <th>1</th>\n",
              "      <td>M</td>\n",
              "      <td>196594</td>\n",
              "    </tr>\n",
              "  </tbody>\n",
              "</table>\n",
              "</div>"
            ],
            "text/plain": [
              "  Sex      ID\n",
              "0   F   74522\n",
              "1   M  196594"
            ]
          },
          "metadata": {},
          "execution_count": 62
        }
      ]
    },
    {
      "cell_type": "code",
      "metadata": {
        "colab": {
          "base_uri": "https://localhost:8080/",
          "height": 266
        },
        "id": "nAykzk6ElqYr",
        "outputId": "a886a2c2-180a-4710-c083-274b50c21aa2"
      },
      "source": [
        "plt.axis(\"equal\")\n",
        "plt.pie(male_female['ID'], labels=['Male','Female'], autopct='%1.1f%%')\n",
        "plt.legend()"
      ],
      "execution_count": 63,
      "outputs": [
        {
          "output_type": "execute_result",
          "data": {
            "text/plain": [
              "<matplotlib.legend.Legend at 0x7fb2adbcfa10>"
            ]
          },
          "metadata": {},
          "execution_count": 63
        },
        {
          "output_type": "display_data",
          "data": {
            "image/png": "[encoded data removed]",
            "text/plain": [
              "<Figure size 432x288 with 1 Axes>"
            ]
          },
          "metadata": {}
        }
      ]
    },
    {
      "cell_type": "markdown",
      "metadata": {
        "id": "tCiXve7Klw0D"
      },
      "source": [
        "19. Which team has won the maximum number of gold, silver and bronze? Visualize the\n",
        "same.\n"
      ]
    },
    {
      "cell_type": "code",
      "metadata": {
        "colab": {
          "base_uri": "https://localhost:8080/"
        },
        "id": "0huIWBKNlxc_",
        "outputId": "acf0ce91-7588-4ba7-83f0-da1732a0c39a"
      },
      "source": [
        "df1.groupby(['Team'])['Medal'].nunique().sort_values(ascending=False)"
      ],
      "execution_count": 64,
      "outputs": [
        {
          "output_type": "execute_result",
          "data": {
            "text/plain": [
              "Team\n",
              "Spain           4\n",
              "Australasia     4\n",
              "Cameroon        4\n",
              "Canada          4\n",
              "Canada-1        4\n",
              "               ..\n",
              "North Borneo    1\n",
              "Nortazo         1\n",
              "Norna           1\n",
              "Norman-1        1\n",
              "30. Februar     1\n",
              "Name: Medal, Length: 1184, dtype: int64"
            ]
          },
          "metadata": {},
          "execution_count": 64
        }
      ]
    },
    {
      "cell_type": "markdown",
      "metadata": {
        "id": "CSBZabO5l4V6"
      },
      "source": [
        "20. Who is the tallest and shortest player?"
      ]
    },
    {
      "cell_type": "code",
      "metadata": {
        "colab": {
          "base_uri": "https://localhost:8080/",
          "height": 382
        },
        "id": "GL3TxlRul5ZY",
        "outputId": "fbfa0c61-cc31-4400-8d34-b2c6ebb80816"
      },
      "source": [
        "df1[df1['Height'] == df1['Height'].min()]"
      ],
      "execution_count": 65,
      "outputs": [
        {
          "output_type": "execute_result",
          "data": {
            "text/html": [
              "<div>\n",
              "<style scoped>\n",
              "    .dataframe tbody tr th:only-of-type {\n",
              "        vertical-align: middle;\n",
              "    }\n",
              "\n",
              "    .dataframe tbody tr th {\n",
              "        vertical-align: top;\n",
              "    }\n",
              "\n",
              "    .dataframe thead th {\n",
              "        text-align: right;\n",
              "    }\n",
              "</style>\n",
              "<table border=\"1\" class=\"dataframe\">\n",
              "  <thead>\n",
              "    <tr style=\"text-align: right;\">\n",
              "      <th></th>\n",
              "      <th>ID</th>\n",
              "      <th>Name</th>\n",
              "      <th>Sex</th>\n",
              "      <th>Age</th>\n",
              "      <th>Height</th>\n",
              "      <th>Weight</th>\n",
              "      <th>Team</th>\n",
              "      <th>NOC</th>\n",
              "      <th>Games</th>\n",
              "      <th>Year</th>\n",
              "      <th>Season</th>\n",
              "      <th>City</th>\n",
              "      <th>Sport</th>\n",
              "      <th>Event</th>\n",
              "      <th>Medal</th>\n",
              "    </tr>\n",
              "  </thead>\n",
              "  <tbody>\n",
              "    <tr>\n",
              "      <th>29333</th>\n",
              "      <td>15150</td>\n",
              "      <td>Rosario Briones</td>\n",
              "      <td>F</td>\n",
              "      <td>15.0</td>\n",
              "      <td>127.0</td>\n",
              "      <td>42.0</td>\n",
              "      <td>Mexico</td>\n",
              "      <td>MEX</td>\n",
              "      <td>1968 Summer</td>\n",
              "      <td>1968</td>\n",
              "      <td>Summer</td>\n",
              "      <td>Mexico City</td>\n",
              "      <td>Gymnastics</td>\n",
              "      <td>Gymnastics Women's Individual All-Around</td>\n",
              "      <td>unknown</td>\n",
              "    </tr>\n",
              "    <tr>\n",
              "      <th>29334</th>\n",
              "      <td>15150</td>\n",
              "      <td>Rosario Briones</td>\n",
              "      <td>F</td>\n",
              "      <td>15.0</td>\n",
              "      <td>127.0</td>\n",
              "      <td>42.0</td>\n",
              "      <td>Mexico</td>\n",
              "      <td>MEX</td>\n",
              "      <td>1968 Summer</td>\n",
              "      <td>1968</td>\n",
              "      <td>Summer</td>\n",
              "      <td>Mexico City</td>\n",
              "      <td>Gymnastics</td>\n",
              "      <td>Gymnastics Women's Team All-Around</td>\n",
              "      <td>unknown</td>\n",
              "    </tr>\n",
              "    <tr>\n",
              "      <th>29335</th>\n",
              "      <td>15150</td>\n",
              "      <td>Rosario Briones</td>\n",
              "      <td>F</td>\n",
              "      <td>15.0</td>\n",
              "      <td>127.0</td>\n",
              "      <td>42.0</td>\n",
              "      <td>Mexico</td>\n",
              "      <td>MEX</td>\n",
              "      <td>1968 Summer</td>\n",
              "      <td>1968</td>\n",
              "      <td>Summer</td>\n",
              "      <td>Mexico City</td>\n",
              "      <td>Gymnastics</td>\n",
              "      <td>Gymnastics Women's Floor Exercise</td>\n",
              "      <td>unknown</td>\n",
              "    </tr>\n",
              "    <tr>\n",
              "      <th>29336</th>\n",
              "      <td>15150</td>\n",
              "      <td>Rosario Briones</td>\n",
              "      <td>F</td>\n",
              "      <td>15.0</td>\n",
              "      <td>127.0</td>\n",
              "      <td>42.0</td>\n",
              "      <td>Mexico</td>\n",
              "      <td>MEX</td>\n",
              "      <td>1968 Summer</td>\n",
              "      <td>1968</td>\n",
              "      <td>Summer</td>\n",
              "      <td>Mexico City</td>\n",
              "      <td>Gymnastics</td>\n",
              "      <td>Gymnastics Women's Horse Vault</td>\n",
              "      <td>unknown</td>\n",
              "    </tr>\n",
              "    <tr>\n",
              "      <th>29337</th>\n",
              "      <td>15150</td>\n",
              "      <td>Rosario Briones</td>\n",
              "      <td>F</td>\n",
              "      <td>15.0</td>\n",
              "      <td>127.0</td>\n",
              "      <td>42.0</td>\n",
              "      <td>Mexico</td>\n",
              "      <td>MEX</td>\n",
              "      <td>1968 Summer</td>\n",
              "      <td>1968</td>\n",
              "      <td>Summer</td>\n",
              "      <td>Mexico City</td>\n",
              "      <td>Gymnastics</td>\n",
              "      <td>Gymnastics Women's Uneven Bars</td>\n",
              "      <td>unknown</td>\n",
              "    </tr>\n",
              "    <tr>\n",
              "      <th>29338</th>\n",
              "      <td>15150</td>\n",
              "      <td>Rosario Briones</td>\n",
              "      <td>F</td>\n",
              "      <td>15.0</td>\n",
              "      <td>127.0</td>\n",
              "      <td>42.0</td>\n",
              "      <td>Mexico</td>\n",
              "      <td>MEX</td>\n",
              "      <td>1968 Summer</td>\n",
              "      <td>1968</td>\n",
              "      <td>Summer</td>\n",
              "      <td>Mexico City</td>\n",
              "      <td>Gymnastics</td>\n",
              "      <td>Gymnastics Women's Balance Beam</td>\n",
              "      <td>unknown</td>\n",
              "    </tr>\n",
              "    <tr>\n",
              "      <th>164821</th>\n",
              "      <td>82769</td>\n",
              "      <td>Lyton Levison Mphande</td>\n",
              "      <td>M</td>\n",
              "      <td>25.0</td>\n",
              "      <td>127.0</td>\n",
              "      <td>62.0</td>\n",
              "      <td>Malawi</td>\n",
              "      <td>MAW</td>\n",
              "      <td>1988 Summer</td>\n",
              "      <td>1988</td>\n",
              "      <td>Summer</td>\n",
              "      <td>Seoul</td>\n",
              "      <td>Boxing</td>\n",
              "      <td>Boxing Men's Light-Welterweight</td>\n",
              "      <td>unknown</td>\n",
              "    </tr>\n",
              "  </tbody>\n",
              "</table>\n",
              "</div>"
            ],
            "text/plain": [
              "           ID  ...    Medal\n",
              "29333   15150  ...  unknown\n",
              "29334   15150  ...  unknown\n",
              "29335   15150  ...  unknown\n",
              "29336   15150  ...  unknown\n",
              "29337   15150  ...  unknown\n",
              "29338   15150  ...  unknown\n",
              "164821  82769  ...  unknown\n",
              "\n",
              "[7 rows x 15 columns]"
            ]
          },
          "metadata": {},
          "execution_count": 65
        }
      ]
    },
    {
      "cell_type": "code",
      "metadata": {
        "colab": {
          "base_uri": "https://localhost:8080/",
          "height": 142
        },
        "id": "aZ_IslLxmAuP",
        "outputId": "d102313a-454a-405a-c9d5-1ae634753e2d"
      },
      "source": [
        "df1[df1['Height'] == df1['Height'].max()]"
      ],
      "execution_count": 66,
      "outputs": [
        {
          "output_type": "execute_result",
          "data": {
            "text/html": [
              "<div>\n",
              "<style scoped>\n",
              "    .dataframe tbody tr th:only-of-type {\n",
              "        vertical-align: middle;\n",
              "    }\n",
              "\n",
              "    .dataframe tbody tr th {\n",
              "        vertical-align: top;\n",
              "    }\n",
              "\n",
              "    .dataframe thead th {\n",
              "        text-align: right;\n",
              "    }\n",
              "</style>\n",
              "<table border=\"1\" class=\"dataframe\">\n",
              "  <thead>\n",
              "    <tr style=\"text-align: right;\">\n",
              "      <th></th>\n",
              "      <th>ID</th>\n",
              "      <th>Name</th>\n",
              "      <th>Sex</th>\n",
              "      <th>Age</th>\n",
              "      <th>Height</th>\n",
              "      <th>Weight</th>\n",
              "      <th>Team</th>\n",
              "      <th>NOC</th>\n",
              "      <th>Games</th>\n",
              "      <th>Year</th>\n",
              "      <th>Season</th>\n",
              "      <th>City</th>\n",
              "      <th>Sport</th>\n",
              "      <th>Event</th>\n",
              "      <th>Medal</th>\n",
              "    </tr>\n",
              "  </thead>\n",
              "  <tbody>\n",
              "    <tr>\n",
              "      <th>265040</th>\n",
              "      <td>132627</td>\n",
              "      <td>Yao Ming</td>\n",
              "      <td>M</td>\n",
              "      <td>20.0</td>\n",
              "      <td>226.0</td>\n",
              "      <td>141.0</td>\n",
              "      <td>China</td>\n",
              "      <td>CHN</td>\n",
              "      <td>2000 Summer</td>\n",
              "      <td>2000</td>\n",
              "      <td>Summer</td>\n",
              "      <td>Sydney</td>\n",
              "      <td>Basketball</td>\n",
              "      <td>Basketball Men's Basketball</td>\n",
              "      <td>unknown</td>\n",
              "    </tr>\n",
              "    <tr>\n",
              "      <th>265041</th>\n",
              "      <td>132627</td>\n",
              "      <td>Yao Ming</td>\n",
              "      <td>M</td>\n",
              "      <td>23.0</td>\n",
              "      <td>226.0</td>\n",
              "      <td>141.0</td>\n",
              "      <td>China</td>\n",
              "      <td>CHN</td>\n",
              "      <td>2004 Summer</td>\n",
              "      <td>2004</td>\n",
              "      <td>Summer</td>\n",
              "      <td>Athina</td>\n",
              "      <td>Basketball</td>\n",
              "      <td>Basketball Men's Basketball</td>\n",
              "      <td>unknown</td>\n",
              "    </tr>\n",
              "    <tr>\n",
              "      <th>265042</th>\n",
              "      <td>132627</td>\n",
              "      <td>Yao Ming</td>\n",
              "      <td>M</td>\n",
              "      <td>27.0</td>\n",
              "      <td>226.0</td>\n",
              "      <td>141.0</td>\n",
              "      <td>China</td>\n",
              "      <td>CHN</td>\n",
              "      <td>2008 Summer</td>\n",
              "      <td>2008</td>\n",
              "      <td>Summer</td>\n",
              "      <td>Beijing</td>\n",
              "      <td>Basketball</td>\n",
              "      <td>Basketball Men's Basketball</td>\n",
              "      <td>unknown</td>\n",
              "    </tr>\n",
              "  </tbody>\n",
              "</table>\n",
              "</div>"
            ],
            "text/plain": [
              "            ID      Name Sex  ...       Sport                        Event    Medal\n",
              "265040  132627  Yao Ming   M  ...  Basketball  Basketball Men's Basketball  unknown\n",
              "265041  132627  Yao Ming   M  ...  Basketball  Basketball Men's Basketball  unknown\n",
              "265042  132627  Yao Ming   M  ...  Basketball  Basketball Men's Basketball  unknown\n",
              "\n",
              "[3 rows x 15 columns]"
            ]
          },
          "metadata": {},
          "execution_count": 66
        }
      ]
    },
    {
      "cell_type": "markdown",
      "metadata": {
        "id": "rdLZqte0mHu4"
      },
      "source": [
        "21. Draw a suitable chart which shows the performance of different cities belonging to\n",
        "Beijing, London, Sydney, Los Angeles."
      ]
    },
    {
      "cell_type": "code",
      "metadata": {
        "id": "9kP6Z-H2mIsl"
      },
      "source": [
        "data = df1.loc[(df1['City'] == 'Beijing') | (df1['City'] == 'London') | (df1['City'] == 'Sydney') | (df1['City'] == 'Los Angeles')]"
      ],
      "execution_count": 67,
      "outputs": []
    },
    {
      "cell_type": "code",
      "metadata": {
        "id": "cCLGusyRmPUC"
      },
      "source": [
        "data = pd.get_dummies(columns=['Medal'],data=data)"
      ],
      "execution_count": 68,
      "outputs": []
    },
    {
      "cell_type": "code",
      "metadata": {
        "id": "EeOlg6LimSfE"
      },
      "source": [
        "data['Totalmedals'] = data['Medal_Bronze'] + data['Medal_Gold'] + data['Medal_Silver']"
      ],
      "execution_count": 69,
      "outputs": []
    },
    {
      "cell_type": "code",
      "metadata": {
        "id": "qzyEzCqumVnu"
      },
      "source": [
        "cities = data.groupby('City')['Totalmedals'].sum().reset_index()"
      ],
      "execution_count": 70,
      "outputs": []
    },
    {
      "cell_type": "code",
      "metadata": {
        "colab": {
          "base_uri": "https://localhost:8080/",
          "height": 172
        },
        "id": "izCler3fmY_g",
        "outputId": "fd133b65-d08d-4bc8-c881-36e16cf19d0f"
      },
      "source": [
        "cities"
      ],
      "execution_count": 71,
      "outputs": [
        {
          "output_type": "execute_result",
          "data": {
            "text/html": [
              "<div>\n",
              "<style scoped>\n",
              "    .dataframe tbody tr th:only-of-type {\n",
              "        vertical-align: middle;\n",
              "    }\n",
              "\n",
              "    .dataframe tbody tr th {\n",
              "        vertical-align: top;\n",
              "    }\n",
              "\n",
              "    .dataframe thead th {\n",
              "        text-align: right;\n",
              "    }\n",
              "</style>\n",
              "<table border=\"1\" class=\"dataframe\">\n",
              "  <thead>\n",
              "    <tr style=\"text-align: right;\">\n",
              "      <th></th>\n",
              "      <th>City</th>\n",
              "      <th>Totalmedals</th>\n",
              "    </tr>\n",
              "  </thead>\n",
              "  <tbody>\n",
              "    <tr>\n",
              "      <th>0</th>\n",
              "      <td>Beijing</td>\n",
              "      <td>2048.0</td>\n",
              "    </tr>\n",
              "    <tr>\n",
              "      <th>1</th>\n",
              "      <td>London</td>\n",
              "      <td>3624.0</td>\n",
              "    </tr>\n",
              "    <tr>\n",
              "      <th>2</th>\n",
              "      <td>Los Angeles</td>\n",
              "      <td>2123.0</td>\n",
              "    </tr>\n",
              "    <tr>\n",
              "      <th>3</th>\n",
              "      <td>Sydney</td>\n",
              "      <td>2004.0</td>\n",
              "    </tr>\n",
              "  </tbody>\n",
              "</table>\n",
              "</div>"
            ],
            "text/plain": [
              "          City  Totalmedals\n",
              "0      Beijing       2048.0\n",
              "1       London       3624.0\n",
              "2  Los Angeles       2123.0\n",
              "3       Sydney       2004.0"
            ]
          },
          "metadata": {},
          "execution_count": 71
        }
      ]
    },
    {
      "cell_type": "code",
      "metadata": {
        "colab": {
          "base_uri": "https://localhost:8080/",
          "height": 297
        },
        "id": "fXKcLoj0mdWG",
        "outputId": "d6d1a41b-abb7-4d7e-b7ae-9af2aaca0a4e"
      },
      "source": [
        "sns.barplot(x='City',y='Totalmedals',data=cities)"
      ],
      "execution_count": 72,
      "outputs": [
        {
          "output_type": "execute_result",
          "data": {
            "text/plain": [
              "<matplotlib.axes._subplots.AxesSubplot at 0x7fb2beb89790>"
            ]
          },
          "metadata": {},
          "execution_count": 72
        },
        {
          "output_type": "display_data",
          "data": {
            "image/png": "[encoded data removed]",
            "text/plain": [
              "<Figure size 432x288 with 1 Axes>"
            ]
          },
          "metadata": {
            "needs_background": "light"
          }
        }
      ]
    },
    {
      "cell_type": "markdown",
      "metadata": {
        "id": "s44IKeCrmr4r"
      },
      "source": [
        "**Problem 2:**"
      ]
    },
    {
      "cell_type": "markdown",
      "metadata": {
        "id": "fZUcetOrq8qI"
      },
      "source": [
        "1. Read Table1.xlsx and Table2.xlsx"
      ]
    },
    {
      "cell_type": "code",
      "metadata": {
        "id": "uDN7zdJgqVf3"
      },
      "source": [
        "table1=pd.read_excel('/content/Table1.xlsx')\n",
        "table2=pd.read_excel('/content/Table2.xlsx')"
      ],
      "execution_count": 74,
      "outputs": []
    },
    {
      "cell_type": "code",
      "metadata": {
        "colab": {
          "base_uri": "https://localhost:8080/",
          "height": 203
        },
        "id": "CWelIlLlqs3C",
        "outputId": "11658805-6cf4-469b-b7e5-7d7c6d893ff2"
      },
      "source": [
        "table1.head()"
      ],
      "execution_count": 75,
      "outputs": [
        {
          "output_type": "execute_result",
          "data": {
            "text/html": [
              "<div>\n",
              "<style scoped>\n",
              "    .dataframe tbody tr th:only-of-type {\n",
              "        vertical-align: middle;\n",
              "    }\n",
              "\n",
              "    .dataframe tbody tr th {\n",
              "        vertical-align: top;\n",
              "    }\n",
              "\n",
              "    .dataframe thead th {\n",
              "        text-align: right;\n",
              "    }\n",
              "</style>\n",
              "<table border=\"1\" class=\"dataframe\">\n",
              "  <thead>\n",
              "    <tr style=\"text-align: right;\">\n",
              "      <th></th>\n",
              "      <th>CustomerNum</th>\n",
              "    </tr>\n",
              "  </thead>\n",
              "  <tbody>\n",
              "    <tr>\n",
              "      <th>0</th>\n",
              "      <td>17</td>\n",
              "    </tr>\n",
              "    <tr>\n",
              "      <th>1</th>\n",
              "      <td>20</td>\n",
              "    </tr>\n",
              "    <tr>\n",
              "      <th>2</th>\n",
              "      <td>5</td>\n",
              "    </tr>\n",
              "    <tr>\n",
              "      <th>3</th>\n",
              "      <td>28</td>\n",
              "    </tr>\n",
              "    <tr>\n",
              "      <th>4</th>\n",
              "      <td>15</td>\n",
              "    </tr>\n",
              "  </tbody>\n",
              "</table>\n",
              "</div>"
            ],
            "text/plain": [
              "   CustomerNum\n",
              "0           17\n",
              "1           20\n",
              "2            5\n",
              "3           28\n",
              "4           15"
            ]
          },
          "metadata": {},
          "execution_count": 75
        }
      ]
    },
    {
      "cell_type": "code",
      "metadata": {
        "colab": {
          "base_uri": "https://localhost:8080/",
          "height": 203
        },
        "id": "QJML4Mkqqwea",
        "outputId": "622b329f-d561-4137-9a2e-0ddeebe22255"
      },
      "source": [
        "table2.head()"
      ],
      "execution_count": 76,
      "outputs": [
        {
          "output_type": "execute_result",
          "data": {
            "text/html": [
              "<div>\n",
              "<style scoped>\n",
              "    .dataframe tbody tr th:only-of-type {\n",
              "        vertical-align: middle;\n",
              "    }\n",
              "\n",
              "    .dataframe tbody tr th {\n",
              "        vertical-align: top;\n",
              "    }\n",
              "\n",
              "    .dataframe thead th {\n",
              "        text-align: right;\n",
              "    }\n",
              "</style>\n",
              "<table border=\"1\" class=\"dataframe\">\n",
              "  <thead>\n",
              "    <tr style=\"text-align: right;\">\n",
              "      <th></th>\n",
              "      <th>CustomerNum</th>\n",
              "    </tr>\n",
              "  </thead>\n",
              "  <tbody>\n",
              "    <tr>\n",
              "      <th>0</th>\n",
              "      <td>84</td>\n",
              "    </tr>\n",
              "    <tr>\n",
              "      <th>1</th>\n",
              "      <td>85</td>\n",
              "    </tr>\n",
              "    <tr>\n",
              "      <th>2</th>\n",
              "      <td>72</td>\n",
              "    </tr>\n",
              "    <tr>\n",
              "      <th>3</th>\n",
              "      <td>100</td>\n",
              "    </tr>\n",
              "    <tr>\n",
              "      <th>4</th>\n",
              "      <td>65</td>\n",
              "    </tr>\n",
              "  </tbody>\n",
              "</table>\n",
              "</div>"
            ],
            "text/plain": [
              "   CustomerNum\n",
              "0           84\n",
              "1           85\n",
              "2           72\n",
              "3          100\n",
              "4           65"
            ]
          },
          "metadata": {},
          "execution_count": 76
        }
      ]
    },
    {
      "cell_type": "markdown",
      "metadata": {
        "id": "hYqWPO8ArAL3"
      },
      "source": [
        "2. Sort customer numbers in both Table1 and Table2 files in ascending order"
      ]
    },
    {
      "cell_type": "code",
      "metadata": {
        "id": "cRrLVweprFh-"
      },
      "source": [
        "table1.sort_values('CustomerNum', ascending=True,inplace=True,ignore_index=True)"
      ],
      "execution_count": 77,
      "outputs": []
    },
    {
      "cell_type": "code",
      "metadata": {
        "colab": {
          "base_uri": "https://localhost:8080/",
          "height": 203
        },
        "id": "MfY-UfvarNUz",
        "outputId": "1aa2f843-38ee-486d-8771-a021f630ff57"
      },
      "source": [
        "table1.head()"
      ],
      "execution_count": 78,
      "outputs": [
        {
          "output_type": "execute_result",
          "data": {
            "text/html": [
              "<div>\n",
              "<style scoped>\n",
              "    .dataframe tbody tr th:only-of-type {\n",
              "        vertical-align: middle;\n",
              "    }\n",
              "\n",
              "    .dataframe tbody tr th {\n",
              "        vertical-align: top;\n",
              "    }\n",
              "\n",
              "    .dataframe thead th {\n",
              "        text-align: right;\n",
              "    }\n",
              "</style>\n",
              "<table border=\"1\" class=\"dataframe\">\n",
              "  <thead>\n",
              "    <tr style=\"text-align: right;\">\n",
              "      <th></th>\n",
              "      <th>CustomerNum</th>\n",
              "    </tr>\n",
              "  </thead>\n",
              "  <tbody>\n",
              "    <tr>\n",
              "      <th>0</th>\n",
              "      <td>1</td>\n",
              "    </tr>\n",
              "    <tr>\n",
              "      <th>1</th>\n",
              "      <td>2</td>\n",
              "    </tr>\n",
              "    <tr>\n",
              "      <th>2</th>\n",
              "      <td>3</td>\n",
              "    </tr>\n",
              "    <tr>\n",
              "      <th>3</th>\n",
              "      <td>4</td>\n",
              "    </tr>\n",
              "    <tr>\n",
              "      <th>4</th>\n",
              "      <td>5</td>\n",
              "    </tr>\n",
              "  </tbody>\n",
              "</table>\n",
              "</div>"
            ],
            "text/plain": [
              "   CustomerNum\n",
              "0            1\n",
              "1            2\n",
              "2            3\n",
              "3            4\n",
              "4            5"
            ]
          },
          "metadata": {},
          "execution_count": 78
        }
      ]
    },
    {
      "cell_type": "code",
      "metadata": {
        "colab": {
          "base_uri": "https://localhost:8080/",
          "height": 203
        },
        "id": "NIah8rwirQ6P",
        "outputId": "afafdee9-de34-498f-9a63-a451c65a134e"
      },
      "source": [
        "table2.sort_values('CustomerNum',ascending=True,inplace=True,ignore_index=True)\n",
        "\n",
        "table2.head()"
      ],
      "execution_count": 79,
      "outputs": [
        {
          "output_type": "execute_result",
          "data": {
            "text/html": [
              "<div>\n",
              "<style scoped>\n",
              "    .dataframe tbody tr th:only-of-type {\n",
              "        vertical-align: middle;\n",
              "    }\n",
              "\n",
              "    .dataframe tbody tr th {\n",
              "        vertical-align: top;\n",
              "    }\n",
              "\n",
              "    .dataframe thead th {\n",
              "        text-align: right;\n",
              "    }\n",
              "</style>\n",
              "<table border=\"1\" class=\"dataframe\">\n",
              "  <thead>\n",
              "    <tr style=\"text-align: right;\">\n",
              "      <th></th>\n",
              "      <th>CustomerNum</th>\n",
              "    </tr>\n",
              "  </thead>\n",
              "  <tbody>\n",
              "    <tr>\n",
              "      <th>0</th>\n",
              "      <td>51</td>\n",
              "    </tr>\n",
              "    <tr>\n",
              "      <th>1</th>\n",
              "      <td>52</td>\n",
              "    </tr>\n",
              "    <tr>\n",
              "      <th>2</th>\n",
              "      <td>53</td>\n",
              "    </tr>\n",
              "    <tr>\n",
              "      <th>3</th>\n",
              "      <td>54</td>\n",
              "    </tr>\n",
              "    <tr>\n",
              "      <th>4</th>\n",
              "      <td>55</td>\n",
              "    </tr>\n",
              "  </tbody>\n",
              "</table>\n",
              "</div>"
            ],
            "text/plain": [
              "   CustomerNum\n",
              "0           51\n",
              "1           52\n",
              "2           53\n",
              "3           54\n",
              "4           55"
            ]
          },
          "metadata": {},
          "execution_count": 79
        }
      ]
    },
    {
      "cell_type": "markdown",
      "metadata": {
        "id": "fFxyre6ZrYSS"
      },
      "source": [
        "3. Create a new Table3 combining both Table1 and Table2 by selecting the first 3 customers\n",
        "from \n",
        "Table1 and first 4 customers from Table2. Repeat this process till we iterate on all customers\n",
        "Your output should have 1 column and 100 rows with customer numbers.\n",
        "Output – 1,2,3,51,52,53,54,4,5,6,55,56,57,58,7,8,9,59,60,61,62...."
      ]
    },
    {
      "cell_type": "code",
      "metadata": {
        "colab": {
          "base_uri": "https://localhost:8080/",
          "height": 417
        },
        "id": "HWGrTcbUrdWX",
        "outputId": "3a6332ff-94cc-49fc-f388-c0de4b5ba44b"
      },
      "source": [
        "table3 = pd.concat([table1,table2],ignore_index=True)\n",
        "table3"
      ],
      "execution_count": 80,
      "outputs": [
        {
          "output_type": "execute_result",
          "data": {
            "text/html": [
              "<div>\n",
              "<style scoped>\n",
              "    .dataframe tbody tr th:only-of-type {\n",
              "        vertical-align: middle;\n",
              "    }\n",
              "\n",
              "    .dataframe tbody tr th {\n",
              "        vertical-align: top;\n",
              "    }\n",
              "\n",
              "    .dataframe thead th {\n",
              "        text-align: right;\n",
              "    }\n",
              "</style>\n",
              "<table border=\"1\" class=\"dataframe\">\n",
              "  <thead>\n",
              "    <tr style=\"text-align: right;\">\n",
              "      <th></th>\n",
              "      <th>CustomerNum</th>\n",
              "    </tr>\n",
              "  </thead>\n",
              "  <tbody>\n",
              "    <tr>\n",
              "      <th>0</th>\n",
              "      <td>1</td>\n",
              "    </tr>\n",
              "    <tr>\n",
              "      <th>1</th>\n",
              "      <td>2</td>\n",
              "    </tr>\n",
              "    <tr>\n",
              "      <th>2</th>\n",
              "      <td>3</td>\n",
              "    </tr>\n",
              "    <tr>\n",
              "      <th>3</th>\n",
              "      <td>4</td>\n",
              "    </tr>\n",
              "    <tr>\n",
              "      <th>4</th>\n",
              "      <td>5</td>\n",
              "    </tr>\n",
              "    <tr>\n",
              "      <th>...</th>\n",
              "      <td>...</td>\n",
              "    </tr>\n",
              "    <tr>\n",
              "      <th>95</th>\n",
              "      <td>96</td>\n",
              "    </tr>\n",
              "    <tr>\n",
              "      <th>96</th>\n",
              "      <td>97</td>\n",
              "    </tr>\n",
              "    <tr>\n",
              "      <th>97</th>\n",
              "      <td>98</td>\n",
              "    </tr>\n",
              "    <tr>\n",
              "      <th>98</th>\n",
              "      <td>99</td>\n",
              "    </tr>\n",
              "    <tr>\n",
              "      <th>99</th>\n",
              "      <td>100</td>\n",
              "    </tr>\n",
              "  </tbody>\n",
              "</table>\n",
              "<p>100 rows × 1 columns</p>\n",
              "</div>"
            ],
            "text/plain": [
              "    CustomerNum\n",
              "0             1\n",
              "1             2\n",
              "2             3\n",
              "3             4\n",
              "4             5\n",
              "..          ...\n",
              "95           96\n",
              "96           97\n",
              "97           98\n",
              "98           99\n",
              "99          100\n",
              "\n",
              "[100 rows x 1 columns]"
            ]
          },
          "metadata": {},
          "execution_count": 80
        }
      ]
    },
    {
      "cell_type": "markdown",
      "metadata": {
        "id": "0w64YWKYr12A"
      },
      "source": [
        "**Problem 3:**"
      ]
    },
    {
      "cell_type": "markdown",
      "metadata": {
        "id": "XR7Oa33_r-SU"
      },
      "source": [
        "1. Read the dataset and store it in a pandas data fram"
      ]
    },
    {
      "cell_type": "code",
      "metadata": {
        "colab": {
          "base_uri": "https://localhost:8080/",
          "height": 418
        },
        "id": "ApvcT50pr_SC",
        "outputId": "81fe48b5-ff1c-4f9d-919a-542553dced87"
      },
      "source": [
        "sales = pd.read_csv('/content/company_sales_data.csv')\n",
        "sales"
      ],
      "execution_count": 82,
      "outputs": [
        {
          "output_type": "execute_result",
          "data": {
            "text/html": [
              "<div>\n",
              "<style scoped>\n",
              "    .dataframe tbody tr th:only-of-type {\n",
              "        vertical-align: middle;\n",
              "    }\n",
              "\n",
              "    .dataframe tbody tr th {\n",
              "        vertical-align: top;\n",
              "    }\n",
              "\n",
              "    .dataframe thead th {\n",
              "        text-align: right;\n",
              "    }\n",
              "</style>\n",
              "<table border=\"1\" class=\"dataframe\">\n",
              "  <thead>\n",
              "    <tr style=\"text-align: right;\">\n",
              "      <th></th>\n",
              "      <th>month_number</th>\n",
              "      <th>facecream</th>\n",
              "      <th>facewash</th>\n",
              "      <th>toothpaste</th>\n",
              "      <th>bathingsoap</th>\n",
              "      <th>shampoo</th>\n",
              "      <th>moisturizer</th>\n",
              "      <th>total_units</th>\n",
              "      <th>total_profit</th>\n",
              "    </tr>\n",
              "  </thead>\n",
              "  <tbody>\n",
              "    <tr>\n",
              "      <th>0</th>\n",
              "      <td>1</td>\n",
              "      <td>2500</td>\n",
              "      <td>1500</td>\n",
              "      <td>5200</td>\n",
              "      <td>9200</td>\n",
              "      <td>1200</td>\n",
              "      <td>1500</td>\n",
              "      <td>21100</td>\n",
              "      <td>211000</td>\n",
              "    </tr>\n",
              "    <tr>\n",
              "      <th>1</th>\n",
              "      <td>2</td>\n",
              "      <td>2630</td>\n",
              "      <td>1200</td>\n",
              "      <td>5100</td>\n",
              "      <td>6100</td>\n",
              "      <td>2100</td>\n",
              "      <td>1200</td>\n",
              "      <td>18330</td>\n",
              "      <td>183300</td>\n",
              "    </tr>\n",
              "    <tr>\n",
              "      <th>2</th>\n",
              "      <td>3</td>\n",
              "      <td>2140</td>\n",
              "      <td>1340</td>\n",
              "      <td>4550</td>\n",
              "      <td>9550</td>\n",
              "      <td>3550</td>\n",
              "      <td>1340</td>\n",
              "      <td>22470</td>\n",
              "      <td>224700</td>\n",
              "    </tr>\n",
              "    <tr>\n",
              "      <th>3</th>\n",
              "      <td>4</td>\n",
              "      <td>3400</td>\n",
              "      <td>1130</td>\n",
              "      <td>5870</td>\n",
              "      <td>8870</td>\n",
              "      <td>1870</td>\n",
              "      <td>1130</td>\n",
              "      <td>22270</td>\n",
              "      <td>222700</td>\n",
              "    </tr>\n",
              "    <tr>\n",
              "      <th>4</th>\n",
              "      <td>5</td>\n",
              "      <td>3600</td>\n",
              "      <td>1740</td>\n",
              "      <td>4560</td>\n",
              "      <td>7760</td>\n",
              "      <td>1560</td>\n",
              "      <td>1740</td>\n",
              "      <td>20960</td>\n",
              "      <td>209600</td>\n",
              "    </tr>\n",
              "    <tr>\n",
              "      <th>5</th>\n",
              "      <td>6</td>\n",
              "      <td>2760</td>\n",
              "      <td>1555</td>\n",
              "      <td>4890</td>\n",
              "      <td>7490</td>\n",
              "      <td>1890</td>\n",
              "      <td>1555</td>\n",
              "      <td>20140</td>\n",
              "      <td>201400</td>\n",
              "    </tr>\n",
              "    <tr>\n",
              "      <th>6</th>\n",
              "      <td>7</td>\n",
              "      <td>2980</td>\n",
              "      <td>1120</td>\n",
              "      <td>4780</td>\n",
              "      <td>8980</td>\n",
              "      <td>1780</td>\n",
              "      <td>1120</td>\n",
              "      <td>29550</td>\n",
              "      <td>295500</td>\n",
              "    </tr>\n",
              "    <tr>\n",
              "      <th>7</th>\n",
              "      <td>8</td>\n",
              "      <td>3700</td>\n",
              "      <td>1400</td>\n",
              "      <td>5860</td>\n",
              "      <td>9960</td>\n",
              "      <td>2860</td>\n",
              "      <td>1400</td>\n",
              "      <td>36140</td>\n",
              "      <td>361400</td>\n",
              "    </tr>\n",
              "    <tr>\n",
              "      <th>8</th>\n",
              "      <td>9</td>\n",
              "      <td>3540</td>\n",
              "      <td>1780</td>\n",
              "      <td>6100</td>\n",
              "      <td>8100</td>\n",
              "      <td>2100</td>\n",
              "      <td>1780</td>\n",
              "      <td>23400</td>\n",
              "      <td>234000</td>\n",
              "    </tr>\n",
              "    <tr>\n",
              "      <th>9</th>\n",
              "      <td>10</td>\n",
              "      <td>1990</td>\n",
              "      <td>1890</td>\n",
              "      <td>8300</td>\n",
              "      <td>10300</td>\n",
              "      <td>2300</td>\n",
              "      <td>1890</td>\n",
              "      <td>26670</td>\n",
              "      <td>266700</td>\n",
              "    </tr>\n",
              "    <tr>\n",
              "      <th>10</th>\n",
              "      <td>11</td>\n",
              "      <td>2340</td>\n",
              "      <td>2100</td>\n",
              "      <td>7300</td>\n",
              "      <td>13300</td>\n",
              "      <td>2400</td>\n",
              "      <td>2100</td>\n",
              "      <td>41280</td>\n",
              "      <td>412800</td>\n",
              "    </tr>\n",
              "    <tr>\n",
              "      <th>11</th>\n",
              "      <td>12</td>\n",
              "      <td>2900</td>\n",
              "      <td>1760</td>\n",
              "      <td>7400</td>\n",
              "      <td>14400</td>\n",
              "      <td>1800</td>\n",
              "      <td>1760</td>\n",
              "      <td>30020</td>\n",
              "      <td>300200</td>\n",
              "    </tr>\n",
              "  </tbody>\n",
              "</table>\n",
              "</div>"
            ],
            "text/plain": [
              "    month_number  facecream  facewash  ...  moisturizer  total_units  total_profit\n",
              "0              1       2500      1500  ...         1500        21100        211000\n",
              "1              2       2630      1200  ...         1200        18330        183300\n",
              "2              3       2140      1340  ...         1340        22470        224700\n",
              "3              4       3400      1130  ...         1130        22270        222700\n",
              "4              5       3600      1740  ...         1740        20960        209600\n",
              "5              6       2760      1555  ...         1555        20140        201400\n",
              "6              7       2980      1120  ...         1120        29550        295500\n",
              "7              8       3700      1400  ...         1400        36140        361400\n",
              "8              9       3540      1780  ...         1780        23400        234000\n",
              "9             10       1990      1890  ...         1890        26670        266700\n",
              "10            11       2340      2100  ...         2100        41280        412800\n",
              "11            12       2900      1760  ...         1760        30020        300200\n",
              "\n",
              "[12 rows x 9 columns]"
            ]
          },
          "metadata": {},
          "execution_count": 82
        }
      ]
    },
    {
      "cell_type": "markdown",
      "metadata": {
        "id": "putCx5s0sinV"
      },
      "source": [
        "2. Extract the product names into a list from the data frame\n"
      ]
    },
    {
      "cell_type": "code",
      "metadata": {
        "colab": {
          "base_uri": "https://localhost:8080/"
        },
        "id": "P_IDjTWAsjcS",
        "outputId": "7fa04426-5715-41ea-fe35-4e6063f94c9e"
      },
      "source": [
        "productnames = list(sales.columns)\n",
        "productnames[1:]"
      ],
      "execution_count": 83,
      "outputs": [
        {
          "output_type": "execute_result",
          "data": {
            "text/plain": [
              "['facecream',\n",
              " 'facewash',\n",
              " 'toothpaste',\n",
              " 'bathingsoap',\n",
              " 'shampoo',\n",
              " 'moisturizer',\n",
              " 'total_units',\n",
              " 'total_profit']"
            ]
          },
          "metadata": {},
          "execution_count": 83
        }
      ]
    },
    {
      "cell_type": "markdown",
      "metadata": {
        "id": "aVkyCEYfsu8C"
      },
      "source": [
        "3. Create a two-dimensional list of product names and sales"
      ]
    },
    {
      "cell_type": "code",
      "metadata": {
        "colab": {
          "base_uri": "https://localhost:8080/"
        },
        "id": "Ui10Bl-Asv3w",
        "outputId": "4c1ea6c6-c966-4d95-e609-4bc8d2f737ed"
      },
      "source": [
        "print(sales.T.reset_index().values.tolist())"
      ],
      "execution_count": 84,
      "outputs": [
        {
          "output_type": "stream",
          "name": "stdout",
          "text": [
            "[['month_number', 1, 2, 3, 4, 5, 6, 7, 8, 9, 10, 11, 12], ['facecream', 2500, 2630, 2140, 3400, 3600, 2760, 2980, 3700, 3540, 1990, 2340, 2900], ['facewash', 1500, 1200, 1340, 1130, 1740, 1555, 1120, 1400, 1780, 1890, 2100, 1760], ['toothpaste', 5200, 5100, 4550, 5870, 4560, 4890, 4780, 5860, 6100, 8300, 7300, 7400], ['bathingsoap', 9200, 6100, 9550, 8870, 7760, 7490, 8980, 9960, 8100, 10300, 13300, 14400], ['shampoo', 1200, 2100, 3550, 1870, 1560, 1890, 1780, 2860, 2100, 2300, 2400, 1800], ['moisturizer', 1500, 1200, 1340, 1130, 1740, 1555, 1120, 1400, 1780, 1890, 2100, 1760], ['total_units', 21100, 18330, 22470, 22270, 20960, 20140, 29550, 36140, 23400, 26670, 41280, 30020], ['total_profit', 211000, 183300, 224700, 222700, 209600, 201400, 295500, 361400, 234000, 266700, 412800, 300200]]\n"
          ]
        }
      ]
    },
    {
      "cell_type": "markdown",
      "metadata": {
        "id": "yrenZrHFs7De"
      },
      "source": [
        "4. Create a dictionary of sold items"
      ]
    },
    {
      "cell_type": "code",
      "metadata": {
        "colab": {
          "base_uri": "https://localhost:8080/"
        },
        "id": "oUVQA9MXs728",
        "outputId": "9565ede6-15b1-4ae5-a5ab-63b285b41562"
      },
      "source": [
        "sales.to_dict(orient='list')\n"
      ],
      "execution_count": 85,
      "outputs": [
        {
          "output_type": "execute_result",
          "data": {
            "text/plain": [
              "{'bathingsoap': [9200,\n",
              "  6100,\n",
              "  9550,\n",
              "  8870,\n",
              "  7760,\n",
              "  7490,\n",
              "  8980,\n",
              "  9960,\n",
              "  8100,\n",
              "  10300,\n",
              "  13300,\n",
              "  14400],\n",
              " 'facecream': [2500,\n",
              "  2630,\n",
              "  2140,\n",
              "  3400,\n",
              "  3600,\n",
              "  2760,\n",
              "  2980,\n",
              "  3700,\n",
              "  3540,\n",
              "  1990,\n",
              "  2340,\n",
              "  2900],\n",
              " 'facewash': [1500,\n",
              "  1200,\n",
              "  1340,\n",
              "  1130,\n",
              "  1740,\n",
              "  1555,\n",
              "  1120,\n",
              "  1400,\n",
              "  1780,\n",
              "  1890,\n",
              "  2100,\n",
              "  1760],\n",
              " 'moisturizer': [1500,\n",
              "  1200,\n",
              "  1340,\n",
              "  1130,\n",
              "  1740,\n",
              "  1555,\n",
              "  1120,\n",
              "  1400,\n",
              "  1780,\n",
              "  1890,\n",
              "  2100,\n",
              "  1760],\n",
              " 'month_number': [1, 2, 3, 4, 5, 6, 7, 8, 9, 10, 11, 12],\n",
              " 'shampoo': [1200,\n",
              "  2100,\n",
              "  3550,\n",
              "  1870,\n",
              "  1560,\n",
              "  1890,\n",
              "  1780,\n",
              "  2860,\n",
              "  2100,\n",
              "  2300,\n",
              "  2400,\n",
              "  1800],\n",
              " 'toothpaste': [5200,\n",
              "  5100,\n",
              "  4550,\n",
              "  5870,\n",
              "  4560,\n",
              "  4890,\n",
              "  4780,\n",
              "  5860,\n",
              "  6100,\n",
              "  8300,\n",
              "  7300,\n",
              "  7400],\n",
              " 'total_profit': [211000,\n",
              "  183300,\n",
              "  224700,\n",
              "  222700,\n",
              "  209600,\n",
              "  201400,\n",
              "  295500,\n",
              "  361400,\n",
              "  234000,\n",
              "  266700,\n",
              "  412800,\n",
              "  300200],\n",
              " 'total_units': [21100,\n",
              "  18330,\n",
              "  22470,\n",
              "  22270,\n",
              "  20960,\n",
              "  20140,\n",
              "  29550,\n",
              "  36140,\n",
              "  23400,\n",
              "  26670,\n",
              "  41280,\n",
              "  30020]}"
            ]
          },
          "metadata": {},
          "execution_count": 85
        }
      ]
    },
    {
      "cell_type": "markdown",
      "metadata": {
        "id": "Ohy8lJo1w4QO"
      },
      "source": [
        "5. What is the average profit of the company in a month\n"
      ]
    },
    {
      "cell_type": "code",
      "metadata": {
        "colab": {
          "base_uri": "https://localhost:8080/"
        },
        "id": "uf4PgkfIw5Gt",
        "outputId": "964b412b-3fcf-4aa5-da38-94c0423f82c5"
      },
      "source": [
        "sales['total_profit'].mean()"
      ],
      "execution_count": 86,
      "outputs": [
        {
          "output_type": "execute_result",
          "data": {
            "text/plain": [
              "260275.0"
            ]
          },
          "metadata": {},
          "execution_count": 86
        }
      ]
    },
    {
      "cell_type": "markdown",
      "metadata": {
        "id": "sUApM-DLw_4J"
      },
      "source": [
        "6. Get the most sold item of the company"
      ]
    },
    {
      "cell_type": "code",
      "metadata": {
        "colab": {
          "base_uri": "https://localhost:8080/"
        },
        "id": "FMryQFhKxOdC",
        "outputId": "4d0023ce-0bfa-4508-a24b-90dd627c851b"
      },
      "source": [
        "for i in sales.drop(['month_number','total_units','total_profit'],axis=1):\n",
        "   print(i,sales[i].sum())"
      ],
      "execution_count": 87,
      "outputs": [
        {
          "output_type": "stream",
          "name": "stdout",
          "text": [
            "facecream 34480\n",
            "facewash 18515\n",
            "toothpaste 69910\n",
            "bathingsoap 114010\n",
            "shampoo 25410\n",
            "moisturizer 18515\n"
          ]
        }
      ]
    },
    {
      "cell_type": "markdown",
      "metadata": {
        "id": "1rn9JD8bxSsi"
      },
      "source": [
        "7. Read Total profit of all months and show it using a line plot"
      ]
    },
    {
      "cell_type": "code",
      "metadata": {
        "colab": {
          "base_uri": "https://localhost:8080/",
          "height": 298
        },
        "id": "pWA11SfhxWeZ",
        "outputId": "33cbbfc1-b40e-4ed4-bf24-704f37c5927f"
      },
      "source": [
        "sns.lineplot(x='month_number', y='total_profit',data=sales)"
      ],
      "execution_count": 88,
      "outputs": [
        {
          "output_type": "execute_result",
          "data": {
            "text/plain": [
              "<matplotlib.axes._subplots.AxesSubplot at 0x7fb2ada0e550>"
            ]
          },
          "metadata": {},
          "execution_count": 88
        },
        {
          "output_type": "display_data",
          "data": {
            "image/png": "[encoded data removed]",
            "text/plain": [
              "<Figure size 432x288 with 1 Axes>"
            ]
          },
          "metadata": {
            "needs_background": "light"
          }
        }
      ]
    },
    {
      "cell_type": "markdown",
      "metadata": {
        "id": "1EFzjincxb0Q"
      },
      "source": [
        "8. Read all product sales data and show it using a Multiline Plot\n"
      ]
    },
    {
      "cell_type": "code",
      "metadata": {
        "colab": {
          "base_uri": "https://localhost:8080/",
          "height": 450
        },
        "id": "gtW_JpLvxiYa",
        "outputId": "c622c6be-a2c1-4e65-9b2c-869f879c5cc5"
      },
      "source": [
        "sales_data = sales[['facecream',\n",
        " 'facewash',\n",
        " 'toothpaste',\n",
        " 'bathingsoap',\n",
        " 'shampoo',\n",
        " 'moisturizer']]\n",
        "sales_data = sales_data.set_index(sales['month_number'])\n",
        "sales_data"
      ],
      "execution_count": 89,
      "outputs": [
        {
          "output_type": "execute_result",
          "data": {
            "text/html": [
              "<div>\n",
              "<style scoped>\n",
              "    .dataframe tbody tr th:only-of-type {\n",
              "        vertical-align: middle;\n",
              "    }\n",
              "\n",
              "    .dataframe tbody tr th {\n",
              "        vertical-align: top;\n",
              "    }\n",
              "\n",
              "    .dataframe thead th {\n",
              "        text-align: right;\n",
              "    }\n",
              "</style>\n",
              "<table border=\"1\" class=\"dataframe\">\n",
              "  <thead>\n",
              "    <tr style=\"text-align: right;\">\n",
              "      <th></th>\n",
              "      <th>facecream</th>\n",
              "      <th>facewash</th>\n",
              "      <th>toothpaste</th>\n",
              "      <th>bathingsoap</th>\n",
              "      <th>shampoo</th>\n",
              "      <th>moisturizer</th>\n",
              "    </tr>\n",
              "    <tr>\n",
              "      <th>month_number</th>\n",
              "      <th></th>\n",
              "      <th></th>\n",
              "      <th></th>\n",
              "      <th></th>\n",
              "      <th></th>\n",
              "      <th></th>\n",
              "    </tr>\n",
              "  </thead>\n",
              "  <tbody>\n",
              "    <tr>\n",
              "      <th>1</th>\n",
              "      <td>2500</td>\n",
              "      <td>1500</td>\n",
              "      <td>5200</td>\n",
              "      <td>9200</td>\n",
              "      <td>1200</td>\n",
              "      <td>1500</td>\n",
              "    </tr>\n",
              "    <tr>\n",
              "      <th>2</th>\n",
              "      <td>2630</td>\n",
              "      <td>1200</td>\n",
              "      <td>5100</td>\n",
              "      <td>6100</td>\n",
              "      <td>2100</td>\n",
              "      <td>1200</td>\n",
              "    </tr>\n",
              "    <tr>\n",
              "      <th>3</th>\n",
              "      <td>2140</td>\n",
              "      <td>1340</td>\n",
              "      <td>4550</td>\n",
              "      <td>9550</td>\n",
              "      <td>3550</td>\n",
              "      <td>1340</td>\n",
              "    </tr>\n",
              "    <tr>\n",
              "      <th>4</th>\n",
              "      <td>3400</td>\n",
              "      <td>1130</td>\n",
              "      <td>5870</td>\n",
              "      <td>8870</td>\n",
              "      <td>1870</td>\n",
              "      <td>1130</td>\n",
              "    </tr>\n",
              "    <tr>\n",
              "      <th>5</th>\n",
              "      <td>3600</td>\n",
              "      <td>1740</td>\n",
              "      <td>4560</td>\n",
              "      <td>7760</td>\n",
              "      <td>1560</td>\n",
              "      <td>1740</td>\n",
              "    </tr>\n",
              "    <tr>\n",
              "      <th>6</th>\n",
              "      <td>2760</td>\n",
              "      <td>1555</td>\n",
              "      <td>4890</td>\n",
              "      <td>7490</td>\n",
              "      <td>1890</td>\n",
              "      <td>1555</td>\n",
              "    </tr>\n",
              "    <tr>\n",
              "      <th>7</th>\n",
              "      <td>2980</td>\n",
              "      <td>1120</td>\n",
              "      <td>4780</td>\n",
              "      <td>8980</td>\n",
              "      <td>1780</td>\n",
              "      <td>1120</td>\n",
              "    </tr>\n",
              "    <tr>\n",
              "      <th>8</th>\n",
              "      <td>3700</td>\n",
              "      <td>1400</td>\n",
              "      <td>5860</td>\n",
              "      <td>9960</td>\n",
              "      <td>2860</td>\n",
              "      <td>1400</td>\n",
              "    </tr>\n",
              "    <tr>\n",
              "      <th>9</th>\n",
              "      <td>3540</td>\n",
              "      <td>1780</td>\n",
              "      <td>6100</td>\n",
              "      <td>8100</td>\n",
              "      <td>2100</td>\n",
              "      <td>1780</td>\n",
              "    </tr>\n",
              "    <tr>\n",
              "      <th>10</th>\n",
              "      <td>1990</td>\n",
              "      <td>1890</td>\n",
              "      <td>8300</td>\n",
              "      <td>10300</td>\n",
              "      <td>2300</td>\n",
              "      <td>1890</td>\n",
              "    </tr>\n",
              "    <tr>\n",
              "      <th>11</th>\n",
              "      <td>2340</td>\n",
              "      <td>2100</td>\n",
              "      <td>7300</td>\n",
              "      <td>13300</td>\n",
              "      <td>2400</td>\n",
              "      <td>2100</td>\n",
              "    </tr>\n",
              "    <tr>\n",
              "      <th>12</th>\n",
              "      <td>2900</td>\n",
              "      <td>1760</td>\n",
              "      <td>7400</td>\n",
              "      <td>14400</td>\n",
              "      <td>1800</td>\n",
              "      <td>1760</td>\n",
              "    </tr>\n",
              "  </tbody>\n",
              "</table>\n",
              "</div>"
            ],
            "text/plain": [
              "              facecream  facewash  ...  shampoo  moisturizer\n",
              "month_number                       ...                      \n",
              "1                  2500      1500  ...     1200         1500\n",
              "2                  2630      1200  ...     2100         1200\n",
              "3                  2140      1340  ...     3550         1340\n",
              "4                  3400      1130  ...     1870         1130\n",
              "5                  3600      1740  ...     1560         1740\n",
              "6                  2760      1555  ...     1890         1555\n",
              "7                  2980      1120  ...     1780         1120\n",
              "8                  3700      1400  ...     2860         1400\n",
              "9                  3540      1780  ...     2100         1780\n",
              "10                 1990      1890  ...     2300         1890\n",
              "11                 2340      2100  ...     2400         2100\n",
              "12                 2900      1760  ...     1800         1760\n",
              "\n",
              "[12 rows x 6 columns]"
            ]
          },
          "metadata": {},
          "execution_count": 89
        }
      ]
    },
    {
      "cell_type": "code",
      "metadata": {
        "colab": {
          "base_uri": "https://localhost:8080/",
          "height": 514
        },
        "id": "Gvat6mq9x1wK",
        "outputId": "d967dc85-3c17-4fcf-a493-7c819f48d6e6"
      },
      "source": [
        "plt.figure(figsize=(12,8))\n",
        "plt.plot(sales_data)\n",
        "plt.legend(['facecream',\n",
        " 'facewash',\n",
        " 'toothpaste',\n",
        " 'bathingsoap',\n",
        " 'shampoo',\n",
        " 'moisturizer'])\n",
        "plt.ylabel('sales')\n",
        "plt.xlabel('months')"
      ],
      "execution_count": 90,
      "outputs": [
        {
          "output_type": "execute_result",
          "data": {
            "text/plain": [
              "Text(0.5, 0, 'months')"
            ]
          },
          "metadata": {},
          "execution_count": 90
        },
        {
          "output_type": "display_data",
          "data": {
            "image/png": "[encoded data removed]",
            "text/plain": [
              "<Figure size 864x576 with 1 Axes>"
            ]
          },
          "metadata": {
            "needs_background": "light"
          }
        }
      ]
    },
    {
      "cell_type": "markdown",
      "metadata": {
        "id": "W3_YJNR5xs9o"
      },
      "source": [
        "9. Read toothpaste sales data of each month and show it using a scatter plot"
      ]
    },
    {
      "cell_type": "code",
      "metadata": {
        "colab": {
          "base_uri": "https://localhost:8080/",
          "height": 514
        },
        "id": "Bzlg1oRqxuDg",
        "outputId": "0b7e5d2f-82e6-4fd4-9576-4dd5004d52c8"
      },
      "source": [
        "plt.figure(figsize=(12,8))\n",
        "plt.plot(sales_data)\n",
        "plt.legend(['facecream',\n",
        " 'facewash',\n",
        " 'toothpaste',\n",
        " 'bathingsoap',\n",
        " 'shampoo',\n",
        " 'moisturizer'])\n",
        "plt.ylabel('sales')\n",
        "plt.xlabel('months')"
      ],
      "execution_count": 91,
      "outputs": [
        {
          "output_type": "execute_result",
          "data": {
            "text/plain": [
              "Text(0.5, 0, 'months')"
            ]
          },
          "metadata": {},
          "execution_count": 91
        },
        {
          "output_type": "display_data",
          "data": {
            "image/png": "[encoded data removed]",
            "text/plain": [
              "<Figure size 864x576 with 1 Axes>"
            ]
          },
          "metadata": {
            "needs_background": "light"
          }
        }
      ]
    },
    {
      "cell_type": "markdown",
      "metadata": {
        "id": "a_t_sXSUyAY2"
      },
      "source": [
        "10. Read face cream and face wash product sales data and show it using the bar chart"
      ]
    },
    {
      "cell_type": "code",
      "metadata": {
        "colab": {
          "base_uri": "https://localhost:8080/",
          "height": 518
        },
        "id": "5amnPm6EyBLk",
        "outputId": "a4bc730a-b8e4-48db-8c61-0e77bd8b3b37"
      },
      "source": [
        "sales.plot(x='month_number',y=[\"facecream\",\"facewash\"],kind='bar',figsize=(9,8))"
      ],
      "execution_count": 92,
      "outputs": [
        {
          "output_type": "execute_result",
          "data": {
            "text/plain": [
              "<matplotlib.axes._subplots.AxesSubplot at 0x7fb2ad874b10>"
            ]
          },
          "metadata": {},
          "execution_count": 92
        },
        {
          "output_type": "display_data",
          "data": {
            "image/png": "[encoded data removed]",
            "text/plain": [
              "<Figure size 648x576 with 1 Axes>"
            ]
          },
          "metadata": {
            "needs_background": "light"
          }
        }
      ]
    },
    {
      "cell_type": "markdown",
      "metadata": {
        "id": "DBaUGbcAyIgh"
      },
      "source": [
        "11. Read Bathing soap and face wash data of all months and display it using a Subplot"
      ]
    },
    {
      "cell_type": "code",
      "metadata": {
        "colab": {
          "base_uri": "https://localhost:8080/",
          "height": 640
        },
        "id": "YY6bL-smyKCY",
        "outputId": "49c0c176-c7c7-49ed-ed5c-1350097c2beb"
      },
      "source": [
        "fig, axes = plt.subplots(2,1,figsize=(10,10),sharey=True)\n",
        "\n",
        "sns.lineplot(ax=axes[0],x='month_number',y='bathingsoap',data=sales)\n",
        "axes[0].set_title('bathing_soap')\n",
        "\n",
        "sns.lineplot(ax=axes[1],x='month_number',y='facewash',data=sales)\n",
        "axes[1].set_title('facewash')"
      ],
      "execution_count": 93,
      "outputs": [
        {
          "output_type": "execute_result",
          "data": {
            "text/plain": [
              "Text(0.5, 1.0, 'facewash')"
            ]
          },
          "metadata": {},
          "execution_count": 93
        },
        {
          "output_type": "display_data",
          "data": {
            "image/png": "[encoded data removed]",
            "text/plain": [
              "<Figure size 720x720 with 2 Axes>"
            ]
          },
          "metadata": {
            "needs_background": "light"
          }
        }
      ]
    },
    {
      "cell_type": "markdown",
      "metadata": {
        "id": "Zv12PQ8LyVcc"
      },
      "source": [
        "12. Calculate total sale data for last year for each product and show it using a Pie chart"
      ]
    },
    {
      "cell_type": "code",
      "metadata": {
        "colab": {
          "base_uri": "https://localhost:8080/",
          "height": 482
        },
        "id": "cjU7OrZTyWU0",
        "outputId": "a3482e3b-2a62-4865-dbdd-af3654f7dc81"
      },
      "source": [
        "plt.figure(figsize=(18,8))\n",
        "labels = ['FaceCream', 'FaseWash', 'ToothPaste', 'Bathing soap', 'Shampoo', 'Moisturizer']\n",
        "salesData   = [sales['facecream'].sum(), sales['facewash'].sum(), sales['toothpaste'].sum(), \n",
        "         sales['bathingsoap'].sum(), sales['shampoo'].sum(), sales['moisturizer'].sum()]\n",
        "plt.axis(\"equal\")\n",
        "plt.pie(salesData, labels=labels, autopct='%1.1f%%')\n",
        "plt.legend()\n",
        "plt.title('Sales data')\n",
        "plt.show()"
      ],
      "execution_count": 94,
      "outputs": [
        {
          "output_type": "display_data",
          "data": {
            "image/png": "[encoded data removed]",
            "text/plain": [
              "<Figure size 1296x576 with 1 Axes>"
            ]
          },
          "metadata": {}
        }
      ]
    }
  ]
}